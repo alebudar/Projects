{
 "cells": [
  {
   "cell_type": "markdown",
   "metadata": {},
   "source": [
    "## Data Analysis of Asana Rebel's November Marketing Campaigns \n",
    "\n",
    "                            Alejandra Budar\n"
   ]
  },
  {
   "cell_type": "markdown",
   "metadata": {},
   "source": [
    "."
   ]
  },
  {
   "cell_type": "markdown",
   "metadata": {},
   "source": [
    "#### Contents:\n",
    "\n",
    "I. Analysis of the 2 web campaigns\n",
    "\n",
    "II. Analysis of the 3 app campaigns\n",
    "\n",
    "III. Analysis of the overall performance of web vs. app campaigns\n",
    "\n",
    "IV. Customer segmentation using machine learning \n",
    "\n",
    "V. Final recommendations "
   ]
  },
  {
   "cell_type": "markdown",
   "metadata": {},
   "source": [
    "."
   ]
  },
  {
   "cell_type": "markdown",
   "metadata": {},
   "source": [
    "### I. Analysis of Web Campaigns "
   ]
  },
  {
   "cell_type": "markdown",
   "metadata": {},
   "source": [
    "Here, I am merely opening and changing the data type of certain columns to prepare for the analysis that follows."
   ]
  },
  {
   "cell_type": "code",
   "execution_count": 464,
   "metadata": {
    "scrolled": false
   },
   "outputs": [
    {
     "data": {
      "text/html": [
       "<div>\n",
       "<style scoped>\n",
       "    .dataframe tbody tr th:only-of-type {\n",
       "        vertical-align: middle;\n",
       "    }\n",
       "\n",
       "    .dataframe tbody tr th {\n",
       "        vertical-align: top;\n",
       "    }\n",
       "\n",
       "    .dataframe thead th {\n",
       "        text-align: right;\n",
       "    }\n",
       "</style>\n",
       "<table border=\"1\" class=\"dataframe\">\n",
       "  <thead>\n",
       "    <tr style=\"text-align: right;\">\n",
       "      <th></th>\n",
       "      <th>campaign_name</th>\n",
       "      <th>sk_user</th>\n",
       "      <th>install_timestamp</th>\n",
       "      <th>sk_web_user</th>\n",
       "      <th>session_id</th>\n",
       "      <th>session_started_timestamp</th>\n",
       "    </tr>\n",
       "  </thead>\n",
       "  <tbody>\n",
       "    <tr>\n",
       "      <th>0</th>\n",
       "      <td>web_campaign_world</td>\n",
       "      <td>5725231534</td>\n",
       "      <td>2020-11-25 08:29:44</td>\n",
       "      <td>7805472</td>\n",
       "      <td>b5acd949-b231-49ef-8123-f37866e73766</td>\n",
       "      <td>2020-11-25 08:21:31</td>\n",
       "    </tr>\n",
       "    <tr>\n",
       "      <th>1</th>\n",
       "      <td>web_campaign_world</td>\n",
       "      <td>5725235203</td>\n",
       "      <td>2020-11-23 21:00:41</td>\n",
       "      <td>7732928</td>\n",
       "      <td>3a0081fe-8eca-4d6d-8d57-2002fe5a558e</td>\n",
       "      <td>2020-11-23 20:42:08</td>\n",
       "    </tr>\n",
       "    <tr>\n",
       "      <th>2</th>\n",
       "      <td>web_campaign_world</td>\n",
       "      <td>5725781810</td>\n",
       "      <td>2020-11-24 05:58:23</td>\n",
       "      <td>7753767</td>\n",
       "      <td>24af3e7c-e205-4d79-9872-3cb6cd4c26a3</td>\n",
       "      <td>2020-11-24 05:53:08</td>\n",
       "    </tr>\n",
       "    <tr>\n",
       "      <th>3</th>\n",
       "      <td>web_campaign_world</td>\n",
       "      <td>5727750686</td>\n",
       "      <td>2020-11-24 08:55:02</td>\n",
       "      <td>7766318</td>\n",
       "      <td>d67858d2-fb10-400c-b5c6-a68eaecbf952</td>\n",
       "      <td>2020-11-24 08:46:36</td>\n",
       "    </tr>\n",
       "    <tr>\n",
       "      <th>4</th>\n",
       "      <td>web_campaign_world</td>\n",
       "      <td>5729974504</td>\n",
       "      <td>2020-11-22 22:13:03</td>\n",
       "      <td>5759074</td>\n",
       "      <td>59d664a5-ff5b-4c67-87be-7b5bbf8d79c4</td>\n",
       "      <td>2020-11-22 22:06:35</td>\n",
       "    </tr>\n",
       "    <tr>\n",
       "      <th>...</th>\n",
       "      <td>...</td>\n",
       "      <td>...</td>\n",
       "      <td>...</td>\n",
       "      <td>...</td>\n",
       "      <td>...</td>\n",
       "      <td>...</td>\n",
       "    </tr>\n",
       "    <tr>\n",
       "      <th>1010</th>\n",
       "      <td>web_campaign_world_promo</td>\n",
       "      <td>88392840</td>\n",
       "      <td>2020-11-27 20:27:28</td>\n",
       "      <td>7864335</td>\n",
       "      <td>3a28c627-c7f9-4eb0-be8c-bac61a79ac3b</td>\n",
       "      <td>2020-11-27 20:10:40</td>\n",
       "    </tr>\n",
       "    <tr>\n",
       "      <th>1011</th>\n",
       "      <td>web_campaign_world_promo</td>\n",
       "      <td>88598345</td>\n",
       "      <td>2020-11-28 07:31:20</td>\n",
       "      <td>7897403</td>\n",
       "      <td>fa4a1cc6-632e-4101-b61c-776b2d905e8a</td>\n",
       "      <td>2020-11-28 07:24:11</td>\n",
       "    </tr>\n",
       "    <tr>\n",
       "      <th>1012</th>\n",
       "      <td>web_campaign_world_promo</td>\n",
       "      <td>944805144</td>\n",
       "      <td>2020-11-28 10:42:27</td>\n",
       "      <td>7892528</td>\n",
       "      <td>d1d5a891-45a4-4663-be96-a31cde53360e</td>\n",
       "      <td>2020-11-28 10:35:01</td>\n",
       "    </tr>\n",
       "    <tr>\n",
       "      <th>1013</th>\n",
       "      <td>web_campaign_world_promo</td>\n",
       "      <td>992758661</td>\n",
       "      <td>2020-11-27 09:23:36</td>\n",
       "      <td>7861783</td>\n",
       "      <td>af0f3909-7d32-40bd-a4dc-7babbd04b331</td>\n",
       "      <td>2020-11-27 09:08:49</td>\n",
       "    </tr>\n",
       "    <tr>\n",
       "      <th>1014</th>\n",
       "      <td>web_campaign_world_promo</td>\n",
       "      <td>992758661</td>\n",
       "      <td>2020-11-27 09:23:36</td>\n",
       "      <td>7861783</td>\n",
       "      <td>d78edcb9-2e43-4efe-836d-351a4a89b35d</td>\n",
       "      <td>2020-11-27 12:42:29</td>\n",
       "    </tr>\n",
       "  </tbody>\n",
       "</table>\n",
       "<p>1015 rows × 6 columns</p>\n",
       "</div>"
      ],
      "text/plain": [
       "                 campaign_name     sk_user   install_timestamp  sk_web_user  \\\n",
       "0           web_campaign_world  5725231534 2020-11-25 08:29:44      7805472   \n",
       "1           web_campaign_world  5725235203 2020-11-23 21:00:41      7732928   \n",
       "2           web_campaign_world  5725781810 2020-11-24 05:58:23      7753767   \n",
       "3           web_campaign_world  5727750686 2020-11-24 08:55:02      7766318   \n",
       "4           web_campaign_world  5729974504 2020-11-22 22:13:03      5759074   \n",
       "...                        ...         ...                 ...          ...   \n",
       "1010  web_campaign_world_promo    88392840 2020-11-27 20:27:28      7864335   \n",
       "1011  web_campaign_world_promo    88598345 2020-11-28 07:31:20      7897403   \n",
       "1012  web_campaign_world_promo   944805144 2020-11-28 10:42:27      7892528   \n",
       "1013  web_campaign_world_promo   992758661 2020-11-27 09:23:36      7861783   \n",
       "1014  web_campaign_world_promo   992758661 2020-11-27 09:23:36      7861783   \n",
       "\n",
       "                                session_id session_started_timestamp  \n",
       "0     b5acd949-b231-49ef-8123-f37866e73766       2020-11-25 08:21:31  \n",
       "1     3a0081fe-8eca-4d6d-8d57-2002fe5a558e       2020-11-23 20:42:08  \n",
       "2     24af3e7c-e205-4d79-9872-3cb6cd4c26a3       2020-11-24 05:53:08  \n",
       "3     d67858d2-fb10-400c-b5c6-a68eaecbf952       2020-11-24 08:46:36  \n",
       "4     59d664a5-ff5b-4c67-87be-7b5bbf8d79c4       2020-11-22 22:06:35  \n",
       "...                                    ...                       ...  \n",
       "1010  3a28c627-c7f9-4eb0-be8c-bac61a79ac3b       2020-11-27 20:10:40  \n",
       "1011  fa4a1cc6-632e-4101-b61c-776b2d905e8a       2020-11-28 07:24:11  \n",
       "1012  d1d5a891-45a4-4663-be96-a31cde53360e       2020-11-28 10:35:01  \n",
       "1013  af0f3909-7d32-40bd-a4dc-7babbd04b331       2020-11-27 09:08:49  \n",
       "1014  d78edcb9-2e43-4efe-836d-351a4a89b35d       2020-11-27 12:42:29  \n",
       "\n",
       "[1015 rows x 6 columns]"
      ]
     },
     "execution_count": 464,
     "metadata": {},
     "output_type": "execute_result"
    }
   ],
   "source": [
    "web_installs3= pd.read_csv('/Users/alejandrabudar/Downloads/web_installs3.csv')\n",
    "web_installs3.install_timestamp = pd.to_datetime(web_installs3.install_timestamp)\n",
    "web_installs3.session_started_timestamp = pd.to_datetime(web_installs3.session_started_timestamp)\n",
    "web_installs3"
   ]
  },
  {
   "cell_type": "code",
   "execution_count": 211,
   "metadata": {},
   "outputs": [
    {
     "data": {
      "text/html": [
       "<div>\n",
       "<style scoped>\n",
       "    .dataframe tbody tr th:only-of-type {\n",
       "        vertical-align: middle;\n",
       "    }\n",
       "\n",
       "    .dataframe tbody tr th {\n",
       "        vertical-align: top;\n",
       "    }\n",
       "\n",
       "    .dataframe thead th {\n",
       "        text-align: right;\n",
       "    }\n",
       "</style>\n",
       "<table border=\"1\" class=\"dataframe\">\n",
       "  <thead>\n",
       "    <tr style=\"text-align: right;\">\n",
       "      <th></th>\n",
       "      <th>campaign_name</th>\n",
       "      <th>spend_date</th>\n",
       "      <th>impressions</th>\n",
       "      <th>spend</th>\n",
       "    </tr>\n",
       "  </thead>\n",
       "  <tbody>\n",
       "    <tr>\n",
       "      <th>0</th>\n",
       "      <td>web_campaign_world</td>\n",
       "      <td>2020-11-19 00:00:00</td>\n",
       "      <td>212329</td>\n",
       "      <td>401</td>\n",
       "    </tr>\n",
       "    <tr>\n",
       "      <th>1</th>\n",
       "      <td>web_campaign_world</td>\n",
       "      <td>2020-11-26 00:00:00</td>\n",
       "      <td>901318</td>\n",
       "      <td>6082</td>\n",
       "    </tr>\n",
       "    <tr>\n",
       "      <th>2</th>\n",
       "      <td>web_campaign_world</td>\n",
       "      <td>2020-11-21 00:00:00</td>\n",
       "      <td>622741</td>\n",
       "      <td>3776</td>\n",
       "    </tr>\n",
       "    <tr>\n",
       "      <th>3</th>\n",
       "      <td>web_campaign_world_promo</td>\n",
       "      <td>2020-11-29 00:00:00</td>\n",
       "      <td>939889</td>\n",
       "      <td>8696</td>\n",
       "    </tr>\n",
       "    <tr>\n",
       "      <th>4</th>\n",
       "      <td>web_campaign_world_promo</td>\n",
       "      <td>2020-11-28 00:00:00</td>\n",
       "      <td>690705</td>\n",
       "      <td>7460</td>\n",
       "    </tr>\n",
       "    <tr>\n",
       "      <th>5</th>\n",
       "      <td>web_campaign_world</td>\n",
       "      <td>2020-11-30 00:00:00</td>\n",
       "      <td>656480</td>\n",
       "      <td>4392</td>\n",
       "    </tr>\n",
       "    <tr>\n",
       "      <th>6</th>\n",
       "      <td>web_campaign_world</td>\n",
       "      <td>2020-11-28 00:00:00</td>\n",
       "      <td>1354546</td>\n",
       "      <td>11454</td>\n",
       "    </tr>\n",
       "    <tr>\n",
       "      <th>7</th>\n",
       "      <td>web_campaign_world</td>\n",
       "      <td>2020-11-18 00:00:00</td>\n",
       "      <td>440435</td>\n",
       "      <td>1626</td>\n",
       "    </tr>\n",
       "    <tr>\n",
       "      <th>8</th>\n",
       "      <td>web_campaign_world_promo</td>\n",
       "      <td>2020-11-27 00:00:00</td>\n",
       "      <td>382632</td>\n",
       "      <td>6649</td>\n",
       "    </tr>\n",
       "    <tr>\n",
       "      <th>9</th>\n",
       "      <td>web_campaign_world_promo</td>\n",
       "      <td>2020-11-26 00:00:00</td>\n",
       "      <td>208110</td>\n",
       "      <td>2891</td>\n",
       "    </tr>\n",
       "    <tr>\n",
       "      <th>10</th>\n",
       "      <td>web_campaign_world</td>\n",
       "      <td>2020-11-17 00:00:00</td>\n",
       "      <td>440302</td>\n",
       "      <td>2079</td>\n",
       "    </tr>\n",
       "    <tr>\n",
       "      <th>11</th>\n",
       "      <td>web_campaign_world</td>\n",
       "      <td>2020-11-29 00:00:00</td>\n",
       "      <td>1201948</td>\n",
       "      <td>8883</td>\n",
       "    </tr>\n",
       "    <tr>\n",
       "      <th>12</th>\n",
       "      <td>web_campaign_world</td>\n",
       "      <td>2020-11-22 00:00:00</td>\n",
       "      <td>1149153</td>\n",
       "      <td>4174</td>\n",
       "    </tr>\n",
       "    <tr>\n",
       "      <th>13</th>\n",
       "      <td>web_campaign_world</td>\n",
       "      <td>2020-11-13 00:00:00</td>\n",
       "      <td>111289</td>\n",
       "      <td>137</td>\n",
       "    </tr>\n",
       "    <tr>\n",
       "      <th>14</th>\n",
       "      <td>web_campaign_world</td>\n",
       "      <td>2020-11-24 00:00:00</td>\n",
       "      <td>1049217</td>\n",
       "      <td>4993</td>\n",
       "    </tr>\n",
       "    <tr>\n",
       "      <th>15</th>\n",
       "      <td>web_campaign_world</td>\n",
       "      <td>2020-11-14 00:00:00</td>\n",
       "      <td>762704</td>\n",
       "      <td>2054</td>\n",
       "    </tr>\n",
       "    <tr>\n",
       "      <th>16</th>\n",
       "      <td>web_campaign_world</td>\n",
       "      <td>2020-11-20 00:00:00</td>\n",
       "      <td>145469</td>\n",
       "      <td>242</td>\n",
       "    </tr>\n",
       "    <tr>\n",
       "      <th>17</th>\n",
       "      <td>web_campaign_world</td>\n",
       "      <td>2020-11-27 00:00:00</td>\n",
       "      <td>984685</td>\n",
       "      <td>7428</td>\n",
       "    </tr>\n",
       "    <tr>\n",
       "      <th>18</th>\n",
       "      <td>web_campaign_world</td>\n",
       "      <td>2020-11-23 00:00:00</td>\n",
       "      <td>1132336</td>\n",
       "      <td>4527</td>\n",
       "    </tr>\n",
       "    <tr>\n",
       "      <th>19</th>\n",
       "      <td>web_campaign_world</td>\n",
       "      <td>2020-11-25 00:00:00</td>\n",
       "      <td>958780</td>\n",
       "      <td>6075</td>\n",
       "    </tr>\n",
       "    <tr>\n",
       "      <th>20</th>\n",
       "      <td>web_campaign_world_promo</td>\n",
       "      <td>2020-11-30 00:00:00</td>\n",
       "      <td>721042</td>\n",
       "      <td>6669</td>\n",
       "    </tr>\n",
       "    <tr>\n",
       "      <th>21</th>\n",
       "      <td>web_campaign_world</td>\n",
       "      <td>2020-11-15 00:00:00</td>\n",
       "      <td>439274</td>\n",
       "      <td>885</td>\n",
       "    </tr>\n",
       "    <tr>\n",
       "      <th>22</th>\n",
       "      <td>web_campaign_world</td>\n",
       "      <td>2020-11-16 00:00:00</td>\n",
       "      <td>516010</td>\n",
       "      <td>1784</td>\n",
       "    </tr>\n",
       "  </tbody>\n",
       "</table>\n",
       "</div>"
      ],
      "text/plain": [
       "               campaign_name           spend_date  impressions  spend\n",
       "0         web_campaign_world  2020-11-19 00:00:00       212329    401\n",
       "1         web_campaign_world  2020-11-26 00:00:00       901318   6082\n",
       "2         web_campaign_world  2020-11-21 00:00:00       622741   3776\n",
       "3   web_campaign_world_promo  2020-11-29 00:00:00       939889   8696\n",
       "4   web_campaign_world_promo  2020-11-28 00:00:00       690705   7460\n",
       "5         web_campaign_world  2020-11-30 00:00:00       656480   4392\n",
       "6         web_campaign_world  2020-11-28 00:00:00      1354546  11454\n",
       "7         web_campaign_world  2020-11-18 00:00:00       440435   1626\n",
       "8   web_campaign_world_promo  2020-11-27 00:00:00       382632   6649\n",
       "9   web_campaign_world_promo  2020-11-26 00:00:00       208110   2891\n",
       "10        web_campaign_world  2020-11-17 00:00:00       440302   2079\n",
       "11        web_campaign_world  2020-11-29 00:00:00      1201948   8883\n",
       "12        web_campaign_world  2020-11-22 00:00:00      1149153   4174\n",
       "13        web_campaign_world  2020-11-13 00:00:00       111289    137\n",
       "14        web_campaign_world  2020-11-24 00:00:00      1049217   4993\n",
       "15        web_campaign_world  2020-11-14 00:00:00       762704   2054\n",
       "16        web_campaign_world  2020-11-20 00:00:00       145469    242\n",
       "17        web_campaign_world  2020-11-27 00:00:00       984685   7428\n",
       "18        web_campaign_world  2020-11-23 00:00:00      1132336   4527\n",
       "19        web_campaign_world  2020-11-25 00:00:00       958780   6075\n",
       "20  web_campaign_world_promo  2020-11-30 00:00:00       721042   6669\n",
       "21        web_campaign_world  2020-11-15 00:00:00       439274    885\n",
       "22        web_campaign_world  2020-11-16 00:00:00       516010   1784"
      ]
     },
     "execution_count": 211,
     "metadata": {},
     "output_type": "execute_result"
    }
   ],
   "source": [
    "import pandas as pd\n",
    "\n",
    "web_spend= pd.read_csv('/Users/alejandrabudar/Downloads/web_spend.csv')\n",
    "web_spend"
   ]
  },
  {
   "cell_type": "markdown",
   "metadata": {},
   "source": [
    "."
   ]
  },
  {
   "cell_type": "markdown",
   "metadata": {},
   "source": [
    "I first began by analyzing whether there was a correlation between the amount spent on the web campaigns and the number of impressions achieved. Below, we can see that there is a generally positive association between the two variables: as the amount spent increases, so does the number of impressions and vice-versa. However, there are a few instances where more money was spent and less impessions achieved. Minimizing these outliers (low performing campaigns) will be essential to maximizing ROI."
   ]
  },
  {
   "cell_type": "code",
   "execution_count": 671,
   "metadata": {},
   "outputs": [
    {
     "data": {
      "text/plain": [
       "<seaborn.axisgrid.PairGrid at 0x7f9fd0127760>"
      ]
     },
     "execution_count": 671,
     "metadata": {},
     "output_type": "execute_result"
    },
    {
     "data": {
      "image/png": "[encoded data removed]",
      "text/plain": [
       "<Figure size 360x360 with 6 Axes>"
      ]
     },
     "metadata": {
      "needs_background": "light"
     },
     "output_type": "display_data"
    }
   ],
   "source": [
    "sns.pairplot(web_spend)"
   ]
  },
  {
   "cell_type": "markdown",
   "metadata": {},
   "source": [
    "Next, I familiarized myself with the general context of each individual campaign. Below I answered the following question:\n",
    " 1) How many days did the campaigns run for?\n",
    " \n",
    " 2) How much was spent for each campaign?\n",
    " \n",
    " 3) How much was spent per day for each campaign?\n",
    " \n",
    " 4) How many conversions did each campaign generate?\n",
    "\n",
    "\n",
    "\n"
   ]
  },
  {
   "cell_type": "markdown",
   "metadata": {},
   "source": [
    "### 1"
   ]
  },
  {
   "cell_type": "code",
   "execution_count": 616,
   "metadata": {},
   "outputs": [
    {
     "data": {
      "text/html": [
       "<div>\n",
       "<style scoped>\n",
       "    .dataframe tbody tr th:only-of-type {\n",
       "        vertical-align: middle;\n",
       "    }\n",
       "\n",
       "    .dataframe tbody tr th {\n",
       "        vertical-align: top;\n",
       "    }\n",
       "\n",
       "    .dataframe thead th {\n",
       "        text-align: right;\n",
       "    }\n",
       "</style>\n",
       "<table border=\"1\" class=\"dataframe\">\n",
       "  <thead>\n",
       "    <tr style=\"text-align: right;\">\n",
       "      <th></th>\n",
       "      <th>Name of Campaign</th>\n",
       "      <th>Length of Campaign (Days)</th>\n",
       "    </tr>\n",
       "  </thead>\n",
       "  <tbody>\n",
       "    <tr>\n",
       "      <th>0</th>\n",
       "      <td>web_campaign_world</td>\n",
       "      <td>18</td>\n",
       "    </tr>\n",
       "    <tr>\n",
       "      <th>1</th>\n",
       "      <td>web_campaign_world_promo</td>\n",
       "      <td>5</td>\n",
       "    </tr>\n",
       "  </tbody>\n",
       "</table>\n",
       "</div>"
      ],
      "text/plain": [
       "           Name of Campaign  Length of Campaign (Days)\n",
       "0        web_campaign_world                         18\n",
       "1  web_campaign_world_promo                          5"
      ]
     },
     "execution_count": 616,
     "metadata": {},
     "output_type": "execute_result"
    }
   ],
   "source": [
    "num_of_days= web_spend['campaign_name'].value_counts(ascending=False).to_frame().reset_index()\n",
    "num_of_days.rename(columns={\"index\": \"Name of Campaign\", \"campaign_name\": \"Length of Campaign (Days)\"})\n"
   ]
  },
  {
   "cell_type": "markdown",
   "metadata": {},
   "source": [
    "### 2"
   ]
  },
  {
   "cell_type": "code",
   "execution_count": 590,
   "metadata": {
    "scrolled": true
   },
   "outputs": [
    {
     "data": {
      "text/html": [
       "<div>\n",
       "<style scoped>\n",
       "    .dataframe tbody tr th:only-of-type {\n",
       "        vertical-align: middle;\n",
       "    }\n",
       "\n",
       "    .dataframe tbody tr th {\n",
       "        vertical-align: top;\n",
       "    }\n",
       "\n",
       "    .dataframe thead th {\n",
       "        text-align: right;\n",
       "    }\n",
       "</style>\n",
       "<table border=\"1\" class=\"dataframe\">\n",
       "  <thead>\n",
       "    <tr style=\"text-align: right;\">\n",
       "      <th></th>\n",
       "      <th>Name of Campaign</th>\n",
       "      <th>Total Amount Spent (Euros)</th>\n",
       "    </tr>\n",
       "  </thead>\n",
       "  <tbody>\n",
       "    <tr>\n",
       "      <th>0</th>\n",
       "      <td>web_campaign_world</td>\n",
       "      <td>70992</td>\n",
       "    </tr>\n",
       "    <tr>\n",
       "      <th>1</th>\n",
       "      <td>web_campaign_world_promo</td>\n",
       "      <td>32365</td>\n",
       "    </tr>\n",
       "  </tbody>\n",
       "</table>\n",
       "</div>"
      ],
      "text/plain": [
       "           Name of Campaign  Total Amount Spent (Euros)\n",
       "0        web_campaign_world                       70992\n",
       "1  web_campaign_world_promo                       32365"
      ]
     },
     "execution_count": 590,
     "metadata": {},
     "output_type": "execute_result"
    }
   ],
   "source": [
    "total_spent= web_spend.groupby('campaign_name')[['spend']].sum().reset_index()\n",
    "total_spent.rename(columns={\"campaign_name\": \"Name of Campaign\", \"spend\": \"Total Amount Spent (Euros)\"})"
   ]
  },
  {
   "cell_type": "markdown",
   "metadata": {},
   "source": [
    "### 3"
   ]
  },
  {
   "cell_type": "code",
   "execution_count": 589,
   "metadata": {},
   "outputs": [
    {
     "data": {
      "text/html": [
       "<div>\n",
       "<style scoped>\n",
       "    .dataframe tbody tr th:only-of-type {\n",
       "        vertical-align: middle;\n",
       "    }\n",
       "\n",
       "    .dataframe tbody tr th {\n",
       "        vertical-align: top;\n",
       "    }\n",
       "\n",
       "    .dataframe thead th {\n",
       "        text-align: right;\n",
       "    }\n",
       "</style>\n",
       "<table border=\"1\" class=\"dataframe\">\n",
       "  <thead>\n",
       "    <tr style=\"text-align: right;\">\n",
       "      <th></th>\n",
       "      <th>Name of Campaign</th>\n",
       "      <th>Avg Amount Spent/Day (Euros)</th>\n",
       "    </tr>\n",
       "  </thead>\n",
       "  <tbody>\n",
       "    <tr>\n",
       "      <th>0</th>\n",
       "      <td>web_campaign_world</td>\n",
       "      <td>3944</td>\n",
       "    </tr>\n",
       "    <tr>\n",
       "      <th>1</th>\n",
       "      <td>web_campaign_world_promo</td>\n",
       "      <td>6473</td>\n",
       "    </tr>\n",
       "  </tbody>\n",
       "</table>\n",
       "</div>"
      ],
      "text/plain": [
       "           Name of Campaign  Avg Amount Spent/Day (Euros)\n",
       "0        web_campaign_world                          3944\n",
       "1  web_campaign_world_promo                          6473"
      ]
     },
     "execution_count": 589,
     "metadata": {},
     "output_type": "execute_result"
    }
   ],
   "source": [
    "avg_spent_per_day= web_spend.groupby('campaign_name')[['spend']].mean().reset_index()\n",
    "avg_spent_per_day.rename(columns={\"campaign_name\": \"Name of Campaign\", \"spend\": \"Avg Amount Spent/Day (Euros)\"})"
   ]
  },
  {
   "cell_type": "markdown",
   "metadata": {},
   "source": [
    "### 4"
   ]
  },
  {
   "cell_type": "code",
   "execution_count": 891,
   "metadata": {},
   "outputs": [
    {
     "data": {
      "text/html": [
       "<div>\n",
       "<style scoped>\n",
       "    .dataframe tbody tr th:only-of-type {\n",
       "        vertical-align: middle;\n",
       "    }\n",
       "\n",
       "    .dataframe tbody tr th {\n",
       "        vertical-align: top;\n",
       "    }\n",
       "\n",
       "    .dataframe thead th {\n",
       "        text-align: right;\n",
       "    }\n",
       "</style>\n",
       "<table border=\"1\" class=\"dataframe\">\n",
       "  <thead>\n",
       "    <tr style=\"text-align: right;\">\n",
       "      <th></th>\n",
       "      <th>Name of Campaign</th>\n",
       "      <th>Num of Conversions</th>\n",
       "    </tr>\n",
       "  </thead>\n",
       "  <tbody>\n",
       "    <tr>\n",
       "      <th>0</th>\n",
       "      <td>web_campaign_world</td>\n",
       "      <td>550</td>\n",
       "    </tr>\n",
       "    <tr>\n",
       "      <th>1</th>\n",
       "      <td>web_campaign_world_promo</td>\n",
       "      <td>171</td>\n",
       "    </tr>\n",
       "  </tbody>\n",
       "</table>\n",
       "</div>"
      ],
      "text/plain": [
       "           Name of Campaign  Num of Conversions\n",
       "0        web_campaign_world                 550\n",
       "1  web_campaign_world_promo                 171"
      ]
     },
     "execution_count": 891,
     "metadata": {},
     "output_type": "execute_result"
    }
   ],
   "source": [
    "campaign_conversion = web_installs3.groupby('campaign_name')[['sk_user']].nunique().apply(lambda x: x.sort_values(ascending=False)).reset_index()\n",
    "campaign_conversion.rename(columns={\"campaign_name\": \"Name of Campaign\", \"sk_user\": \"Num of Conversions\"})"
   ]
  },
  {
   "cell_type": "markdown",
   "metadata": {},
   "source": [
    "."
   ]
  },
  {
   "cell_type": "markdown",
   "metadata": {},
   "source": [
    "After establishing a basic analytical understanding of the campaigns, I took the above information and used it to calculate the cost per action (CPA) for every install obtained from each campaign. Here we see that despite having a lower total amount spent on the Web Campaign World Promo Campaign, it was 32% more expensive in terms of CPA.  "
   ]
  },
  {
   "cell_type": "code",
   "execution_count": 613,
   "metadata": {},
   "outputs": [
    {
     "name": "stdout",
     "output_type": "stream",
     "text": [
      "CPA -- cost per action (€ /intall)\n",
      "\n",
      "Web Campaign World: 129.08\n",
      "Web Campaign World Promo: 189.27\n"
     ]
    }
   ],
   "source": [
    "print('CPA -- cost per action (€ /intall)')\n",
    "print ('')\n",
    "print('Web Campaign World:', total_spent.spend.div(campaign_conversion.sk_user)[0].round(2)) \n",
    "print('Web Campaign World Promo:', total_spent.spend.div(campaign_conversion.sk_user).round(2)[1])\n"
   ]
  },
  {
   "cell_type": "markdown",
   "metadata": {},
   "source": [
    "."
   ]
  },
  {
   "cell_type": "markdown",
   "metadata": {},
   "source": [
    "Assuming a 1:1 relationship between the number of unique users and the number of  installs, so only 1 install per each new user, I calculated the average number of installs per day. This was interesting because despite having lasted only 5 days and having a higher CPA, Web Campaign World Promo performed better in this metric than Web Campaign World."
   ]
  },
  {
   "cell_type": "code",
   "execution_count": 620,
   "metadata": {},
   "outputs": [
    {
     "name": "stdout",
     "output_type": "stream",
     "text": [
      "Avg. Installs per day:\n",
      "\n",
      "Web Campaign World: 30.56\n",
      "Web Campaign World Promo: 34.2\n"
     ]
    }
   ],
   "source": [
    "print('Avg. Installs per day:')\n",
    "print ('')\n",
    "print('Web Campaign World:', campaign_conversion.sk_user.div(num_of_days.campaign_name)[0].round(2))\n",
    "print('Web Campaign World Promo:', campaign_conversion.sk_user.div(num_of_days.campaign_name)[1])"
   ]
  },
  {
   "cell_type": "markdown",
   "metadata": {},
   "source": [
    "."
   ]
  },
  {
   "cell_type": "markdown",
   "metadata": {},
   "source": [
    "I then decided to analyze the web sessions data."
   ]
  },
  {
   "cell_type": "markdown",
   "metadata": {},
   "source": [
    "I first analyzed the number of web sessions it took before a user finally installed the app. As we can see below, the majority of users download the app after only one session, however, there are still some that take longer."
   ]
  },
  {
   "cell_type": "code",
   "execution_count": 670,
   "metadata": {},
   "outputs": [
    {
     "name": "stdout",
     "output_type": "stream",
     "text": [
      "Median num of sessions / sk_user    1.0\n",
      "dtype: float64\n"
     ]
    },
    {
     "data": {
      "image/png": "[encoded data removed]",
      "text/plain": [
       "<Figure size 432x288 with 1 Axes>"
      ]
     },
     "metadata": {
      "needs_background": "light"
     },
     "output_type": "display_data"
    }
   ],
   "source": [
    "import seaborn as sns\n",
    "\n",
    "df1=web_installs3.groupby(['campaign_name', 'sk_user'],as_index=False)[['sk_user']].count()\n",
    "sns.histplot(data=df1, x= 'sk_user', hue='campaign_name')\n",
    "plt.xlabel(\"Num of Sessions\")\n",
    "print( 'Median num of sessions /' , num_of_sessions.median())\n"
   ]
  },
  {
   "cell_type": "markdown",
   "metadata": {},
   "source": [
    "."
   ]
  },
  {
   "cell_type": "markdown",
   "metadata": {},
   "source": [
    "Furthermore, I  then utilized the columns 'session_started_timestamp' and 'install_timesamp' to calculate the amount of time between the beginning of the session and when the user actually downloaded the app. The total can be seen in the column 'time_elapsed'. However, to make it easier for calculations I rounded the duration to the nearest minute and placed the value in the column 'time_elapsed_mins'. "
   ]
  },
  {
   "cell_type": "code",
   "execution_count": 466,
   "metadata": {
    "scrolled": true
   },
   "outputs": [
    {
     "data": {
      "text/html": [
       "<div>\n",
       "<style scoped>\n",
       "    .dataframe tbody tr th:only-of-type {\n",
       "        vertical-align: middle;\n",
       "    }\n",
       "\n",
       "    .dataframe tbody tr th {\n",
       "        vertical-align: top;\n",
       "    }\n",
       "\n",
       "    .dataframe thead th {\n",
       "        text-align: right;\n",
       "    }\n",
       "</style>\n",
       "<table border=\"1\" class=\"dataframe\">\n",
       "  <thead>\n",
       "    <tr style=\"text-align: right;\">\n",
       "      <th></th>\n",
       "      <th>campaign_name</th>\n",
       "      <th>sk_user</th>\n",
       "      <th>install_timestamp</th>\n",
       "      <th>sk_web_user</th>\n",
       "      <th>session_id</th>\n",
       "      <th>session_started_timestamp</th>\n",
       "      <th>time_elapsed</th>\n",
       "      <th>time_elapsed_mins</th>\n",
       "    </tr>\n",
       "  </thead>\n",
       "  <tbody>\n",
       "    <tr>\n",
       "      <th>0</th>\n",
       "      <td>web_campaign_world</td>\n",
       "      <td>5725231534</td>\n",
       "      <td>2020-11-25 08:29:44</td>\n",
       "      <td>7805472</td>\n",
       "      <td>b5acd949-b231-49ef-8123-f37866e73766</td>\n",
       "      <td>2020-11-25 08:21:31</td>\n",
       "      <td>0 days 00:08:13</td>\n",
       "      <td>8.0</td>\n",
       "    </tr>\n",
       "    <tr>\n",
       "      <th>1</th>\n",
       "      <td>web_campaign_world</td>\n",
       "      <td>5725235203</td>\n",
       "      <td>2020-11-23 21:00:41</td>\n",
       "      <td>7732928</td>\n",
       "      <td>3a0081fe-8eca-4d6d-8d57-2002fe5a558e</td>\n",
       "      <td>2020-11-23 20:42:08</td>\n",
       "      <td>0 days 00:18:33</td>\n",
       "      <td>19.0</td>\n",
       "    </tr>\n",
       "    <tr>\n",
       "      <th>2</th>\n",
       "      <td>web_campaign_world</td>\n",
       "      <td>5725781810</td>\n",
       "      <td>2020-11-24 05:58:23</td>\n",
       "      <td>7753767</td>\n",
       "      <td>24af3e7c-e205-4d79-9872-3cb6cd4c26a3</td>\n",
       "      <td>2020-11-24 05:53:08</td>\n",
       "      <td>0 days 00:05:15</td>\n",
       "      <td>5.0</td>\n",
       "    </tr>\n",
       "    <tr>\n",
       "      <th>3</th>\n",
       "      <td>web_campaign_world</td>\n",
       "      <td>5727750686</td>\n",
       "      <td>2020-11-24 08:55:02</td>\n",
       "      <td>7766318</td>\n",
       "      <td>d67858d2-fb10-400c-b5c6-a68eaecbf952</td>\n",
       "      <td>2020-11-24 08:46:36</td>\n",
       "      <td>0 days 00:08:26</td>\n",
       "      <td>8.0</td>\n",
       "    </tr>\n",
       "    <tr>\n",
       "      <th>4</th>\n",
       "      <td>web_campaign_world</td>\n",
       "      <td>5729974504</td>\n",
       "      <td>2020-11-22 22:13:03</td>\n",
       "      <td>5759074</td>\n",
       "      <td>59d664a5-ff5b-4c67-87be-7b5bbf8d79c4</td>\n",
       "      <td>2020-11-22 22:06:35</td>\n",
       "      <td>0 days 00:06:28</td>\n",
       "      <td>6.0</td>\n",
       "    </tr>\n",
       "    <tr>\n",
       "      <th>...</th>\n",
       "      <td>...</td>\n",
       "      <td>...</td>\n",
       "      <td>...</td>\n",
       "      <td>...</td>\n",
       "      <td>...</td>\n",
       "      <td>...</td>\n",
       "      <td>...</td>\n",
       "      <td>...</td>\n",
       "    </tr>\n",
       "    <tr>\n",
       "      <th>1010</th>\n",
       "      <td>web_campaign_world_promo</td>\n",
       "      <td>88392840</td>\n",
       "      <td>2020-11-27 20:27:28</td>\n",
       "      <td>7864335</td>\n",
       "      <td>3a28c627-c7f9-4eb0-be8c-bac61a79ac3b</td>\n",
       "      <td>2020-11-27 20:10:40</td>\n",
       "      <td>0 days 00:16:48</td>\n",
       "      <td>17.0</td>\n",
       "    </tr>\n",
       "    <tr>\n",
       "      <th>1011</th>\n",
       "      <td>web_campaign_world_promo</td>\n",
       "      <td>88598345</td>\n",
       "      <td>2020-11-28 07:31:20</td>\n",
       "      <td>7897403</td>\n",
       "      <td>fa4a1cc6-632e-4101-b61c-776b2d905e8a</td>\n",
       "      <td>2020-11-28 07:24:11</td>\n",
       "      <td>0 days 00:07:09</td>\n",
       "      <td>7.0</td>\n",
       "    </tr>\n",
       "    <tr>\n",
       "      <th>1012</th>\n",
       "      <td>web_campaign_world_promo</td>\n",
       "      <td>944805144</td>\n",
       "      <td>2020-11-28 10:42:27</td>\n",
       "      <td>7892528</td>\n",
       "      <td>d1d5a891-45a4-4663-be96-a31cde53360e</td>\n",
       "      <td>2020-11-28 10:35:01</td>\n",
       "      <td>0 days 00:07:26</td>\n",
       "      <td>7.0</td>\n",
       "    </tr>\n",
       "    <tr>\n",
       "      <th>1013</th>\n",
       "      <td>web_campaign_world_promo</td>\n",
       "      <td>992758661</td>\n",
       "      <td>2020-11-27 09:23:36</td>\n",
       "      <td>7861783</td>\n",
       "      <td>af0f3909-7d32-40bd-a4dc-7babbd04b331</td>\n",
       "      <td>2020-11-27 09:08:49</td>\n",
       "      <td>0 days 00:14:47</td>\n",
       "      <td>15.0</td>\n",
       "    </tr>\n",
       "    <tr>\n",
       "      <th>1014</th>\n",
       "      <td>web_campaign_world_promo</td>\n",
       "      <td>992758661</td>\n",
       "      <td>2020-11-27 09:23:36</td>\n",
       "      <td>7861783</td>\n",
       "      <td>d78edcb9-2e43-4efe-836d-351a4a89b35d</td>\n",
       "      <td>2020-11-27 12:42:29</td>\n",
       "      <td>-1 days +20:41:07</td>\n",
       "      <td>1241.0</td>\n",
       "    </tr>\n",
       "  </tbody>\n",
       "</table>\n",
       "<p>1015 rows × 8 columns</p>\n",
       "</div>"
      ],
      "text/plain": [
       "                 campaign_name     sk_user   install_timestamp  sk_web_user  \\\n",
       "0           web_campaign_world  5725231534 2020-11-25 08:29:44      7805472   \n",
       "1           web_campaign_world  5725235203 2020-11-23 21:00:41      7732928   \n",
       "2           web_campaign_world  5725781810 2020-11-24 05:58:23      7753767   \n",
       "3           web_campaign_world  5727750686 2020-11-24 08:55:02      7766318   \n",
       "4           web_campaign_world  5729974504 2020-11-22 22:13:03      5759074   \n",
       "...                        ...         ...                 ...          ...   \n",
       "1010  web_campaign_world_promo    88392840 2020-11-27 20:27:28      7864335   \n",
       "1011  web_campaign_world_promo    88598345 2020-11-28 07:31:20      7897403   \n",
       "1012  web_campaign_world_promo   944805144 2020-11-28 10:42:27      7892528   \n",
       "1013  web_campaign_world_promo   992758661 2020-11-27 09:23:36      7861783   \n",
       "1014  web_campaign_world_promo   992758661 2020-11-27 09:23:36      7861783   \n",
       "\n",
       "                                session_id session_started_timestamp  \\\n",
       "0     b5acd949-b231-49ef-8123-f37866e73766       2020-11-25 08:21:31   \n",
       "1     3a0081fe-8eca-4d6d-8d57-2002fe5a558e       2020-11-23 20:42:08   \n",
       "2     24af3e7c-e205-4d79-9872-3cb6cd4c26a3       2020-11-24 05:53:08   \n",
       "3     d67858d2-fb10-400c-b5c6-a68eaecbf952       2020-11-24 08:46:36   \n",
       "4     59d664a5-ff5b-4c67-87be-7b5bbf8d79c4       2020-11-22 22:06:35   \n",
       "...                                    ...                       ...   \n",
       "1010  3a28c627-c7f9-4eb0-be8c-bac61a79ac3b       2020-11-27 20:10:40   \n",
       "1011  fa4a1cc6-632e-4101-b61c-776b2d905e8a       2020-11-28 07:24:11   \n",
       "1012  d1d5a891-45a4-4663-be96-a31cde53360e       2020-11-28 10:35:01   \n",
       "1013  af0f3909-7d32-40bd-a4dc-7babbd04b331       2020-11-27 09:08:49   \n",
       "1014  d78edcb9-2e43-4efe-836d-351a4a89b35d       2020-11-27 12:42:29   \n",
       "\n",
       "          time_elapsed  time_elapsed_mins  \n",
       "0      0 days 00:08:13                8.0  \n",
       "1      0 days 00:18:33               19.0  \n",
       "2      0 days 00:05:15                5.0  \n",
       "3      0 days 00:08:26                8.0  \n",
       "4      0 days 00:06:28                6.0  \n",
       "...                ...                ...  \n",
       "1010   0 days 00:16:48               17.0  \n",
       "1011   0 days 00:07:09                7.0  \n",
       "1012   0 days 00:07:26                7.0  \n",
       "1013   0 days 00:14:47               15.0  \n",
       "1014 -1 days +20:41:07             1241.0  \n",
       "\n",
       "[1015 rows x 8 columns]"
      ]
     },
     "execution_count": 466,
     "metadata": {},
     "output_type": "execute_result"
    }
   ],
   "source": [
    "web_installs3['time_elapsed_mins'] = (web_installs3.time_elapsed.dt.seconds/60).round(0)\n",
    "web_installs3"
   ]
  },
  {
   "cell_type": "markdown",
   "metadata": {},
   "source": [
    "During my chat with Max, he mentioned that one of the responsibilities of the position is to identify anomalies within  data. I tried to keep that in mind throughout this analysis and it was during this part of the analysis that I found a discrepancy in the data. Discrepencies such as this one are important to identify since they can suggest bugs that can impact the accuracy of future analysis and create misleading data. \n",
    "\n",
    "If you scroll to the bottom of the above table, you will find that rows 1013 and 1014 refer to the same person, with the id of 992758661, however, this person has 2 sessions attributed to the same installation. In the first session, his/her session length is 15 minutes while their second session lasts 1,241 minutes. I'm not sure what platform was used or how the data was collected, but it appears to be susceptible to issues with multiple tabs or windows. \n",
    "\n",
    "Based on this, I would recommend to monitor the data to see if it was a one-time glitch or if it is a persistant issue in the way campaign data is captured. If the issue is reoccurring, a flagging system could be created via python. The system could involve the following steps:\n",
    "1. Calculating the time elapsed during a session (like in column 'time_elapsed_mins')\n",
    "2. Determining a max session duration (let's say 3 hours) for flagging purposes\n",
    "3. Having python return the index of the row that was flagged (because it was greater than 3 hours) \n",
    "4. Manually review the flagged rows and determine appropriate steps (deletion or not)"
   ]
  },
  {
   "cell_type": "markdown",
   "metadata": {},
   "source": [
    "."
   ]
  },
  {
   "cell_type": "markdown",
   "metadata": {},
   "source": [
    "Now back to the analysis. Next, I reviewed the distribution of the variable 'time_elapsed_mins' previously calculated between the beginning of a session and the installation. The graph below shows that the majority of the users are in the first bin, but the variable varies greatly. The glitch previously mentioned can be seen in the last spike between 1200 and 1400 minutes."
   ]
  },
  {
   "cell_type": "code",
   "execution_count": 637,
   "metadata": {},
   "outputs": [
    {
     "data": {
      "text/plain": [
       "<AxesSubplot:xlabel='time_elapsed_mins', ylabel='Count'>"
      ]
     },
     "execution_count": 637,
     "metadata": {},
     "output_type": "execute_result"
    },
    {
     "data": {
      "image/png": "[encoded data removed]",
      "text/plain": [
       "<Figure size 720x360 with 1 Axes>"
      ]
     },
     "metadata": {
      "needs_background": "light"
     },
     "output_type": "display_data"
    }
   ],
   "source": [
    "fig, ax = pyplot.subplots(figsize=(10, 5))\n",
    "sns.histplot(data=web_installs3, x=\"time_elapsed_mins\", hue=\"campaign_name\",  element=\"step\", bins=5)\n"
   ]
  },
  {
   "cell_type": "markdown",
   "metadata": {},
   "source": [
    "To obtain a better understanding, I looked at the statistics behind the combined data since they followed a similar trend. As we can see, there is a high standard deviation so the mean is not so helpful here. The median is a much better indicator of the time elapsed that most users experience. Ultimately, the median was 19 minutes, which is quite high. Reducing this number is important in order to decrease the number of people falling out of the funnel. \n",
    "\n",
    "Additionally, the other statistics show that the minimum was 0, meaning that some users waste no time in downloading the app, while the first quartile of users spend an average of 7 minutes before downloading. "
   ]
  },
  {
   "cell_type": "code",
   "execution_count": 405,
   "metadata": {},
   "outputs": [
    {
     "data": {
      "text/plain": [
       "count    1015.00\n",
       "mean      322.60\n",
       "std       478.06\n",
       "min         0.00\n",
       "25%         7.00\n",
       "50%        19.00\n",
       "75%       577.50\n",
       "max      1440.00\n",
       "Name: time_elapsed_mins, dtype: float64"
      ]
     },
     "execution_count": 405,
     "metadata": {},
     "output_type": "execute_result"
    }
   ],
   "source": [
    "web_installs3.time_elapsed_mins.describe().round(2)"
   ]
  },
  {
   "cell_type": "code",
   "execution_count": 638,
   "metadata": {},
   "outputs": [
    {
     "name": "stdout",
     "output_type": "stream",
     "text": [
      "The median time elapsed : 19.0 minutes\n"
     ]
    }
   ],
   "source": [
    "print( 'The median time elapsed :', web_installs3.time_elapsed_mins.median(), 'minutes')"
   ]
  },
  {
   "cell_type": "markdown",
   "metadata": {},
   "source": [
    "."
   ]
  },
  {
   "cell_type": "markdown",
   "metadata": {},
   "source": [
    "Furthermore, I looked at the distribution of installs throughout the day. Below, we can see that the highest number of installations for Web Campaign World were in the morning, around 7 am and then again between 15:00 and 19:00. This correlates with the idea that most people go on social media during their morning commmutes and then again after work. \n",
    "\n",
    "For the Web Campaign World Promo, the distribution was a bit more sporadic. There are about 3 main waves for this campaign: from 5 to 10 am, 11 am to 1 pm and from 5 pm to 11pm. Of course, a correlation is difficult to establish since the campaign only lasted 5 days and there could be numerous other confounding variables that can cause such spikes. However, a potential explanation for the pattern is that it mimics the same reasoning as the Web Campaign World, morning commutes and the ending of work, while also including a meal/lunch break when people may also engage in their social media.   "
   ]
  },
  {
   "cell_type": "code",
   "execution_count": 567,
   "metadata": {},
   "outputs": [
    {
     "data": {
      "text/plain": [
       "Text(0, 0.5, 'Number of installations')"
      ]
     },
     "execution_count": 567,
     "metadata": {},
     "output_type": "execute_result"
    },
    {
     "data": {
      "image/png": "[encoded data removed]",
      "text/plain": [
       "<Figure size 864x360 with 1 Axes>"
      ]
     },
     "metadata": {
      "needs_background": "light"
     },
     "output_type": "display_data"
    }
   ],
   "source": [
    "sns.set_palette(\"pastel\",3)\n",
    "fig, ax = pyplot.subplots(figsize=(12, 5))\n",
    "sns.histplot(data=web_installs3, x=web_installs3[\"install_timestamp\"].dt.hour, hue=\"campaign_name\", bins=24 )\n",
    "plt.xlabel(\"Hour of the day\")\n",
    "plt.ylabel(\"Number of installations\")\n"
   ]
  },
  {
   "cell_type": "markdown",
   "metadata": {},
   "source": [
    "."
   ]
  },
  {
   "cell_type": "markdown",
   "metadata": {},
   "source": [
    "When the number of installations is broken down by day, we get the following chart."
   ]
  },
  {
   "cell_type": "code",
   "execution_count": 320,
   "metadata": {},
   "outputs": [
    {
     "data": {
      "text/html": [
       "<div>\n",
       "<style scoped>\n",
       "    .dataframe tbody tr th:only-of-type {\n",
       "        vertical-align: middle;\n",
       "    }\n",
       "\n",
       "    .dataframe tbody tr th {\n",
       "        vertical-align: top;\n",
       "    }\n",
       "\n",
       "    .dataframe thead th {\n",
       "        text-align: right;\n",
       "    }\n",
       "</style>\n",
       "<table border=\"1\" class=\"dataframe\">\n",
       "  <thead>\n",
       "    <tr style=\"text-align: right;\">\n",
       "      <th></th>\n",
       "      <th></th>\n",
       "      <th>count</th>\n",
       "    </tr>\n",
       "    <tr>\n",
       "      <th>campaign_name</th>\n",
       "      <th>install_timestamp</th>\n",
       "      <th></th>\n",
       "    </tr>\n",
       "  </thead>\n",
       "  <tbody>\n",
       "    <tr>\n",
       "      <th rowspan=\"17\" valign=\"top\">web_campaign_world</th>\n",
       "      <th>2020-11-14</th>\n",
       "      <td>30</td>\n",
       "    </tr>\n",
       "    <tr>\n",
       "      <th>2020-11-15</th>\n",
       "      <td>16</td>\n",
       "    </tr>\n",
       "    <tr>\n",
       "      <th>2020-11-16</th>\n",
       "      <td>17</td>\n",
       "    </tr>\n",
       "    <tr>\n",
       "      <th>2020-11-17</th>\n",
       "      <td>21</td>\n",
       "    </tr>\n",
       "    <tr>\n",
       "      <th>2020-11-18</th>\n",
       "      <td>33</td>\n",
       "    </tr>\n",
       "    <tr>\n",
       "      <th>2020-11-19</th>\n",
       "      <td>12</td>\n",
       "    </tr>\n",
       "    <tr>\n",
       "      <th>2020-11-20</th>\n",
       "      <td>2</td>\n",
       "    </tr>\n",
       "    <tr>\n",
       "      <th>2020-11-21</th>\n",
       "      <td>24</td>\n",
       "    </tr>\n",
       "    <tr>\n",
       "      <th>2020-11-22</th>\n",
       "      <td>67</td>\n",
       "    </tr>\n",
       "    <tr>\n",
       "      <th>2020-11-23</th>\n",
       "      <td>51</td>\n",
       "    </tr>\n",
       "    <tr>\n",
       "      <th>2020-11-24</th>\n",
       "      <td>73</td>\n",
       "    </tr>\n",
       "    <tr>\n",
       "      <th>2020-11-25</th>\n",
       "      <td>79</td>\n",
       "    </tr>\n",
       "    <tr>\n",
       "      <th>2020-11-26</th>\n",
       "      <td>52</td>\n",
       "    </tr>\n",
       "    <tr>\n",
       "      <th>2020-11-27</th>\n",
       "      <td>87</td>\n",
       "    </tr>\n",
       "    <tr>\n",
       "      <th>2020-11-28</th>\n",
       "      <td>74</td>\n",
       "    </tr>\n",
       "    <tr>\n",
       "      <th>2020-11-29</th>\n",
       "      <td>57</td>\n",
       "    </tr>\n",
       "    <tr>\n",
       "      <th>2020-11-30</th>\n",
       "      <td>65</td>\n",
       "    </tr>\n",
       "    <tr>\n",
       "      <th rowspan=\"5\" valign=\"top\">web_campaign_world_promo</th>\n",
       "      <th>2020-11-26</th>\n",
       "      <td>21</td>\n",
       "    </tr>\n",
       "    <tr>\n",
       "      <th>2020-11-27</th>\n",
       "      <td>52</td>\n",
       "    </tr>\n",
       "    <tr>\n",
       "      <th>2020-11-28</th>\n",
       "      <td>47</td>\n",
       "    </tr>\n",
       "    <tr>\n",
       "      <th>2020-11-29</th>\n",
       "      <td>67</td>\n",
       "    </tr>\n",
       "    <tr>\n",
       "      <th>2020-11-30</th>\n",
       "      <td>68</td>\n",
       "    </tr>\n",
       "  </tbody>\n",
       "</table>\n",
       "</div>"
      ],
      "text/plain": [
       "                                            count\n",
       "campaign_name            install_timestamp       \n",
       "web_campaign_world       2020-11-14            30\n",
       "                         2020-11-15            16\n",
       "                         2020-11-16            17\n",
       "                         2020-11-17            21\n",
       "                         2020-11-18            33\n",
       "                         2020-11-19            12\n",
       "                         2020-11-20             2\n",
       "                         2020-11-21            24\n",
       "                         2020-11-22            67\n",
       "                         2020-11-23            51\n",
       "                         2020-11-24            73\n",
       "                         2020-11-25            79\n",
       "                         2020-11-26            52\n",
       "                         2020-11-27            87\n",
       "                         2020-11-28            74\n",
       "                         2020-11-29            57\n",
       "                         2020-11-30            65\n",
       "web_campaign_world_promo 2020-11-26            21\n",
       "                         2020-11-27            52\n",
       "                         2020-11-28            47\n",
       "                         2020-11-29            67\n",
       "                         2020-11-30            68"
      ]
     },
     "execution_count": 320,
     "metadata": {},
     "output_type": "execute_result"
    }
   ],
   "source": [
    "df=web_installs2.groupby(['campaign_name', 'install_timestamp'])[['install_timestamp']].count()\n",
    "df.columns = ['count']\n",
    "df"
   ]
  },
  {
   "cell_type": "markdown",
   "metadata": {},
   "source": [
    "The above information can be used in preparation for next year's campaign.\n",
    "\n",
    "In the dates of Web Campaign World, for example, we can see that beginning on the 22nd and onward, the number of installations is consistently over 50 and ends on the 30th at 65. Based on this data, I would suggest shifting the dates of this particular campaign by a week, starting around the 21st instead of the 14th and then extending the end date into December, around the 7th. \n",
    "\n",
    "As for the Web Campaign World Promo, I would suggest extending the dates, since the last day of the campaign, the 30th, was also its highest number of installs. Extending the campaign would allow Asana Rebel to better capitalize on lost opportunities.  \n",
    "\n"
   ]
  },
  {
   "cell_type": "markdown",
   "metadata": {},
   "source": [
    "."
   ]
  },
  {
   "cell_type": "markdown",
   "metadata": {},
   "source": [
    "Next, I combined the sessions data with the amount of revenue generated. However, since users can have multiple sessions, this creates duplicated revenue data. To combat this, I filtered the sk_user column for unique ids only. After doing so, 243 rows were removed."
   ]
  },
  {
   "cell_type": "code",
   "execution_count": 998,
   "metadata": {
    "scrolled": true
   },
   "outputs": [
    {
     "data": {
      "text/html": [
       "<div>\n",
       "<style scoped>\n",
       "    .dataframe tbody tr th:only-of-type {\n",
       "        vertical-align: middle;\n",
       "    }\n",
       "\n",
       "    .dataframe tbody tr th {\n",
       "        vertical-align: top;\n",
       "    }\n",
       "\n",
       "    .dataframe thead th {\n",
       "        text-align: right;\n",
       "    }\n",
       "</style>\n",
       "<table border=\"1\" class=\"dataframe\">\n",
       "  <thead>\n",
       "    <tr style=\"text-align: right;\">\n",
       "      <th></th>\n",
       "      <th>campaign_name</th>\n",
       "      <th>sk_user</th>\n",
       "      <th>install_timestamp</th>\n",
       "      <th>session_started_timestamp</th>\n",
       "      <th>revenue</th>\n",
       "      <th>time_elapsed</th>\n",
       "      <th>time_elapsed_mins</th>\n",
       "    </tr>\n",
       "  </thead>\n",
       "  <tbody>\n",
       "    <tr>\n",
       "      <th>0</th>\n",
       "      <td>web_campaign_world</td>\n",
       "      <td>5760718740</td>\n",
       "      <td>2020-11-26 10:44:07</td>\n",
       "      <td>2020-11-26 04:27:30</td>\n",
       "      <td>25.01</td>\n",
       "      <td>0 days 06:16:37</td>\n",
       "      <td>377.0</td>\n",
       "    </tr>\n",
       "    <tr>\n",
       "      <th>1</th>\n",
       "      <td>web_campaign_world_promo</td>\n",
       "      <td>5760787444</td>\n",
       "      <td>2020-11-26 15:58:23</td>\n",
       "      <td>2020-11-26 15:57:10</td>\n",
       "      <td>28.26</td>\n",
       "      <td>0 days 00:01:13</td>\n",
       "      <td>1.0</td>\n",
       "    </tr>\n",
       "    <tr>\n",
       "      <th>2</th>\n",
       "      <td>web_campaign_world</td>\n",
       "      <td>5759581305</td>\n",
       "      <td>2020-11-18 09:20:48</td>\n",
       "      <td>2020-11-18 09:16:25</td>\n",
       "      <td>10.97</td>\n",
       "      <td>0 days 00:04:23</td>\n",
       "      <td>4.0</td>\n",
       "    </tr>\n",
       "    <tr>\n",
       "      <th>3</th>\n",
       "      <td>web_campaign_world</td>\n",
       "      <td>5759397241</td>\n",
       "      <td>2020-11-17 15:41:01</td>\n",
       "      <td>2020-11-17 15:33:19</td>\n",
       "      <td>12.38</td>\n",
       "      <td>0 days 00:07:42</td>\n",
       "      <td>8.0</td>\n",
       "    </tr>\n",
       "    <tr>\n",
       "      <th>4</th>\n",
       "      <td>web_campaign_world</td>\n",
       "      <td>83182063</td>\n",
       "      <td>2020-11-27 07:25:33</td>\n",
       "      <td>2020-11-27 06:54:20</td>\n",
       "      <td>26.79</td>\n",
       "      <td>0 days 00:31:13</td>\n",
       "      <td>31.0</td>\n",
       "    </tr>\n",
       "    <tr>\n",
       "      <th>...</th>\n",
       "      <td>...</td>\n",
       "      <td>...</td>\n",
       "      <td>...</td>\n",
       "      <td>...</td>\n",
       "      <td>...</td>\n",
       "      <td>...</td>\n",
       "      <td>...</td>\n",
       "    </tr>\n",
       "    <tr>\n",
       "      <th>756</th>\n",
       "      <td>web_campaign_world</td>\n",
       "      <td>5760793376</td>\n",
       "      <td>2020-11-26 17:07:45</td>\n",
       "      <td>2020-11-25 05:05:47</td>\n",
       "      <td>28.16</td>\n",
       "      <td>1 days 12:01:58</td>\n",
       "      <td>722.0</td>\n",
       "    </tr>\n",
       "    <tr>\n",
       "      <th>757</th>\n",
       "      <td>web_campaign_world</td>\n",
       "      <td>5760720497</td>\n",
       "      <td>2020-11-30 05:35:57</td>\n",
       "      <td>2020-11-26 06:31:45</td>\n",
       "      <td>23.77</td>\n",
       "      <td>3 days 23:04:12</td>\n",
       "      <td>1384.0</td>\n",
       "    </tr>\n",
       "    <tr>\n",
       "      <th>758</th>\n",
       "      <td>web_campaign_world_promo</td>\n",
       "      <td>5761105936</td>\n",
       "      <td>2020-11-28 11:43:50</td>\n",
       "      <td>2020-12-08 10:40:00</td>\n",
       "      <td>27.51</td>\n",
       "      <td>-10 days +01:03:50</td>\n",
       "      <td>64.0</td>\n",
       "    </tr>\n",
       "    <tr>\n",
       "      <th>759</th>\n",
       "      <td>web_campaign_world</td>\n",
       "      <td>5750444109</td>\n",
       "      <td>2020-11-23 23:37:27</td>\n",
       "      <td>2020-08-30 00:42:01</td>\n",
       "      <td>25.91</td>\n",
       "      <td>85 days 22:55:26</td>\n",
       "      <td>1375.0</td>\n",
       "    </tr>\n",
       "    <tr>\n",
       "      <th>760</th>\n",
       "      <td>web_campaign_world_promo</td>\n",
       "      <td>5761435935</td>\n",
       "      <td>2020-11-30 08:34:47</td>\n",
       "      <td>2020-11-30 06:15:15</td>\n",
       "      <td>25.25</td>\n",
       "      <td>0 days 02:19:32</td>\n",
       "      <td>140.0</td>\n",
       "    </tr>\n",
       "  </tbody>\n",
       "</table>\n",
       "<p>761 rows × 7 columns</p>\n",
       "</div>"
      ],
      "text/plain": [
       "                campaign_name     sk_user   install_timestamp  \\\n",
       "0          web_campaign_world  5760718740 2020-11-26 10:44:07   \n",
       "1    web_campaign_world_promo  5760787444 2020-11-26 15:58:23   \n",
       "2          web_campaign_world  5759581305 2020-11-18 09:20:48   \n",
       "3          web_campaign_world  5759397241 2020-11-17 15:41:01   \n",
       "4          web_campaign_world    83182063 2020-11-27 07:25:33   \n",
       "..                        ...         ...                 ...   \n",
       "756        web_campaign_world  5760793376 2020-11-26 17:07:45   \n",
       "757        web_campaign_world  5760720497 2020-11-30 05:35:57   \n",
       "758  web_campaign_world_promo  5761105936 2020-11-28 11:43:50   \n",
       "759        web_campaign_world  5750444109 2020-11-23 23:37:27   \n",
       "760  web_campaign_world_promo  5761435935 2020-11-30 08:34:47   \n",
       "\n",
       "    session_started_timestamp  revenue       time_elapsed  time_elapsed_mins  \n",
       "0         2020-11-26 04:27:30    25.01    0 days 06:16:37              377.0  \n",
       "1         2020-11-26 15:57:10    28.26    0 days 00:01:13                1.0  \n",
       "2         2020-11-18 09:16:25    10.97    0 days 00:04:23                4.0  \n",
       "3         2020-11-17 15:33:19    12.38    0 days 00:07:42                8.0  \n",
       "4         2020-11-27 06:54:20    26.79    0 days 00:31:13               31.0  \n",
       "..                        ...      ...                ...                ...  \n",
       "756       2020-11-25 05:05:47    28.16    1 days 12:01:58              722.0  \n",
       "757       2020-11-26 06:31:45    23.77    3 days 23:04:12             1384.0  \n",
       "758       2020-12-08 10:40:00    27.51 -10 days +01:03:50               64.0  \n",
       "759       2020-08-30 00:42:01    25.91   85 days 22:55:26             1375.0  \n",
       "760       2020-11-30 06:15:15    25.25    0 days 02:19:32              140.0  \n",
       "\n",
       "[761 rows x 7 columns]"
      ]
     },
     "execution_count": 998,
     "metadata": {},
     "output_type": "execute_result"
    }
   ],
   "source": [
    "web_installs4= pd.read_csv('/Users/alejandrabudar/Downloads/web_installs4.csv')\n",
    "web_installs4.install_timestamp = pd.to_datetime(web_installs4.install_timestamp)\n",
    "web_installs4.session_started_timestamp = pd.to_datetime(web_installs4.session_started_timestamp)\n",
    "web_installs4['time_elapsed'] = ((web_installs4[\"install_timestamp\"].to_numpy()) - (web_installs4[\"session_started_timestamp\"].to_numpy()))\n",
    "web_installs4['time_elapsed_mins'] = (web_installs4.time_elapsed.dt.seconds/60).round(0)\n",
    "web_installs4"
   ]
  },
  {
   "cell_type": "code",
   "execution_count": 1026,
   "metadata": {},
   "outputs": [
    {
     "data": {
      "text/html": [
       "<div>\n",
       "<style scoped>\n",
       "    .dataframe tbody tr th:only-of-type {\n",
       "        vertical-align: middle;\n",
       "    }\n",
       "\n",
       "    .dataframe tbody tr th {\n",
       "        vertical-align: top;\n",
       "    }\n",
       "\n",
       "    .dataframe thead th {\n",
       "        text-align: right;\n",
       "    }\n",
       "</style>\n",
       "<table border=\"1\" class=\"dataframe\">\n",
       "  <thead>\n",
       "    <tr style=\"text-align: right;\">\n",
       "      <th></th>\n",
       "      <th>campaign_name</th>\n",
       "      <th>sk_user</th>\n",
       "      <th>install_timestamp</th>\n",
       "      <th>session_started_timestamp</th>\n",
       "      <th>revenue</th>\n",
       "      <th>time_elapsed</th>\n",
       "      <th>time_elapsed_mins</th>\n",
       "    </tr>\n",
       "  </thead>\n",
       "  <tbody>\n",
       "    <tr>\n",
       "      <th>0</th>\n",
       "      <td>web_campaign_world</td>\n",
       "      <td>5760718740</td>\n",
       "      <td>2020-11-26 10:44:07</td>\n",
       "      <td>2020-11-26 04:27:30</td>\n",
       "      <td>25.01</td>\n",
       "      <td>0 days 06:16:37</td>\n",
       "      <td>377.0</td>\n",
       "    </tr>\n",
       "    <tr>\n",
       "      <th>1</th>\n",
       "      <td>web_campaign_world_promo</td>\n",
       "      <td>5760787444</td>\n",
       "      <td>2020-11-26 15:58:23</td>\n",
       "      <td>2020-11-26 15:57:10</td>\n",
       "      <td>28.26</td>\n",
       "      <td>0 days 00:01:13</td>\n",
       "      <td>1.0</td>\n",
       "    </tr>\n",
       "    <tr>\n",
       "      <th>2</th>\n",
       "      <td>web_campaign_world</td>\n",
       "      <td>5759581305</td>\n",
       "      <td>2020-11-18 09:20:48</td>\n",
       "      <td>2020-11-18 09:16:25</td>\n",
       "      <td>10.97</td>\n",
       "      <td>0 days 00:04:23</td>\n",
       "      <td>4.0</td>\n",
       "    </tr>\n",
       "    <tr>\n",
       "      <th>3</th>\n",
       "      <td>web_campaign_world</td>\n",
       "      <td>5759397241</td>\n",
       "      <td>2020-11-17 15:41:01</td>\n",
       "      <td>2020-11-17 15:33:19</td>\n",
       "      <td>12.38</td>\n",
       "      <td>0 days 00:07:42</td>\n",
       "      <td>8.0</td>\n",
       "    </tr>\n",
       "    <tr>\n",
       "      <th>4</th>\n",
       "      <td>web_campaign_world</td>\n",
       "      <td>83182063</td>\n",
       "      <td>2020-11-27 07:25:33</td>\n",
       "      <td>2020-11-27 06:54:20</td>\n",
       "      <td>26.79</td>\n",
       "      <td>0 days 00:31:13</td>\n",
       "      <td>31.0</td>\n",
       "    </tr>\n",
       "    <tr>\n",
       "      <th>...</th>\n",
       "      <td>...</td>\n",
       "      <td>...</td>\n",
       "      <td>...</td>\n",
       "      <td>...</td>\n",
       "      <td>...</td>\n",
       "      <td>...</td>\n",
       "      <td>...</td>\n",
       "    </tr>\n",
       "    <tr>\n",
       "      <th>739</th>\n",
       "      <td>web_campaign_world</td>\n",
       "      <td>5760242238</td>\n",
       "      <td>2020-11-22 11:25:35</td>\n",
       "      <td>2020-11-22 11:21:44</td>\n",
       "      <td>25.59</td>\n",
       "      <td>0 days 00:03:51</td>\n",
       "      <td>4.0</td>\n",
       "    </tr>\n",
       "    <tr>\n",
       "      <th>740</th>\n",
       "      <td>web_campaign_world</td>\n",
       "      <td>5754426004</td>\n",
       "      <td>2020-11-28 21:20:34</td>\n",
       "      <td>2020-11-28 21:14:48</td>\n",
       "      <td>21.72</td>\n",
       "      <td>0 days 00:05:46</td>\n",
       "      <td>6.0</td>\n",
       "    </tr>\n",
       "    <tr>\n",
       "      <th>751</th>\n",
       "      <td>web_campaign_world</td>\n",
       "      <td>5760952334</td>\n",
       "      <td>2020-11-27 17:05:47</td>\n",
       "      <td>2020-11-27 16:55:26</td>\n",
       "      <td>29.62</td>\n",
       "      <td>0 days 00:10:21</td>\n",
       "      <td>10.0</td>\n",
       "    </tr>\n",
       "    <tr>\n",
       "      <th>755</th>\n",
       "      <td>web_campaign_world</td>\n",
       "      <td>5760071629</td>\n",
       "      <td>2020-11-27 00:08:20</td>\n",
       "      <td>2020-11-27 00:03:35</td>\n",
       "      <td>28.05</td>\n",
       "      <td>0 days 00:04:45</td>\n",
       "      <td>5.0</td>\n",
       "    </tr>\n",
       "    <tr>\n",
       "      <th>757</th>\n",
       "      <td>web_campaign_world</td>\n",
       "      <td>5760720497</td>\n",
       "      <td>2020-11-30 05:35:57</td>\n",
       "      <td>2020-11-26 06:31:45</td>\n",
       "      <td>23.77</td>\n",
       "      <td>3 days 23:04:12</td>\n",
       "      <td>1384.0</td>\n",
       "    </tr>\n",
       "  </tbody>\n",
       "</table>\n",
       "<p>518 rows × 7 columns</p>\n",
       "</div>"
      ],
      "text/plain": [
       "                campaign_name     sk_user   install_timestamp  \\\n",
       "0          web_campaign_world  5760718740 2020-11-26 10:44:07   \n",
       "1    web_campaign_world_promo  5760787444 2020-11-26 15:58:23   \n",
       "2          web_campaign_world  5759581305 2020-11-18 09:20:48   \n",
       "3          web_campaign_world  5759397241 2020-11-17 15:41:01   \n",
       "4          web_campaign_world    83182063 2020-11-27 07:25:33   \n",
       "..                        ...         ...                 ...   \n",
       "739        web_campaign_world  5760242238 2020-11-22 11:25:35   \n",
       "740        web_campaign_world  5754426004 2020-11-28 21:20:34   \n",
       "751        web_campaign_world  5760952334 2020-11-27 17:05:47   \n",
       "755        web_campaign_world  5760071629 2020-11-27 00:08:20   \n",
       "757        web_campaign_world  5760720497 2020-11-30 05:35:57   \n",
       "\n",
       "    session_started_timestamp  revenue    time_elapsed  time_elapsed_mins  \n",
       "0         2020-11-26 04:27:30    25.01 0 days 06:16:37              377.0  \n",
       "1         2020-11-26 15:57:10    28.26 0 days 00:01:13                1.0  \n",
       "2         2020-11-18 09:16:25    10.97 0 days 00:04:23                4.0  \n",
       "3         2020-11-17 15:33:19    12.38 0 days 00:07:42                8.0  \n",
       "4         2020-11-27 06:54:20    26.79 0 days 00:31:13               31.0  \n",
       "..                        ...      ...             ...                ...  \n",
       "739       2020-11-22 11:21:44    25.59 0 days 00:03:51                4.0  \n",
       "740       2020-11-28 21:14:48    21.72 0 days 00:05:46                6.0  \n",
       "751       2020-11-27 16:55:26    29.62 0 days 00:10:21               10.0  \n",
       "755       2020-11-27 00:03:35    28.05 0 days 00:04:45                5.0  \n",
       "757       2020-11-26 06:31:45    23.77 3 days 23:04:12             1384.0  \n",
       "\n",
       "[518 rows x 7 columns]"
      ]
     },
     "execution_count": 1026,
     "metadata": {},
     "output_type": "execute_result"
    }
   ],
   "source": [
    "unique_web_users= web_installs4.drop_duplicates('sk_user')"
   ]
  },
  {
   "cell_type": "markdown",
   "metadata": {},
   "source": [
    "Here I decided I would look for a relationship between the amount of time elapsed and the amount of revenue, so then I began to remove the columns that I wouldn't need."
   ]
  },
  {
   "cell_type": "code",
   "execution_count": 993,
   "metadata": {},
   "outputs": [
    {
     "name": "stderr",
     "output_type": "stream",
     "text": [
      "/Applications/anaconda3/envs/mainenv/lib/python3.8/site-packages/pandas/core/frame.py:4163: SettingWithCopyWarning: \n",
      "A value is trying to be set on a copy of a slice from a DataFrame\n",
      "\n",
      "See the caveats in the documentation: https://pandas.pydata.org/pandas-docs/stable/user_guide/indexing.html#returning-a-view-versus-a-copy\n",
      "  return super().drop(\n"
     ]
    }
   ],
   "source": [
    "#ignore warning\n",
    "\n",
    "unique_web_users.drop(['sk_user', 'install_timestamp', 'session_started_timestamp', 'time_elapsed'], axis=1, inplace= True)\n"
   ]
  },
  {
   "cell_type": "markdown",
   "metadata": {},
   "source": [
    "."
   ]
  },
  {
   "cell_type": "markdown",
   "metadata": {},
   "source": [
    "Below, the variables revenue and time_elapsed_mins are plotted against each other. \n",
    "\n",
    "The top left shows us the distribution of revenue. It is rightly skewed, which is good since it means most campaigns are on the higher end of the revenue scale. \n",
    "\n",
    "The bottom right graph is the same to the one previously plotted, showing the distribution of the time elapsed, with the majority of people falling within the first bin. \n",
    "\n",
    "In the top right, we see that as time increases, revenue plateaus. The bottom left shows this same relationship. I was interested in exploring this relationship and decided to \"zoom in\" on the first hour of the data. The zoomed in version of the graph can be found below. \n"
   ]
  },
  {
   "cell_type": "code",
   "execution_count": 994,
   "metadata": {},
   "outputs": [
    {
     "data": {
      "text/plain": [
       "<seaborn.axisgrid.PairGrid at 0x7f9fa92928b0>"
      ]
     },
     "execution_count": 994,
     "metadata": {},
     "output_type": "execute_result"
    },
    {
     "data": {
      "image/png": "[encoded data removed]",
      "text/plain": [
       "<Figure size 360x360 with 6 Axes>"
      ]
     },
     "metadata": {
      "needs_background": "light"
     },
     "output_type": "display_data"
    }
   ],
   "source": [
    "sns.pairplot(unique_web_users)"
   ]
  },
  {
   "cell_type": "markdown",
   "metadata": {},
   "source": [
    "The graph below highlights that the first 10 minutes of a session are crucial. This suggests that for the users who clicked the ad but did not download the app, it could be because they were not convinced within the first 10 minutes. This period of time has the steepest slope (fastest rate of increase in revenue) and provides the greatest window of opportunity to increase the amount spent by the user."
   ]
  },
  {
   "cell_type": "code",
   "execution_count": 995,
   "metadata": {},
   "outputs": [
    {
     "data": {
      "text/plain": [
       "(0.0, 60.0)"
      ]
     },
     "execution_count": 995,
     "metadata": {},
     "output_type": "execute_result"
    },
    {
     "data": {
      "image/png": "[encoded data removed]",
      "text/plain": [
       "<Figure size 432x288 with 1 Axes>"
      ]
     },
     "metadata": {
      "needs_background": "light"
     },
     "output_type": "display_data"
    }
   ],
   "source": [
    "sns.scatterplot(data=unique_web_users, x=\"time_elapsed_mins\", y=\"revenue\", hue=\"campaign_name\")\n",
    "plt.xlim(0,60) "
   ]
  },
  {
   "cell_type": "markdown",
   "metadata": {},
   "source": [
    "### II. Analysis of App Campaigns"
   ]
  },
  {
   "cell_type": "markdown",
   "metadata": {},
   "source": [
    "Here I am just opening the two csv files that I will be using for the analysis. It is important to note that I encountered a technical issue when downloading the second file below (app_installs), hence why there are numerous null values in the sk_user column. However, since I did not need the specific IDs and I knew that the sk_user column was the primary key and all numbers in that column must be unique entries (so no chance of duplicates), I decided not to drop those rows and included them in the analysis. "
   ]
  },
  {
   "cell_type": "code",
   "execution_count": 765,
   "metadata": {
    "scrolled": false
   },
   "outputs": [
    {
     "data": {
      "text/html": [
       "<div>\n",
       "<style scoped>\n",
       "    .dataframe tbody tr th:only-of-type {\n",
       "        vertical-align: middle;\n",
       "    }\n",
       "\n",
       "    .dataframe tbody tr th {\n",
       "        vertical-align: top;\n",
       "    }\n",
       "\n",
       "    .dataframe thead th {\n",
       "        text-align: right;\n",
       "    }\n",
       "</style>\n",
       "<table border=\"1\" class=\"dataframe\">\n",
       "  <thead>\n",
       "    <tr style=\"text-align: right;\">\n",
       "      <th></th>\n",
       "      <th>campaign_name</th>\n",
       "      <th>spend_date</th>\n",
       "      <th>impressions</th>\n",
       "      <th>spend</th>\n",
       "    </tr>\n",
       "  </thead>\n",
       "  <tbody>\n",
       "    <tr>\n",
       "      <th>0</th>\n",
       "      <td>android_campaign_world</td>\n",
       "      <td>2020-11-23 00:00:00</td>\n",
       "      <td>647888</td>\n",
       "      <td>1238</td>\n",
       "    </tr>\n",
       "    <tr>\n",
       "      <th>1</th>\n",
       "      <td>ios_campaign_world</td>\n",
       "      <td>2020-11-23 00:00:00</td>\n",
       "      <td>1120194</td>\n",
       "      <td>3691</td>\n",
       "    </tr>\n",
       "    <tr>\n",
       "      <th>2</th>\n",
       "      <td>ios_campaign_north_america</td>\n",
       "      <td>2020-11-08 00:00:00</td>\n",
       "      <td>124710</td>\n",
       "      <td>1168</td>\n",
       "    </tr>\n",
       "    <tr>\n",
       "      <th>3</th>\n",
       "      <td>android_campaign_world</td>\n",
       "      <td>2020-11-06 00:00:00</td>\n",
       "      <td>458696</td>\n",
       "      <td>1236</td>\n",
       "    </tr>\n",
       "    <tr>\n",
       "      <th>4</th>\n",
       "      <td>ios_campaign_world</td>\n",
       "      <td>2020-11-30 00:00:00</td>\n",
       "      <td>231860</td>\n",
       "      <td>635</td>\n",
       "    </tr>\n",
       "    <tr>\n",
       "      <th>...</th>\n",
       "      <td>...</td>\n",
       "      <td>...</td>\n",
       "      <td>...</td>\n",
       "      <td>...</td>\n",
       "    </tr>\n",
       "    <tr>\n",
       "      <th>82</th>\n",
       "      <td>ios_campaign_north_america</td>\n",
       "      <td>2020-11-16 00:00:00</td>\n",
       "      <td>155855</td>\n",
       "      <td>1680</td>\n",
       "    </tr>\n",
       "    <tr>\n",
       "      <th>83</th>\n",
       "      <td>ios_campaign_north_america</td>\n",
       "      <td>2020-11-05 00:00:00</td>\n",
       "      <td>79787</td>\n",
       "      <td>698</td>\n",
       "    </tr>\n",
       "    <tr>\n",
       "      <th>84</th>\n",
       "      <td>ios_campaign_north_america</td>\n",
       "      <td>2020-11-17 00:00:00</td>\n",
       "      <td>305051</td>\n",
       "      <td>3593</td>\n",
       "    </tr>\n",
       "    <tr>\n",
       "      <th>85</th>\n",
       "      <td>ios_campaign_north_america</td>\n",
       "      <td>2020-11-22 00:00:00</td>\n",
       "      <td>420671</td>\n",
       "      <td>6419</td>\n",
       "    </tr>\n",
       "    <tr>\n",
       "      <th>86</th>\n",
       "      <td>ios_campaign_north_america</td>\n",
       "      <td>2020-11-27 00:00:00</td>\n",
       "      <td>38841</td>\n",
       "      <td>718</td>\n",
       "    </tr>\n",
       "  </tbody>\n",
       "</table>\n",
       "<p>87 rows × 4 columns</p>\n",
       "</div>"
      ],
      "text/plain": [
       "                 campaign_name           spend_date  impressions  spend\n",
       "0       android_campaign_world  2020-11-23 00:00:00       647888   1238\n",
       "1           ios_campaign_world  2020-11-23 00:00:00      1120194   3691\n",
       "2   ios_campaign_north_america  2020-11-08 00:00:00       124710   1168\n",
       "3       android_campaign_world  2020-11-06 00:00:00       458696   1236\n",
       "4           ios_campaign_world  2020-11-30 00:00:00       231860    635\n",
       "..                         ...                  ...          ...    ...\n",
       "82  ios_campaign_north_america  2020-11-16 00:00:00       155855   1680\n",
       "83  ios_campaign_north_america  2020-11-05 00:00:00        79787    698\n",
       "84  ios_campaign_north_america  2020-11-17 00:00:00       305051   3593\n",
       "85  ios_campaign_north_america  2020-11-22 00:00:00       420671   6419\n",
       "86  ios_campaign_north_america  2020-11-27 00:00:00        38841    718\n",
       "\n",
       "[87 rows x 4 columns]"
      ]
     },
     "execution_count": 765,
     "metadata": {},
     "output_type": "execute_result"
    }
   ],
   "source": [
    "app_spend= pd.read_csv('/Users/alejandrabudar/Downloads/app_spend.csv')\n",
    "app_spend"
   ]
  },
  {
   "cell_type": "code",
   "execution_count": 862,
   "metadata": {},
   "outputs": [
    {
     "data": {
      "text/html": [
       "<div>\n",
       "<style scoped>\n",
       "    .dataframe tbody tr th:only-of-type {\n",
       "        vertical-align: middle;\n",
       "    }\n",
       "\n",
       "    .dataframe tbody tr th {\n",
       "        vertical-align: top;\n",
       "    }\n",
       "\n",
       "    .dataframe thead th {\n",
       "        text-align: right;\n",
       "    }\n",
       "</style>\n",
       "<table border=\"1\" class=\"dataframe\">\n",
       "  <thead>\n",
       "    <tr style=\"text-align: right;\">\n",
       "      <th></th>\n",
       "      <th>sk_user</th>\n",
       "      <th>install_timestamp</th>\n",
       "      <th>campaign_name</th>\n",
       "    </tr>\n",
       "  </thead>\n",
       "  <tbody>\n",
       "    <tr>\n",
       "      <th>0</th>\n",
       "      <td>NaN</td>\n",
       "      <td>2020-11-01 00:15:45</td>\n",
       "      <td>android_campaign_world</td>\n",
       "    </tr>\n",
       "    <tr>\n",
       "      <th>1</th>\n",
       "      <td>NaN</td>\n",
       "      <td>2020-11-01 01:07:36</td>\n",
       "      <td>android_campaign_world</td>\n",
       "    </tr>\n",
       "    <tr>\n",
       "      <th>2</th>\n",
       "      <td>NaN</td>\n",
       "      <td>2020-11-01 01:21:58</td>\n",
       "      <td>android_campaign_world</td>\n",
       "    </tr>\n",
       "    <tr>\n",
       "      <th>3</th>\n",
       "      <td>NaN</td>\n",
       "      <td>2020-11-01 02:05:22</td>\n",
       "      <td>ios_campaign_world</td>\n",
       "    </tr>\n",
       "    <tr>\n",
       "      <th>4</th>\n",
       "      <td>NaN</td>\n",
       "      <td>2020-11-01 02:16:03</td>\n",
       "      <td>android_campaign_world</td>\n",
       "    </tr>\n",
       "    <tr>\n",
       "      <th>...</th>\n",
       "      <td>...</td>\n",
       "      <td>...</td>\n",
       "      <td>...</td>\n",
       "    </tr>\n",
       "    <tr>\n",
       "      <th>128592</th>\n",
       "      <td>88824166.0</td>\n",
       "      <td>2020-11-05 14:23:21</td>\n",
       "      <td>ios_campaign_world</td>\n",
       "    </tr>\n",
       "    <tr>\n",
       "      <th>128593</th>\n",
       "      <td>88869582.0</td>\n",
       "      <td>2020-11-17 12:23:26</td>\n",
       "      <td>ios_campaign_world</td>\n",
       "    </tr>\n",
       "    <tr>\n",
       "      <th>128594</th>\n",
       "      <td>88884848.0</td>\n",
       "      <td>2020-11-03 02:06:01</td>\n",
       "      <td>ios_campaign_world</td>\n",
       "    </tr>\n",
       "    <tr>\n",
       "      <th>128595</th>\n",
       "      <td>924019510.0</td>\n",
       "      <td>2020-11-24 20:38:19</td>\n",
       "      <td>ios_campaign_north_america</td>\n",
       "    </tr>\n",
       "    <tr>\n",
       "      <th>128596</th>\n",
       "      <td>989943541.0</td>\n",
       "      <td>2020-11-09 15:53:11</td>\n",
       "      <td>ios_campaign_world</td>\n",
       "    </tr>\n",
       "  </tbody>\n",
       "</table>\n",
       "<p>128597 rows × 3 columns</p>\n",
       "</div>"
      ],
      "text/plain": [
       "            sk_user   install_timestamp               campaign_name\n",
       "0               NaN 2020-11-01 00:15:45      android_campaign_world\n",
       "1               NaN 2020-11-01 01:07:36      android_campaign_world\n",
       "2               NaN 2020-11-01 01:21:58      android_campaign_world\n",
       "3               NaN 2020-11-01 02:05:22          ios_campaign_world\n",
       "4               NaN 2020-11-01 02:16:03      android_campaign_world\n",
       "...             ...                 ...                         ...\n",
       "128592   88824166.0 2020-11-05 14:23:21          ios_campaign_world\n",
       "128593   88869582.0 2020-11-17 12:23:26          ios_campaign_world\n",
       "128594   88884848.0 2020-11-03 02:06:01          ios_campaign_world\n",
       "128595  924019510.0 2020-11-24 20:38:19  ios_campaign_north_america\n",
       "128596  989943541.0 2020-11-09 15:53:11          ios_campaign_world\n",
       "\n",
       "[128597 rows x 3 columns]"
      ]
     },
     "execution_count": 862,
     "metadata": {},
     "output_type": "execute_result"
    }
   ],
   "source": [
    "app_installs=pd.read_csv('/Users/alejandrabudar/Downloads/total_app_installs.csv')\n",
    "app_installs.install_timestamp = pd.to_datetime(app_installs.install_timestamp)\n",
    "app_installs"
   ]
  },
  {
   "cell_type": "markdown",
   "metadata": {},
   "source": [
    "."
   ]
  },
  {
   "cell_type": "markdown",
   "metadata": {},
   "source": [
    "Again, I tried to obtain a general sense for how the app campaigns performed by first establishing a relationship between the amounts spent and the impressions achieved. In comparison to the web campaigns, the relationship appeared more linear, showing that the majority of the campaigns performed as expected: as the amount spent increased, so did the number of impressions."
   ]
  },
  {
   "cell_type": "code",
   "execution_count": 766,
   "metadata": {},
   "outputs": [
    {
     "data": {
      "text/plain": [
       "<seaborn.axisgrid.PairGrid at 0x7f9fb5566eb0>"
      ]
     },
     "execution_count": 766,
     "metadata": {},
     "output_type": "execute_result"
    },
    {
     "data": {
      "image/png": "[encoded data removed]",
      "text/plain": [
       "<Figure size 360x360 with 6 Axes>"
      ]
     },
     "metadata": {
      "needs_background": "light"
     },
     "output_type": "display_data"
    }
   ],
   "source": [
    "sns.pairplot(app_spend)"
   ]
  },
  {
   "cell_type": "markdown",
   "metadata": {},
   "source": [
    "Next I answered the following questions:\n",
    "\n",
    " 1) How many days did the campaigns run for?\n",
    " \n",
    " 2) How much was spent for each campaign?\n",
    " \n",
    " 3) How much was spent per day for each campaign?\n",
    " \n",
    " 4) How many conversions did each campaign generate?\n",
    " \n",
    " 5) What was the average number of installations per day per campaign?\n"
   ]
  },
  {
   "cell_type": "markdown",
   "metadata": {},
   "source": [
    "."
   ]
  },
  {
   "cell_type": "markdown",
   "metadata": {},
   "source": [
    "### 1"
   ]
  },
  {
   "cell_type": "code",
   "execution_count": 847,
   "metadata": {},
   "outputs": [
    {
     "data": {
      "text/html": [
       "<div>\n",
       "<style scoped>\n",
       "    .dataframe tbody tr th:only-of-type {\n",
       "        vertical-align: middle;\n",
       "    }\n",
       "\n",
       "    .dataframe tbody tr th {\n",
       "        vertical-align: top;\n",
       "    }\n",
       "\n",
       "    .dataframe thead th {\n",
       "        text-align: right;\n",
       "    }\n",
       "</style>\n",
       "<table border=\"1\" class=\"dataframe\">\n",
       "  <thead>\n",
       "    <tr style=\"text-align: right;\">\n",
       "      <th></th>\n",
       "      <th>Name of Campaign</th>\n",
       "      <th>Length of Campaign (Days)</th>\n",
       "    </tr>\n",
       "  </thead>\n",
       "  <tbody>\n",
       "    <tr>\n",
       "      <th>1</th>\n",
       "      <td>android_campaign_world</td>\n",
       "      <td>30</td>\n",
       "    </tr>\n",
       "    <tr>\n",
       "      <th>2</th>\n",
       "      <td>ios_campaign_north_america</td>\n",
       "      <td>27</td>\n",
       "    </tr>\n",
       "    <tr>\n",
       "      <th>0</th>\n",
       "      <td>ios_campaign_world</td>\n",
       "      <td>30</td>\n",
       "    </tr>\n",
       "  </tbody>\n",
       "</table>\n",
       "</div>"
      ],
      "text/plain": [
       "             Name of Campaign  Length of Campaign (Days)\n",
       "1      android_campaign_world                         30\n",
       "2  ios_campaign_north_america                         27\n",
       "0          ios_campaign_world                         30"
      ]
     },
     "execution_count": 847,
     "metadata": {},
     "output_type": "execute_result"
    }
   ],
   "source": [
    "num_of_app_days= app_spend['campaign_name'].value_counts().to_frame().reset_index()\n",
    "num_of_app_days.rename(columns={\"index\": \"Name of Campaign\", \"campaign_name\": \"Length of Campaign (Days)\"}).sort_values(by= 'Name of Campaign')\n"
   ]
  },
  {
   "cell_type": "markdown",
   "metadata": {},
   "source": [
    "### 2"
   ]
  },
  {
   "cell_type": "code",
   "execution_count": 775,
   "metadata": {},
   "outputs": [
    {
     "data": {
      "text/html": [
       "<div>\n",
       "<style scoped>\n",
       "    .dataframe tbody tr th:only-of-type {\n",
       "        vertical-align: middle;\n",
       "    }\n",
       "\n",
       "    .dataframe tbody tr th {\n",
       "        vertical-align: top;\n",
       "    }\n",
       "\n",
       "    .dataframe thead th {\n",
       "        text-align: right;\n",
       "    }\n",
       "</style>\n",
       "<table border=\"1\" class=\"dataframe\">\n",
       "  <thead>\n",
       "    <tr style=\"text-align: right;\">\n",
       "      <th></th>\n",
       "      <th>Name of Campaign</th>\n",
       "      <th>Total Amount Spent (Euros)</th>\n",
       "    </tr>\n",
       "  </thead>\n",
       "  <tbody>\n",
       "    <tr>\n",
       "      <th>0</th>\n",
       "      <td>android_campaign_world</td>\n",
       "      <td>48217</td>\n",
       "    </tr>\n",
       "    <tr>\n",
       "      <th>1</th>\n",
       "      <td>ios_campaign_north_america</td>\n",
       "      <td>63239</td>\n",
       "    </tr>\n",
       "    <tr>\n",
       "      <th>2</th>\n",
       "      <td>ios_campaign_world</td>\n",
       "      <td>155666</td>\n",
       "    </tr>\n",
       "  </tbody>\n",
       "</table>\n",
       "</div>"
      ],
      "text/plain": [
       "             Name of Campaign  Total Amount Spent (Euros)\n",
       "0      android_campaign_world                       48217\n",
       "1  ios_campaign_north_america                       63239\n",
       "2          ios_campaign_world                      155666"
      ]
     },
     "execution_count": 775,
     "metadata": {},
     "output_type": "execute_result"
    }
   ],
   "source": [
    "total_app_spent= app_spend.groupby('campaign_name')[['spend']].sum().reset_index()\n",
    "total_app_spent.rename(columns={\"campaign_name\": \"Name of Campaign\", \"spend\": \"Total Amount Spent (Euros)\"}).sort_values(by= 'Name of Campaign')"
   ]
  },
  {
   "cell_type": "markdown",
   "metadata": {},
   "source": [
    "### 3"
   ]
  },
  {
   "cell_type": "code",
   "execution_count": 771,
   "metadata": {},
   "outputs": [
    {
     "data": {
      "text/html": [
       "<div>\n",
       "<style scoped>\n",
       "    .dataframe tbody tr th:only-of-type {\n",
       "        vertical-align: middle;\n",
       "    }\n",
       "\n",
       "    .dataframe tbody tr th {\n",
       "        vertical-align: top;\n",
       "    }\n",
       "\n",
       "    .dataframe thead th {\n",
       "        text-align: right;\n",
       "    }\n",
       "</style>\n",
       "<table border=\"1\" class=\"dataframe\">\n",
       "  <thead>\n",
       "    <tr style=\"text-align: right;\">\n",
       "      <th></th>\n",
       "      <th>Name of Campaign</th>\n",
       "      <th>Avg Amount Spent/Day (Euros)</th>\n",
       "    </tr>\n",
       "  </thead>\n",
       "  <tbody>\n",
       "    <tr>\n",
       "      <th>0</th>\n",
       "      <td>android_campaign_world</td>\n",
       "      <td>1607.23</td>\n",
       "    </tr>\n",
       "    <tr>\n",
       "      <th>1</th>\n",
       "      <td>ios_campaign_north_america</td>\n",
       "      <td>2342.19</td>\n",
       "    </tr>\n",
       "    <tr>\n",
       "      <th>2</th>\n",
       "      <td>ios_campaign_world</td>\n",
       "      <td>5188.87</td>\n",
       "    </tr>\n",
       "  </tbody>\n",
       "</table>\n",
       "</div>"
      ],
      "text/plain": [
       "             Name of Campaign  Avg Amount Spent/Day (Euros)\n",
       "0      android_campaign_world                       1607.23\n",
       "1  ios_campaign_north_america                       2342.19\n",
       "2          ios_campaign_world                       5188.87"
      ]
     },
     "execution_count": 771,
     "metadata": {},
     "output_type": "execute_result"
    }
   ],
   "source": [
    "app_avg_spent_per_day= app_spend.groupby('campaign_name')[['spend']].mean().reset_index()\n",
    "app_avg_spent_per_day.rename(columns={\"campaign_name\": \"Name of Campaign\", \"spend\": \"Avg Amount Spent/Day (Euros)\"}).round(2)"
   ]
  },
  {
   "cell_type": "markdown",
   "metadata": {},
   "source": [
    "### 4"
   ]
  },
  {
   "cell_type": "code",
   "execution_count": 888,
   "metadata": {},
   "outputs": [
    {
     "data": {
      "text/html": [
       "<div>\n",
       "<style scoped>\n",
       "    .dataframe tbody tr th:only-of-type {\n",
       "        vertical-align: middle;\n",
       "    }\n",
       "\n",
       "    .dataframe tbody tr th {\n",
       "        vertical-align: top;\n",
       "    }\n",
       "\n",
       "    .dataframe thead th {\n",
       "        text-align: right;\n",
       "    }\n",
       "</style>\n",
       "<table border=\"1\" class=\"dataframe\">\n",
       "  <thead>\n",
       "    <tr style=\"text-align: right;\">\n",
       "      <th></th>\n",
       "      <th>Name of Campaign</th>\n",
       "      <th>Num of Conversions</th>\n",
       "    </tr>\n",
       "  </thead>\n",
       "  <tbody>\n",
       "    <tr>\n",
       "      <th>0</th>\n",
       "      <td>android_campaign_world</td>\n",
       "      <td>69811</td>\n",
       "    </tr>\n",
       "    <tr>\n",
       "      <th>1</th>\n",
       "      <td>ios_campaign_north_america</td>\n",
       "      <td>6947</td>\n",
       "    </tr>\n",
       "    <tr>\n",
       "      <th>2</th>\n",
       "      <td>ios_campaign_world</td>\n",
       "      <td>49945</td>\n",
       "    </tr>\n",
       "  </tbody>\n",
       "</table>\n",
       "</div>"
      ],
      "text/plain": [
       "             Name of Campaign  Num of Conversions\n",
       "0      android_campaign_world               69811\n",
       "1  ios_campaign_north_america                6947\n",
       "2          ios_campaign_world               49945"
      ]
     },
     "execution_count": 888,
     "metadata": {},
     "output_type": "execute_result"
    }
   ],
   "source": [
    "campaign_conversion1 = app_installs.groupby('campaign_name')[['sk_user']].count().reset_index()\n",
    "campaign_conversion1.rename(columns={\"campaign_name\": \"Name of Campaign\", \"sk_user\": \"Num of Conversions\"})"
   ]
  },
  {
   "cell_type": "markdown",
   "metadata": {},
   "source": [
    "### 5"
   ]
  },
  {
   "cell_type": "code",
   "execution_count": 854,
   "metadata": {},
   "outputs": [
    {
     "name": "stdout",
     "output_type": "stream",
     "text": [
      "Avg. Installs per day:\n",
      "\n",
      "Android Campaign World:  2,327\n",
      "IOS Campaign North America: 257\n",
      "IOS Campaign World:   1,665\n"
     ]
    }
   ],
   "source": [
    "print('Avg. Installs per day:')\n",
    "print ('')\n",
    "print('Android Campaign World:  2,327' )\n",
    "print('IOS Campaign North America: 257' )\n",
    "print('IOS Campaign World:   1,665', )"
   ]
  },
  {
   "cell_type": "markdown",
   "metadata": {},
   "source": [
    "."
   ]
  },
  {
   "cell_type": "markdown",
   "metadata": {},
   "source": [
    "Below, the CPA was calculated per campaign. IOS Campaign North America was the most costly and performed significantly lower in the number of conversions and, subsequently the CPA, than the other 2 campaigns."
   ]
  },
  {
   "cell_type": "code",
   "execution_count": 805,
   "metadata": {},
   "outputs": [
    {
     "name": "stdout",
     "output_type": "stream",
     "text": [
      "CPA -- cost per action (€ /intall)\n",
      "\n",
      "Android Campaign World: 0.69\n",
      "IOS Campaign North America: 9.1\n",
      "IOS Campaign World: 3.12\n"
     ]
    }
   ],
   "source": [
    "print('CPA -- cost per action (€ /intall)')\n",
    "print ('')\n",
    "print('Android Campaign World:', total_app_spent.spend.div(campaign_conversion1.sk_user)[0].round(2) ) \n",
    "print('IOS Campaign North America:', total_app_spent.spend.div(campaign_conversion1.sk_user).round(2)[1])\n",
    "print('IOS Campaign World:', total_app_spent.spend.div(campaign_conversion1.sk_user).round(2)[2])\n"
   ]
  },
  {
   "cell_type": "markdown",
   "metadata": {},
   "source": [
    "."
   ]
  },
  {
   "cell_type": "markdown",
   "metadata": {},
   "source": [
    "Furthermore, I utilized the column install_timestamp to plot the time of each install per campaign. We can see that all campaigns had a bimodal distribution (two peaks). The Android World Campaign and IOS World Campaign followed the same bimodal distribution with one peak between midnight to 4 am and another from around noon to 8pm, while the IOS North America Campaign's peaks were midnight to 5 am and 1 pm to midnight. \n",
    "\n",
    "This suggests that advertisements that are displayed in the morning and in the late afternoon to evening will perform best. "
   ]
  },
  {
   "cell_type": "code",
   "execution_count": 863,
   "metadata": {},
   "outputs": [
    {
     "data": {
      "text/plain": [
       "Text(0, 0.5, 'Number of installations')"
      ]
     },
     "execution_count": 863,
     "metadata": {},
     "output_type": "execute_result"
    },
    {
     "data": {
      "image/png": "[encoded data removed]",
      "text/plain": [
       "<Figure size 864x360 with 1 Axes>"
      ]
     },
     "metadata": {
      "needs_background": "light"
     },
     "output_type": "display_data"
    }
   ],
   "source": [
    "sns.set_palette(\"pastel\",3)\n",
    "fig, ax = pyplot.subplots(figsize=(12, 5))\n",
    "sns.histplot(data=app_installs, x=app_installs[\"install_timestamp\"].dt.hour, hue=\"campaign_name\", bins=24 )\n",
    "plt.xlabel(\"Hour of the day\")\n",
    "plt.ylabel(\"Number of installations\")\n"
   ]
  },
  {
   "cell_type": "markdown",
   "metadata": {},
   "source": [
    "."
   ]
  },
  {
   "cell_type": "markdown",
   "metadata": {},
   "source": [
    "Moreover, I looked to see if there were trends between the day of the month and the number of installs for that day. What I found interesting here is that, unlike the web sessions, there were no large peaks around Black Friday. For the Android World Campaign and IOS World Campaign, their highest peaks were actually in the first half of the month, while the IOS North American Campaign peaked around November 19th. This could be related to the fact that most people utilize their web browsers when shopping on Black Friday since it allows them to have numerous tabs and windows open to monitor different products. Based on this, I would suggest further analysis and internal discussion on the spend variable for the app campaigns during this time. It might be worth considering the lowering of the amount spent on app campaigns for black friday and investing that into web campaigns instead, for example. "
   ]
  },
  {
   "cell_type": "code",
   "execution_count": 877,
   "metadata": {},
   "outputs": [
    {
     "data": {
      "text/html": [
       "<div>\n",
       "<style scoped>\n",
       "    .dataframe tbody tr th:only-of-type {\n",
       "        vertical-align: middle;\n",
       "    }\n",
       "\n",
       "    .dataframe tbody tr th {\n",
       "        vertical-align: top;\n",
       "    }\n",
       "\n",
       "    .dataframe thead th {\n",
       "        text-align: right;\n",
       "    }\n",
       "</style>\n",
       "<table border=\"1\" class=\"dataframe\">\n",
       "  <thead>\n",
       "    <tr style=\"text-align: right;\">\n",
       "      <th></th>\n",
       "      <th>campaign_name</th>\n",
       "      <th>install_timestamp</th>\n",
       "      <th>count</th>\n",
       "    </tr>\n",
       "  </thead>\n",
       "  <tbody>\n",
       "    <tr>\n",
       "      <th>0</th>\n",
       "      <td>android_campaign_world</td>\n",
       "      <td>1</td>\n",
       "      <td>9696</td>\n",
       "    </tr>\n",
       "    <tr>\n",
       "      <th>1</th>\n",
       "      <td>android_campaign_world</td>\n",
       "      <td>2</td>\n",
       "      <td>9497</td>\n",
       "    </tr>\n",
       "    <tr>\n",
       "      <th>2</th>\n",
       "      <td>android_campaign_world</td>\n",
       "      <td>3</td>\n",
       "      <td>3214</td>\n",
       "    </tr>\n",
       "    <tr>\n",
       "      <th>3</th>\n",
       "      <td>android_campaign_world</td>\n",
       "      <td>4</td>\n",
       "      <td>3011</td>\n",
       "    </tr>\n",
       "    <tr>\n",
       "      <th>4</th>\n",
       "      <td>android_campaign_world</td>\n",
       "      <td>5</td>\n",
       "      <td>2090</td>\n",
       "    </tr>\n",
       "    <tr>\n",
       "      <th>...</th>\n",
       "      <td>...</td>\n",
       "      <td>...</td>\n",
       "      <td>...</td>\n",
       "    </tr>\n",
       "    <tr>\n",
       "      <th>85</th>\n",
       "      <td>ios_campaign_world</td>\n",
       "      <td>26</td>\n",
       "      <td>758</td>\n",
       "    </tr>\n",
       "    <tr>\n",
       "      <th>86</th>\n",
       "      <td>ios_campaign_world</td>\n",
       "      <td>27</td>\n",
       "      <td>445</td>\n",
       "    </tr>\n",
       "    <tr>\n",
       "      <th>87</th>\n",
       "      <td>ios_campaign_world</td>\n",
       "      <td>28</td>\n",
       "      <td>583</td>\n",
       "    </tr>\n",
       "    <tr>\n",
       "      <th>88</th>\n",
       "      <td>ios_campaign_world</td>\n",
       "      <td>29</td>\n",
       "      <td>791</td>\n",
       "    </tr>\n",
       "    <tr>\n",
       "      <th>89</th>\n",
       "      <td>ios_campaign_world</td>\n",
       "      <td>30</td>\n",
       "      <td>490</td>\n",
       "    </tr>\n",
       "  </tbody>\n",
       "</table>\n",
       "<p>90 rows × 3 columns</p>\n",
       "</div>"
      ],
      "text/plain": [
       "             campaign_name  install_timestamp  count\n",
       "0   android_campaign_world                  1   9696\n",
       "1   android_campaign_world                  2   9497\n",
       "2   android_campaign_world                  3   3214\n",
       "3   android_campaign_world                  4   3011\n",
       "4   android_campaign_world                  5   2090\n",
       "..                     ...                ...    ...\n",
       "85      ios_campaign_world                 26    758\n",
       "86      ios_campaign_world                 27    445\n",
       "87      ios_campaign_world                 28    583\n",
       "88      ios_campaign_world                 29    791\n",
       "89      ios_campaign_world                 30    490\n",
       "\n",
       "[90 rows x 3 columns]"
      ]
     },
     "execution_count": 877,
     "metadata": {},
     "output_type": "execute_result"
    }
   ],
   "source": [
    "df=app_installs.groupby(['campaign_name', 'install_timestamp'])[['install_timestamp']].count()\n",
    "df.columns = ['count']\n",
    "df.reset_index(inplace=True)\n",
    "df"
   ]
  },
  {
   "cell_type": "code",
   "execution_count": 881,
   "metadata": {},
   "outputs": [
    {
     "data": {
      "text/plain": [
       "Text(0, 0.5, 'Number of installations')"
      ]
     },
     "execution_count": 881,
     "metadata": {},
     "output_type": "execute_result"
    },
    {
     "data": {
      "image/png": "[encoded data removed]",
      "text/plain": [
       "<Figure size 1080x360 with 1 Axes>"
      ]
     },
     "metadata": {
      "needs_background": "light"
     },
     "output_type": "display_data"
    }
   ],
   "source": [
    "fig, ax = pyplot.subplots(figsize=(15, 5))\n",
    "ax = sns.barplot(x=\"install_timestamp\", y=\"count\", data=df, hue= 'campaign_name')\n",
    "plt.xlabel(\"Day of the Month\")\n",
    "plt.ylabel(\"Number of installations\")\n"
   ]
  },
  {
   "cell_type": "markdown",
   "metadata": {},
   "source": [
    "."
   ]
  },
  {
   "cell_type": "markdown",
   "metadata": {},
   "source": [
    "In the section below, I introduced the \"revenue\" variable into the data as well as the time elapsed between the installation of the app and what time the user made a purchase. What surprised me was the number of people who actually made a purchase during the campaigns. I was so surprised that I re-checked and re-wrote the SQL code 5 different times. However, despite my attempts, everytime I filtered by the network ('Instagram & Facebook') and the dates of November for both the install_timestamp and purchased_at variables, the output was still a total of 14.\n",
    "\n",
    "After my brief state of confusion, I continued on with the analysis and calculated the amount of time that passed from the time of installation and the time of purchase."
   ]
  },
  {
   "cell_type": "code",
   "execution_count": 1003,
   "metadata": {},
   "outputs": [
    {
     "data": {
      "text/html": [
       "<div>\n",
       "<style scoped>\n",
       "    .dataframe tbody tr th:only-of-type {\n",
       "        vertical-align: middle;\n",
       "    }\n",
       "\n",
       "    .dataframe tbody tr th {\n",
       "        vertical-align: top;\n",
       "    }\n",
       "\n",
       "    .dataframe thead th {\n",
       "        text-align: right;\n",
       "    }\n",
       "</style>\n",
       "<table border=\"1\" class=\"dataframe\">\n",
       "  <thead>\n",
       "    <tr style=\"text-align: right;\">\n",
       "      <th></th>\n",
       "      <th>sk_user</th>\n",
       "      <th>install_timestamp</th>\n",
       "      <th>campaign_name</th>\n",
       "      <th>purchased_at</th>\n",
       "      <th>revenue</th>\n",
       "      <th>time_elapsed</th>\n",
       "      <th>time_elapsed_mins</th>\n",
       "    </tr>\n",
       "  </thead>\n",
       "  <tbody>\n",
       "    <tr>\n",
       "      <th>0</th>\n",
       "      <td>5760348013</td>\n",
       "      <td>2020-11-23 16:35:06</td>\n",
       "      <td>ios_campaign_north_america</td>\n",
       "      <td>2020-11-23 16:38:03</td>\n",
       "      <td>21.28</td>\n",
       "      <td>0 days 00:02:57</td>\n",
       "      <td>3.0</td>\n",
       "    </tr>\n",
       "    <tr>\n",
       "      <th>1</th>\n",
       "      <td>77819358</td>\n",
       "      <td>2020-11-11 02:50:15</td>\n",
       "      <td>ios_campaign_world</td>\n",
       "      <td>2020-11-11 02:52:27</td>\n",
       "      <td>43.22</td>\n",
       "      <td>0 days 00:02:12</td>\n",
       "      <td>2.0</td>\n",
       "    </tr>\n",
       "    <tr>\n",
       "      <th>2</th>\n",
       "      <td>84278742</td>\n",
       "      <td>2020-11-01 09:44:17</td>\n",
       "      <td>android_campaign_world</td>\n",
       "      <td>2020-11-01 10:00:06</td>\n",
       "      <td>25.59</td>\n",
       "      <td>0 days 00:15:49</td>\n",
       "      <td>16.0</td>\n",
       "    </tr>\n",
       "    <tr>\n",
       "      <th>3</th>\n",
       "      <td>5761201371</td>\n",
       "      <td>2020-11-28 11:35:45</td>\n",
       "      <td>android_campaign_world</td>\n",
       "      <td>2020-11-29 06:32:52</td>\n",
       "      <td>25.61</td>\n",
       "      <td>0 days 18:57:07</td>\n",
       "      <td>1137.0</td>\n",
       "    </tr>\n",
       "    <tr>\n",
       "      <th>4</th>\n",
       "      <td>5750025764</td>\n",
       "      <td>2020-11-06 10:31:24</td>\n",
       "      <td>android_campaign_world</td>\n",
       "      <td>2020-11-06 10:38:30</td>\n",
       "      <td>15.32</td>\n",
       "      <td>0 days 00:07:06</td>\n",
       "      <td>7.0</td>\n",
       "    </tr>\n",
       "    <tr>\n",
       "      <th>5</th>\n",
       "      <td>5751264619</td>\n",
       "      <td>2020-11-05 21:01:39</td>\n",
       "      <td>android_campaign_world</td>\n",
       "      <td>2020-11-22 18:23:35</td>\n",
       "      <td>23.32</td>\n",
       "      <td>16 days 21:21:56</td>\n",
       "      <td>1282.0</td>\n",
       "    </tr>\n",
       "    <tr>\n",
       "      <th>6</th>\n",
       "      <td>81528348</td>\n",
       "      <td>2020-11-20 14:14:12</td>\n",
       "      <td>ios_campaign_world</td>\n",
       "      <td>2020-11-26 18:27:16</td>\n",
       "      <td>26.95</td>\n",
       "      <td>6 days 04:13:04</td>\n",
       "      <td>253.0</td>\n",
       "    </tr>\n",
       "    <tr>\n",
       "      <th>7</th>\n",
       "      <td>5758646445</td>\n",
       "      <td>2020-11-12 21:59:32</td>\n",
       "      <td>ios_campaign_world</td>\n",
       "      <td>2020-11-21 22:05:28</td>\n",
       "      <td>30.00</td>\n",
       "      <td>9 days 00:05:56</td>\n",
       "      <td>6.0</td>\n",
       "    </tr>\n",
       "    <tr>\n",
       "      <th>8</th>\n",
       "      <td>5760783240</td>\n",
       "      <td>2020-11-26 04:49:37</td>\n",
       "      <td>ios_campaign_north_america</td>\n",
       "      <td>2020-11-26 16:17:25</td>\n",
       "      <td>28.91</td>\n",
       "      <td>0 days 11:27:48</td>\n",
       "      <td>688.0</td>\n",
       "    </tr>\n",
       "    <tr>\n",
       "      <th>9</th>\n",
       "      <td>5760353819</td>\n",
       "      <td>2020-11-23 16:31:52</td>\n",
       "      <td>android_campaign_world</td>\n",
       "      <td>2020-11-30 12:17:59</td>\n",
       "      <td>26.79</td>\n",
       "      <td>6 days 19:46:07</td>\n",
       "      <td>1186.0</td>\n",
       "    </tr>\n",
       "    <tr>\n",
       "      <th>10</th>\n",
       "      <td>84264022</td>\n",
       "      <td>2020-11-23 09:19:17</td>\n",
       "      <td>android_campaign_world</td>\n",
       "      <td>2020-11-27 10:42:03</td>\n",
       "      <td>27.51</td>\n",
       "      <td>4 days 01:22:46</td>\n",
       "      <td>83.0</td>\n",
       "    </tr>\n",
       "    <tr>\n",
       "      <th>11</th>\n",
       "      <td>5752458782</td>\n",
       "      <td>2020-11-02 21:46:20</td>\n",
       "      <td>android_campaign_world</td>\n",
       "      <td>2020-11-02 21:57:04</td>\n",
       "      <td>25.59</td>\n",
       "      <td>0 days 00:10:44</td>\n",
       "      <td>11.0</td>\n",
       "    </tr>\n",
       "    <tr>\n",
       "      <th>12</th>\n",
       "      <td>5761432007</td>\n",
       "      <td>2020-11-30 07:31:17</td>\n",
       "      <td>android_campaign_world</td>\n",
       "      <td>2020-11-30 07:30:01</td>\n",
       "      <td>27.51</td>\n",
       "      <td>-1 days +23:58:44</td>\n",
       "      <td>1439.0</td>\n",
       "    </tr>\n",
       "    <tr>\n",
       "      <th>13</th>\n",
       "      <td>5760651232</td>\n",
       "      <td>2020-11-25 22:11:41</td>\n",
       "      <td>android_campaign_world</td>\n",
       "      <td>2020-11-25 22:24:18</td>\n",
       "      <td>28.63</td>\n",
       "      <td>0 days 00:12:37</td>\n",
       "      <td>13.0</td>\n",
       "    </tr>\n",
       "  </tbody>\n",
       "</table>\n",
       "</div>"
      ],
      "text/plain": [
       "       sk_user   install_timestamp               campaign_name  \\\n",
       "0   5760348013 2020-11-23 16:35:06  ios_campaign_north_america   \n",
       "1     77819358 2020-11-11 02:50:15          ios_campaign_world   \n",
       "2     84278742 2020-11-01 09:44:17      android_campaign_world   \n",
       "3   5761201371 2020-11-28 11:35:45      android_campaign_world   \n",
       "4   5750025764 2020-11-06 10:31:24      android_campaign_world   \n",
       "5   5751264619 2020-11-05 21:01:39      android_campaign_world   \n",
       "6     81528348 2020-11-20 14:14:12          ios_campaign_world   \n",
       "7   5758646445 2020-11-12 21:59:32          ios_campaign_world   \n",
       "8   5760783240 2020-11-26 04:49:37  ios_campaign_north_america   \n",
       "9   5760353819 2020-11-23 16:31:52      android_campaign_world   \n",
       "10    84264022 2020-11-23 09:19:17      android_campaign_world   \n",
       "11  5752458782 2020-11-02 21:46:20      android_campaign_world   \n",
       "12  5761432007 2020-11-30 07:31:17      android_campaign_world   \n",
       "13  5760651232 2020-11-25 22:11:41      android_campaign_world   \n",
       "\n",
       "          purchased_at  revenue      time_elapsed  time_elapsed_mins  \n",
       "0  2020-11-23 16:38:03    21.28   0 days 00:02:57                3.0  \n",
       "1  2020-11-11 02:52:27    43.22   0 days 00:02:12                2.0  \n",
       "2  2020-11-01 10:00:06    25.59   0 days 00:15:49               16.0  \n",
       "3  2020-11-29 06:32:52    25.61   0 days 18:57:07             1137.0  \n",
       "4  2020-11-06 10:38:30    15.32   0 days 00:07:06                7.0  \n",
       "5  2020-11-22 18:23:35    23.32  16 days 21:21:56             1282.0  \n",
       "6  2020-11-26 18:27:16    26.95   6 days 04:13:04              253.0  \n",
       "7  2020-11-21 22:05:28    30.00   9 days 00:05:56                6.0  \n",
       "8  2020-11-26 16:17:25    28.91   0 days 11:27:48              688.0  \n",
       "9  2020-11-30 12:17:59    26.79   6 days 19:46:07             1186.0  \n",
       "10 2020-11-27 10:42:03    27.51   4 days 01:22:46               83.0  \n",
       "11 2020-11-02 21:57:04    25.59   0 days 00:10:44               11.0  \n",
       "12 2020-11-30 07:30:01    27.51 -1 days +23:58:44             1439.0  \n",
       "13 2020-11-25 22:24:18    28.63   0 days 00:12:37               13.0  "
      ]
     },
     "execution_count": 1003,
     "metadata": {},
     "output_type": "execute_result"
    }
   ],
   "source": [
    "app_installs_and_revenue= pd.read_csv('/Users/alejandrabudar/Downloads/app_installs_and_revenue.csv')\n",
    "app_installs_and_revenue.install_timestamp = pd.to_datetime(app_installs_and_revenue.install_timestamp)\n",
    "app_installs_and_revenue.purchased_at = pd.to_datetime(app_installs_and_revenue.purchased_at)\n",
    "app_installs_and_revenue['time_elapsed'] = ((app_installs_and_revenue[\"purchased_at\"].to_numpy()) - (app_installs_and_revenue[\"install_timestamp\"].to_numpy()))\n",
    "app_installs_and_revenue['time_elapsed_mins'] = (app_installs_and_revenue.time_elapsed.dt.seconds/60).round(0)\n",
    "app_installs_and_revenue"
   ]
  },
  {
   "cell_type": "markdown",
   "metadata": {},
   "source": [
    "The data (negative numbers) above shows that there is potential for users to sign up for the app on the web session and pay for the service before downloading the app. This is an issue because this type of journey lessens the users' experience, since signing up on a mobile website can be more cumbersome than on an app, and also lowers the engagement for the entirety of the time that the app is not installed. The implementation of deep links, which is further explained in the final section, could provide a solution, however.  \n"
   ]
  },
  {
   "cell_type": "markdown",
   "metadata": {},
   "source": [
    "."
   ]
  },
  {
   "cell_type": "markdown",
   "metadata": {},
   "source": [
    "Next, I removed the negative numbers from the data and plotted the distribution of the time elapsed. The majority of users spent less than 300 minutes on the app before making the purchase, but there were some who took several days, one even took 16 days, after downloading the app to finally make a purchase. Based on this, I would suggest considering an additional strategy specifically for user app engagement that targets new users. This would capitalize on the excitement and momentum generated from the installation.\n",
    "\n",
    "Below is a visualization of these findings."
   ]
  },
  {
   "cell_type": "code",
   "execution_count": 1009,
   "metadata": {},
   "outputs": [],
   "source": [
    "app_revenue_histplot= app_installs_and_revenue.drop(12, axis=0)"
   ]
  },
  {
   "cell_type": "code",
   "execution_count": 1012,
   "metadata": {},
   "outputs": [
    {
     "data": {
      "text/plain": [
       "<AxesSubplot:xlabel='time_elapsed_mins', ylabel='Count'>"
      ]
     },
     "execution_count": 1012,
     "metadata": {},
     "output_type": "execute_result"
    },
    {
     "data": {
      "image/png": "[encoded data removed]",
      "text/plain": [
       "<Figure size 720x360 with 1 Axes>"
      ]
     },
     "metadata": {
      "needs_background": "light"
     },
     "output_type": "display_data"
    }
   ],
   "source": [
    "fig, ax = pyplot.subplots(figsize=(10, 5))\n",
    "sns.histplot(data=app_installs_and_revenue, x=\"time_elapsed_mins\", hue=\"campaign_name\",  element=\"step\", bins=5)\n"
   ]
  },
  {
   "cell_type": "markdown",
   "metadata": {},
   "source": [
    "."
   ]
  },
  {
   "cell_type": "markdown",
   "metadata": {},
   "source": [
    "After examining the distribution, I looked for a relationship between the time elapsed and the revenue generated. The top left graph shows that the amount of revenue has a left skew, meaning that the majority of the sales are on the lower end and improvements can be made to generate a higher amount of revenue. The top right shows the same trend as the web campaigns: revenue plateaus (and can decrease slightly) as the time between the install and the purchase increases. The second and final graph shows, again, that the frist 10 minutes are critical in generating high revenue."
   ]
  },
  {
   "cell_type": "code",
   "execution_count": 1013,
   "metadata": {},
   "outputs": [
    {
     "data": {
      "text/plain": [
       "<seaborn.axisgrid.PairGrid at 0x7f9fa9281610>"
      ]
     },
     "execution_count": 1013,
     "metadata": {},
     "output_type": "execute_result"
    },
    {
     "data": {
      "image/png": "[encoded data removed]",
      "text/plain": [
       "<Figure size 360x360 with 6 Axes>"
      ]
     },
     "metadata": {
      "needs_background": "light"
     },
     "output_type": "display_data"
    }
   ],
   "source": [
    "#first graph\n",
    "revenue1= app_installs_and_revenue.drop(['sk_user', 'install_timestamp', 'purchased_at',], axis=1)\n",
    "sns.pairplot(revenue1)"
   ]
  },
  {
   "cell_type": "code",
   "execution_count": 1014,
   "metadata": {},
   "outputs": [
    {
     "data": {
      "text/plain": [
       "(0.0, 60.0)"
      ]
     },
     "execution_count": 1014,
     "metadata": {},
     "output_type": "execute_result"
    },
    {
     "data": {
      "image/png": "[encoded data removed]",
      "text/plain": [
       "<Figure size 432x288 with 1 Axes>"
      ]
     },
     "metadata": {
      "needs_background": "light"
     },
     "output_type": "display_data"
    }
   ],
   "source": [
    "#second graph\n",
    "sns.scatterplot(data=revenue1, x=\"time_elapsed_mins\", y=\"revenue\", hue=\"campaign_name\")\n",
    "plt.xlim(0,60) "
   ]
  },
  {
   "cell_type": "markdown",
   "metadata": {},
   "source": [
    "### III. App vs. Web Campaigns "
   ]
  },
  {
   "cell_type": "markdown",
   "metadata": {},
   "source": [
    "After deep diving into the specifics within each app and web campaign, I thought a simplification/overview of the general performance of app versus web campaigns would be helpful for a high-level understanding. For simplicity, and to spare you from reading more code, I decided upon only 3 metrics:\n",
    "\n",
    "1. Number of conversion\n",
    "\n",
    "2. CAC\n",
    "\n",
    "3. ROI \n",
    "\n",
    "\n"
   ]
  },
  {
   "cell_type": "code",
   "execution_count": 1025,
   "metadata": {},
   "outputs": [
    {
     "data": {
      "text/plain": [
       "Text(0.5, 1.0, 'App (126703 Installations)')"
      ]
     },
     "execution_count": 1025,
     "metadata": {},
     "output_type": "execute_result"
    },
    {
     "data": {
      "image/png": "[encoded data removed]",
      "text/plain": [
       "<Figure size 1080x360 with 2 Axes>"
      ]
     },
     "metadata": {
      "needs_background": "light"
     },
     "output_type": "display_data"
    }
   ],
   "source": [
    "fig, axes = plt.subplots(1, 2, figsize=(15, 5), sharey=True)\n",
    "fig.suptitle('Conversions: App vs Web Campaign')\n",
    "\n",
    "sns.barplot( y=[campaign_conversion.sk_user.sum()], data=campaign_conversion, ax=axes[0])\n",
    "sns.barplot( y=[campaign_conversion1.sk_user.sum()], data=campaign_conversion1, ax=axes[1])\n",
    "        \n",
    "axes[0].set_title('Web (721 Installations)')\n",
    "axes[1].set_title('App (126703 Installations)')"
   ]
  },
  {
   "cell_type": "markdown",
   "metadata": {},
   "source": [
    "The above graphs show that the app campaigns brought in 175 times more installations than the web campaigns. "
   ]
  },
  {
   "cell_type": "markdown",
   "metadata": {},
   "source": [
    "."
   ]
  },
  {
   "cell_type": "markdown",
   "metadata": {},
   "source": [
    "In terms of cost per action, the web campaigns were more expensive at about 370 euros per app installation versus the app campaigns, which were only about 2 euros an install. "
   ]
  },
  {
   "cell_type": "code",
   "execution_count": 952,
   "metadata": {},
   "outputs": [
    {
     "name": "stdout",
     "output_type": "stream",
     "text": [
      "CPA -- cost per action (€ /intall)\n",
      "\n",
      "App Campaigns: 2.1082531589622975\n",
      "Web Campaigns: 370.4882108183079\n"
     ]
    }
   ],
   "source": [
    "print('CPA -- cost per action (€ /intall)')\n",
    "print ('')\n",
    "print('App Campaigns:', (app_spend.spend.sum())/(campaign_conversion1.sk_user.sum()))\n",
    "print('Web Campaigns:', (web_spend.spend.sum())/(campaign_conversion.sk_user.sum()))\n"
   ]
  },
  {
   "cell_type": "markdown",
   "metadata": {},
   "source": [
    "."
   ]
  },
  {
   "cell_type": "markdown",
   "metadata": {},
   "source": [
    "Lastly, I utilized the formula (revenue - cost of campaign)/ (cost of campaign) to calculate the ROI for the app and web campaigns. Based on these calculations, there is room for improvement in both type of campaigns."
   ]
  },
  {
   "cell_type": "code",
   "execution_count": 1037,
   "metadata": {},
   "outputs": [
    {
     "name": "stdout",
     "output_type": "stream",
     "text": [
      "ROI (%)\n",
      "\n",
      "App Campaign: -99.85915424412816\n",
      "Web Campaign: -94.95288295235885\n"
     ]
    }
   ],
   "source": [
    "app_roi= (app_installs_and_revenue.revenue.sum()-(app_spend.spend.sum()))/(app_spend.spend.sum())*100\n",
    "web_roi= (unique_web_users.revenue.sum()-(web_spend.spend.sum()))/(web_spend.spend.sum())*100\n",
    "\n",
    "\n",
    "print('ROI (%)')\n",
    "print('')\n",
    "print ( 'App Campaign:', app_roi)\n",
    "print('Web Campaign:', web_roi)\n",
    "\n"
   ]
  },
  {
   "cell_type": "markdown",
   "metadata": {},
   "source": [
    "### IV. K-means Clustering Algorithm for Customer Segmentation"
   ]
  },
  {
   "cell_type": "markdown",
   "metadata": {},
   "source": [
    "In order to provide you with a better understanding of my capabilities, I decided to highlight a use case of how my machine learning expertise could be used for business intelligence purposes for Asana Rebel. After some research on the analytics provided by Facebook Ads, I learnt that it provides segmented user information, but not entire profiles. For example, it might tell you whether more females or males viewed the add or what geographical location most viewers came from or the most frequent ages of those viewers. However, it does not provide a complete user profile that correlates all the data, such as: Female, American, between the ages of 22-25. That is where machine learning comes in. The K-means clustering algorithm can be used to group users by given characteristics. It looks for similarities amongst the data points and groups them accordingly. This can then be used to see how many different groups and what kind of users responded well to the campaigns. \n",
    "\n",
    "Since I did not have access to data about the users, I merely used the variables that I did have in order to demonstrate its potential use. Specifically, the variables I used were revenue and time elapsed during a session from the web campaigns. Since the majority of the code below is the preparation of data and implementation of the algorithm, it can be glazed over. Instead, I would like to direct your attention to the final cell containing the graph. It shows the final result: two main customer profiles responded to the web campaigns. \n",
    "\n",
    "Again, the segmentation is more for demonstration purposes, since the variables were improvised and more data is required. But, the potential from the results are numerous. For example, customers in group 1 can be added to a different email list than those from group 2 in order to customize marketing approaches. Additionally, the higher revenue generating group can be added to a VIP loyalty program while the lower revenue generating group can be sent periodic offers to entice them to spend more. \n"
   ]
  },
  {
   "cell_type": "code",
   "execution_count": 996,
   "metadata": {},
   "outputs": [],
   "source": [
    "cluster= web_installs4.drop(['install_timestamp', 'session_started_timestamp'], axis=1)"
   ]
  },
  {
   "cell_type": "code",
   "execution_count": 745,
   "metadata": {},
   "outputs": [
    {
     "data": {
      "text/html": [
       "<div>\n",
       "<style scoped>\n",
       "    .dataframe tbody tr th:only-of-type {\n",
       "        vertical-align: middle;\n",
       "    }\n",
       "\n",
       "    .dataframe tbody tr th {\n",
       "        vertical-align: top;\n",
       "    }\n",
       "\n",
       "    .dataframe thead th {\n",
       "        text-align: right;\n",
       "    }\n",
       "</style>\n",
       "<table border=\"1\" class=\"dataframe\">\n",
       "  <thead>\n",
       "    <tr style=\"text-align: right;\">\n",
       "      <th></th>\n",
       "      <th>revenue</th>\n",
       "      <th>time_elapsed</th>\n",
       "    </tr>\n",
       "  </thead>\n",
       "  <tbody>\n",
       "    <tr>\n",
       "      <th>0</th>\n",
       "      <td>-0.220566</td>\n",
       "      <td>-0.675663</td>\n",
       "    </tr>\n",
       "    <tr>\n",
       "      <th>1</th>\n",
       "      <td>0.577624</td>\n",
       "      <td>-0.653347</td>\n",
       "    </tr>\n",
       "    <tr>\n",
       "      <th>2</th>\n",
       "      <td>-3.668746</td>\n",
       "      <td>-0.681749</td>\n",
       "    </tr>\n",
       "    <tr>\n",
       "      <th>3</th>\n",
       "      <td>-3.322455</td>\n",
       "      <td>-0.675663</td>\n",
       "    </tr>\n",
       "    <tr>\n",
       "      <th>4</th>\n",
       "      <td>0.216596</td>\n",
       "      <td>-0.679720</td>\n",
       "    </tr>\n",
       "    <tr>\n",
       "      <th>...</th>\n",
       "      <td>...</td>\n",
       "      <td>...</td>\n",
       "    </tr>\n",
       "    <tr>\n",
       "      <th>756</th>\n",
       "      <td>0.553064</td>\n",
       "      <td>-0.626975</td>\n",
       "    </tr>\n",
       "    <tr>\n",
       "      <th>757</th>\n",
       "      <td>-0.525106</td>\n",
       "      <td>-0.641175</td>\n",
       "    </tr>\n",
       "    <tr>\n",
       "      <th>758</th>\n",
       "      <td>0.393426</td>\n",
       "      <td>-0.653347</td>\n",
       "    </tr>\n",
       "    <tr>\n",
       "      <th>759</th>\n",
       "      <td>0.000471</td>\n",
       "      <td>-0.397736</td>\n",
       "    </tr>\n",
       "    <tr>\n",
       "      <th>760</th>\n",
       "      <td>-0.161623</td>\n",
       "      <td>-0.679720</td>\n",
       "    </tr>\n",
       "  </tbody>\n",
       "</table>\n",
       "<p>761 rows × 2 columns</p>\n",
       "</div>"
      ],
      "text/plain": [
       "      revenue  time_elapsed\n",
       "0   -0.220566     -0.675663\n",
       "1    0.577624     -0.653347\n",
       "2   -3.668746     -0.681749\n",
       "3   -3.322455     -0.675663\n",
       "4    0.216596     -0.679720\n",
       "..        ...           ...\n",
       "756  0.553064     -0.626975\n",
       "757 -0.525106     -0.641175\n",
       "758  0.393426     -0.653347\n",
       "759  0.000471     -0.397736\n",
       "760 -0.161623     -0.679720\n",
       "\n",
       "[761 rows x 2 columns]"
      ]
     },
     "execution_count": 745,
     "metadata": {},
     "output_type": "execute_result"
    }
   ],
   "source": [
    "from sklearn.preprocessing import StandardScaler\n",
    "import numpy as np\n",
    "\n",
    "X = cluster.values[:,1:]\n",
    "X = np.nan_to_num(X)\n",
    "Clus_dataSet = StandardScaler().fit_transform(X)\n",
    "df_normalized = pd.DataFrame(Clus_dataSet)\n",
    "df_normalized.rename(columns={0:'revenue', 1:'time_elapsed'}, inplace=True)\n",
    "df_normalized"
   ]
  },
  {
   "cell_type": "code",
   "execution_count": 707,
   "metadata": {},
   "outputs": [
    {
     "data": {
      "image/png": "[encoded data removed]",
      "text/plain": [
       "<Figure size 864x432 with 1 Axes>"
      ]
     },
     "metadata": {
      "needs_background": "light"
     },
     "output_type": "display_data"
    }
   ],
   "source": [
    "#the \"elbow\" of the curve is the optimal number of groups, which in this case is 2\n",
    "\n",
    "from sklearn.cluster import KMeans\n",
    "\n",
    "wcss = []\n",
    "for k in range(1,11):\n",
    "    kmeans = KMeans(n_clusters=k, init=\"k-means++\")\n",
    "    kmeans.fit(df_normalized.iloc[:,1:])\n",
    "    wcss.append(kmeans.inertia_)\n",
    "plt.figure(figsize=(12,6))    \n",
    "plt.grid()\n",
    "plt.plot(range(1,11),wcss, linewidth=2, color=\"red\", marker =\"8\")\n",
    "plt.xlabel(\"K Value\")\n",
    "plt.xticks(np.arange(1,11,1))\n",
    "plt.ylabel(\"WCSS\")\n",
    "plt.show()"
   ]
  },
  {
   "cell_type": "code",
   "execution_count": 685,
   "metadata": {},
   "outputs": [],
   "source": [
    "clusterNum = 2\n",
    "k_means = KMeans(init = \"k-means++\", n_clusters = clusterNum, n_init = 12)\n",
    "k_means.fit(df_normalized)\n",
    "labels = k_means.labels_"
   ]
  },
  {
   "cell_type": "code",
   "execution_count": 751,
   "metadata": {},
   "outputs": [
    {
     "data": {
      "text/html": [
       "<div>\n",
       "<style scoped>\n",
       "    .dataframe tbody tr th:only-of-type {\n",
       "        vertical-align: middle;\n",
       "    }\n",
       "\n",
       "    .dataframe tbody tr th {\n",
       "        vertical-align: top;\n",
       "    }\n",
       "\n",
       "    .dataframe thead th {\n",
       "        text-align: right;\n",
       "    }\n",
       "</style>\n",
       "<table border=\"1\" class=\"dataframe\">\n",
       "  <thead>\n",
       "    <tr style=\"text-align: right;\">\n",
       "      <th></th>\n",
       "      <th>sk_user</th>\n",
       "      <th>Cluster Number</th>\n",
       "    </tr>\n",
       "  </thead>\n",
       "  <tbody>\n",
       "    <tr>\n",
       "      <th>0</th>\n",
       "      <td>5760718740</td>\n",
       "      <td>0</td>\n",
       "    </tr>\n",
       "    <tr>\n",
       "      <th>1</th>\n",
       "      <td>5760787444</td>\n",
       "      <td>0</td>\n",
       "    </tr>\n",
       "    <tr>\n",
       "      <th>2</th>\n",
       "      <td>5759581305</td>\n",
       "      <td>0</td>\n",
       "    </tr>\n",
       "    <tr>\n",
       "      <th>3</th>\n",
       "      <td>5759397241</td>\n",
       "      <td>0</td>\n",
       "    </tr>\n",
       "    <tr>\n",
       "      <th>4</th>\n",
       "      <td>83182063</td>\n",
       "      <td>0</td>\n",
       "    </tr>\n",
       "    <tr>\n",
       "      <th>...</th>\n",
       "      <td>...</td>\n",
       "      <td>...</td>\n",
       "    </tr>\n",
       "    <tr>\n",
       "      <th>756</th>\n",
       "      <td>5760793376</td>\n",
       "      <td>0</td>\n",
       "    </tr>\n",
       "    <tr>\n",
       "      <th>757</th>\n",
       "      <td>5760720497</td>\n",
       "      <td>0</td>\n",
       "    </tr>\n",
       "    <tr>\n",
       "      <th>758</th>\n",
       "      <td>5761105936</td>\n",
       "      <td>0</td>\n",
       "    </tr>\n",
       "    <tr>\n",
       "      <th>759</th>\n",
       "      <td>5750444109</td>\n",
       "      <td>0</td>\n",
       "    </tr>\n",
       "    <tr>\n",
       "      <th>760</th>\n",
       "      <td>5761435935</td>\n",
       "      <td>0</td>\n",
       "    </tr>\n",
       "  </tbody>\n",
       "</table>\n",
       "<p>761 rows × 2 columns</p>\n",
       "</div>"
      ],
      "text/plain": [
       "        sk_user  Cluster Number\n",
       "0    5760718740               0\n",
       "1    5760787444               0\n",
       "2    5759581305               0\n",
       "3    5759397241               0\n",
       "4      83182063               0\n",
       "..          ...             ...\n",
       "756  5760793376               0\n",
       "757  5760720497               0\n",
       "758  5761105936               0\n",
       "759  5750444109               0\n",
       "760  5761435935               0\n",
       "\n",
       "[761 rows x 2 columns]"
      ]
     },
     "execution_count": 751,
     "metadata": {},
     "output_type": "execute_result"
    }
   ],
   "source": [
    "#can be saved in the data base and added to emailing lists depending on the cluster #\n",
    "campaign_targets= web_installs4.drop(['revenue', 'time_elapsed_mins','campaign_name', 'install_timestamp', 'session_started_timestamp', 'time_elapsed'], axis=1)\n",
    "campaign_targets[\"Cluster Number\"] = labels\n",
    "campaign_targets\n"
   ]
  },
  {
   "cell_type": "code",
   "execution_count": 763,
   "metadata": {
    "scrolled": true
   },
   "outputs": [
    {
     "data": {
      "text/plain": [
       "Text(0, 0.5, 'Revenue Generated')"
      ]
     },
     "execution_count": 763,
     "metadata": {},
     "output_type": "execute_result"
    },
    {
     "data": {
      "image/png": "[encoded data removed]",
      "text/plain": [
       "<Figure size 432x288 with 1 Axes>"
      ]
     },
     "metadata": {
      "needs_background": "light"
     },
     "output_type": "display_data"
    }
   ],
   "source": [
    "sns.scatterplot(data=web_installs4, x= X[:, 1], y= X[:, 0], hue= labels.astype(np.float))\n",
    "plt.xlabel(\"Time Elapsed\")\n",
    "plt.ylabel(\"Revenue Generated\")"
   ]
  },
  {
   "cell_type": "markdown",
   "metadata": {},
   "source": [
    "### V. Final Recommendations"
   ]
  },
  {
   "cell_type": "markdown",
   "metadata": {},
   "source": [
    "\n",
    "Congratulations, you have made it to the final section of the report! \n",
    "\n",
    "For the finale, I would like to end with a final recommendation to tackle the web campaign attribution difficulties. During my time at Apple, I learnt the term \"a warm hand-off\". This refered to seamless transitions within the user experience. It means guiding the client throughout his or her process and providing warm hand-offs when changes arise. In this case, a warm hand-off is needed between the web ad and the installation/opening of the app. I believe it can be achieved through the use of deep links, particularly those provided and monitored by Branch.  \n",
    "\n",
    "After reading about the logic behind the Facebook algorithm monitoring ad links, I learnt that Facebook's aim is to keep users on their app as long as possible. Therefore, in order to do so the default of ad links are set to open as mobile websites that remain within the Facebook app. An ad link only opens in an app if the user already has the app installed; however, for our purposes, this is essentially useless since the people targeted by the campaign will not have the app previously installed.   \n",
    "\n",
    "However, Branch is a new startup in Silicon Valley, with large clients such as Airbnb and Microsoft, that provides a solution to combat this. They not only direct the user to install the app but also direct them to a specific page within the app once it opens. Branch has developed a technology that detects whether the user has the company app installed, then asks if the user would like to download this app before they enter the mobile web page, then redirects them to the app store page for the particular app, and opens a specefic page (such as the sign up page) once installation is complete. The best part is that it tracks the user throughout the process and analytics for marketing campaigns are also provided, allowing for an accurate understanding of the user journey and correct web campaign attribution. \n",
    "\n",
    "You can find more information about it here: https://blog.branch.io/how-to-deep-link-on-facebook/\n"
   ]
  },
  {
   "cell_type": "markdown",
   "metadata": {},
   "source": [
    "Lastly, thank you very much for sharing your data with me and having taken the time to read through this analysis. I hope it was helpful and provided some insights into my analytical mindset and data science expertise, as well as the value these can bring to the Asana Rebel team. I welcome any feedback and/or questions.\n"
   ]
  }
 ],
 "metadata": {
  "kernelspec": {
   "display_name": "Python 3",
   "language": "python",
   "name": "python3"
  },
  "language_info": {
   "codemirror_mode": {
    "name": "ipython",
    "version": 3
   },
   "file_extension": ".py",
   "mimetype": "text/x-python",
   "name": "python",
   "nbconvert_exporter": "python",
   "pygments_lexer": "ipython3",
   "version": "3.8.5"
  }
 },
 "nbformat": 4,
 "nbformat_minor": 4
}
