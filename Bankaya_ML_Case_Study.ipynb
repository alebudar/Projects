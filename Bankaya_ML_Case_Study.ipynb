{
  "nbformat": 4,
  "nbformat_minor": 0,
  "metadata": {
    "colab": {
      "provenance": []
    },
    "kernelspec": {
      "name": "python3",
      "display_name": "Python 3"
    },
    "language_info": {
      "name": "python"
    }
  },
  "cells": [
    {
      "cell_type": "markdown",
      "source": [
        "## Goal: risk assessment for first time loan to buy smartphone\n",
        "\n",
        "The model should either approve/reject users based on risk"
      ],
      "metadata": {
        "id": "0wCoJjqxvP0e"
      }
    },
    {
      "cell_type": "markdown",
      "source": [
        "This notebook contains the following sections/steps:\n",
        "1. The loading, preprocessing and data cleaning of the **credit reports** data frame.\n",
        "2. The loading, preprocessing and data cleaning of the **main** data frame.\n",
        "3. The merging of the credit reports data frame and the main data frame, as well as feature engineering and handling of null data.\n",
        "4. The creation and running of the ML model for approval/rejection of loan applications based on risk assessment.\n",
        "5. Suggestions and proposals and how to best implement said model, as well as combine it with other potential models.\n",
        "\n",
        "Any questions should be directed to **Alejandra Budar**"
      ],
      "metadata": {
        "id": "SlrYlSF8-UxE"
      }
    },
    {
      "cell_type": "markdown",
      "source": [
        "## 1. Credit reports data frame"
      ],
      "metadata": {
        "id": "gLNfLWdeRDbs"
      }
    },
    {
      "cell_type": "code",
      "execution_count": 1,
      "metadata": {
        "colab": {
          "base_uri": "https://localhost:8080/",
          "height": 499
        },
        "id": "_KN01aAbvJJ6",
        "outputId": "cc6de5e4-3714-40e3-9eb6-5424ec9fe98a"
      },
      "outputs": [
        {
          "output_type": "execute_result",
          "data": {
            "text/plain": [
              "   customer_id                     INQUIRY_TIME  \\\n",
              "0         4223 2022-04-01 00:32:36.689000+00:00   \n",
              "1         4223 2022-04-01 00:32:36.689000+00:00   \n",
              "2         4223 2022-04-01 00:32:36.689000+00:00   \n",
              "3         3490 2022-02-15 02:30:22.086000+00:00   \n",
              "4         6486 2022-06-25 01:57:14.868000+00:00   \n",
              "\n",
              "                                CDC_INQUIRY_ID INQUIRY_DATE   PREVENTION_KEY  \\\n",
              "0  710278-27993a6e-2885-48d4-a753-9249e7022af1   2022-04-01  SIN OBSERVACION   \n",
              "1  710278-27993a6e-2885-48d4-a753-9249e7022af1   2022-04-01  SIN OBSERVACION   \n",
              "2  710278-27993a6e-2885-48d4-a753-9249e7022af1   2022-04-01  SIN OBSERVACION   \n",
              "3  622857-6b4e9d95-7491-40c3-bccd-442de7f94c58   2022-02-15  SIN OBSERVACION   \n",
              "4  875073-46a5f149-19db-4193-b92a-b8f41fb3e896   2022-06-25  SIN OBSERVACION   \n",
              "\n",
              "          CURRENCY  MAX_CREDIT  CREDIT_LIMIT  PAYMENT_AMOUNT UPDATE_DATE  ...  \\\n",
              "0  PESOS MEXICANOS      1244.0        9900.0          1244.0  2022-02-28  ...   \n",
              "1  PESOS MEXICANOS      1722.0        9900.0          1722.0  2022-02-28  ...   \n",
              "2  PESOS MEXICANOS      6346.0           0.0           482.0  2022-03-28  ...   \n",
              "3  PESOS MEXICANOS     11600.0           0.0           232.0  2022-02-01  ...   \n",
              "4  PESOS MEXICANOS      2452.0       16800.0          2452.0  2021-09-30  ...   \n",
              "\n",
              "  ACCOUNT_TYPE   RESPONSABILITY_TYPE TOTAL_PAYMENTS DELAYED_PAYMENTS  \\\n",
              "0  PAGOS FIJOS  INDIVIDUAL (TITULAR)           12.0                7   \n",
              "1   REVOLVENTE  INDIVIDUAL (TITULAR)            0.0                3   \n",
              "2  PAGOS FIJOS  INDIVIDUAL (TITULAR)           16.0                0   \n",
              "3  PAGOS FIJOS  INDIVIDUAL (TITULAR)          100.0                4   \n",
              "4   REVOLVENTE  INDIVIDUAL (TITULAR)            0.0               19   \n",
              "\n",
              "  CURRENT_PAYMENT WORST_DELAY TOTAL_REPORTED_PAYMENTS CURRENT_BALANCE  \\\n",
              "0              13        13.0                       0          1244.0   \n",
              "1              13        13.0                       0          1722.0   \n",
              "2               V         0.0                       0           943.0   \n",
              "3              01         1.0                       0          6185.0   \n",
              "4              13        13.0                       0          2452.0   \n",
              "\n",
              "  BALANCE_DUE BALANCE_DUE_WORST_DELAY  \n",
              "0      1244.0                  1244.0  \n",
              "1      1722.0                  1722.0  \n",
              "2         0.0                     0.0  \n",
              "3       116.0                   116.0  \n",
              "4      2452.0                  2452.0  \n",
              "\n",
              "[5 rows x 29 columns]"
            ],
            "text/html": [
              "\n",
              "  <div id=\"df-1311a3ca-f43d-4411-8314-70df7aa2025c\" class=\"colab-df-container\">\n",
              "    <div>\n",
              "<style scoped>\n",
              "    .dataframe tbody tr th:only-of-type {\n",
              "        vertical-align: middle;\n",
              "    }\n",
              "\n",
              "    .dataframe tbody tr th {\n",
              "        vertical-align: top;\n",
              "    }\n",
              "\n",
              "    .dataframe thead th {\n",
              "        text-align: right;\n",
              "    }\n",
              "</style>\n",
              "<table border=\"1\" class=\"dataframe\">\n",
              "  <thead>\n",
              "    <tr style=\"text-align: right;\">\n",
              "      <th></th>\n",
              "      <th>customer_id</th>\n",
              "      <th>INQUIRY_TIME</th>\n",
              "      <th>CDC_INQUIRY_ID</th>\n",
              "      <th>INQUIRY_DATE</th>\n",
              "      <th>PREVENTION_KEY</th>\n",
              "      <th>CURRENCY</th>\n",
              "      <th>MAX_CREDIT</th>\n",
              "      <th>CREDIT_LIMIT</th>\n",
              "      <th>PAYMENT_AMOUNT</th>\n",
              "      <th>UPDATE_DATE</th>\n",
              "      <th>...</th>\n",
              "      <th>ACCOUNT_TYPE</th>\n",
              "      <th>RESPONSABILITY_TYPE</th>\n",
              "      <th>TOTAL_PAYMENTS</th>\n",
              "      <th>DELAYED_PAYMENTS</th>\n",
              "      <th>CURRENT_PAYMENT</th>\n",
              "      <th>WORST_DELAY</th>\n",
              "      <th>TOTAL_REPORTED_PAYMENTS</th>\n",
              "      <th>CURRENT_BALANCE</th>\n",
              "      <th>BALANCE_DUE</th>\n",
              "      <th>BALANCE_DUE_WORST_DELAY</th>\n",
              "    </tr>\n",
              "  </thead>\n",
              "  <tbody>\n",
              "    <tr>\n",
              "      <th>0</th>\n",
              "      <td>4223</td>\n",
              "      <td>2022-04-01 00:32:36.689000+00:00</td>\n",
              "      <td>710278-27993a6e-2885-48d4-a753-9249e7022af1</td>\n",
              "      <td>2022-04-01</td>\n",
              "      <td>SIN OBSERVACION</td>\n",
              "      <td>PESOS MEXICANOS</td>\n",
              "      <td>1244.0</td>\n",
              "      <td>9900.0</td>\n",
              "      <td>1244.0</td>\n",
              "      <td>2022-02-28</td>\n",
              "      <td>...</td>\n",
              "      <td>PAGOS FIJOS</td>\n",
              "      <td>INDIVIDUAL (TITULAR)</td>\n",
              "      <td>12.0</td>\n",
              "      <td>7</td>\n",
              "      <td>13</td>\n",
              "      <td>13.0</td>\n",
              "      <td>0</td>\n",
              "      <td>1244.0</td>\n",
              "      <td>1244.0</td>\n",
              "      <td>1244.0</td>\n",
              "    </tr>\n",
              "    <tr>\n",
              "      <th>1</th>\n",
              "      <td>4223</td>\n",
              "      <td>2022-04-01 00:32:36.689000+00:00</td>\n",
              "      <td>710278-27993a6e-2885-48d4-a753-9249e7022af1</td>\n",
              "      <td>2022-04-01</td>\n",
              "      <td>SIN OBSERVACION</td>\n",
              "      <td>PESOS MEXICANOS</td>\n",
              "      <td>1722.0</td>\n",
              "      <td>9900.0</td>\n",
              "      <td>1722.0</td>\n",
              "      <td>2022-02-28</td>\n",
              "      <td>...</td>\n",
              "      <td>REVOLVENTE</td>\n",
              "      <td>INDIVIDUAL (TITULAR)</td>\n",
              "      <td>0.0</td>\n",
              "      <td>3</td>\n",
              "      <td>13</td>\n",
              "      <td>13.0</td>\n",
              "      <td>0</td>\n",
              "      <td>1722.0</td>\n",
              "      <td>1722.0</td>\n",
              "      <td>1722.0</td>\n",
              "    </tr>\n",
              "    <tr>\n",
              "      <th>2</th>\n",
              "      <td>4223</td>\n",
              "      <td>2022-04-01 00:32:36.689000+00:00</td>\n",
              "      <td>710278-27993a6e-2885-48d4-a753-9249e7022af1</td>\n",
              "      <td>2022-04-01</td>\n",
              "      <td>SIN OBSERVACION</td>\n",
              "      <td>PESOS MEXICANOS</td>\n",
              "      <td>6346.0</td>\n",
              "      <td>0.0</td>\n",
              "      <td>482.0</td>\n",
              "      <td>2022-03-28</td>\n",
              "      <td>...</td>\n",
              "      <td>PAGOS FIJOS</td>\n",
              "      <td>INDIVIDUAL (TITULAR)</td>\n",
              "      <td>16.0</td>\n",
              "      <td>0</td>\n",
              "      <td>V</td>\n",
              "      <td>0.0</td>\n",
              "      <td>0</td>\n",
              "      <td>943.0</td>\n",
              "      <td>0.0</td>\n",
              "      <td>0.0</td>\n",
              "    </tr>\n",
              "    <tr>\n",
              "      <th>3</th>\n",
              "      <td>3490</td>\n",
              "      <td>2022-02-15 02:30:22.086000+00:00</td>\n",
              "      <td>622857-6b4e9d95-7491-40c3-bccd-442de7f94c58</td>\n",
              "      <td>2022-02-15</td>\n",
              "      <td>SIN OBSERVACION</td>\n",
              "      <td>PESOS MEXICANOS</td>\n",
              "      <td>11600.0</td>\n",
              "      <td>0.0</td>\n",
              "      <td>232.0</td>\n",
              "      <td>2022-02-01</td>\n",
              "      <td>...</td>\n",
              "      <td>PAGOS FIJOS</td>\n",
              "      <td>INDIVIDUAL (TITULAR)</td>\n",
              "      <td>100.0</td>\n",
              "      <td>4</td>\n",
              "      <td>01</td>\n",
              "      <td>1.0</td>\n",
              "      <td>0</td>\n",
              "      <td>6185.0</td>\n",
              "      <td>116.0</td>\n",
              "      <td>116.0</td>\n",
              "    </tr>\n",
              "    <tr>\n",
              "      <th>4</th>\n",
              "      <td>6486</td>\n",
              "      <td>2022-06-25 01:57:14.868000+00:00</td>\n",
              "      <td>875073-46a5f149-19db-4193-b92a-b8f41fb3e896</td>\n",
              "      <td>2022-06-25</td>\n",
              "      <td>SIN OBSERVACION</td>\n",
              "      <td>PESOS MEXICANOS</td>\n",
              "      <td>2452.0</td>\n",
              "      <td>16800.0</td>\n",
              "      <td>2452.0</td>\n",
              "      <td>2021-09-30</td>\n",
              "      <td>...</td>\n",
              "      <td>REVOLVENTE</td>\n",
              "      <td>INDIVIDUAL (TITULAR)</td>\n",
              "      <td>0.0</td>\n",
              "      <td>19</td>\n",
              "      <td>13</td>\n",
              "      <td>13.0</td>\n",
              "      <td>0</td>\n",
              "      <td>2452.0</td>\n",
              "      <td>2452.0</td>\n",
              "      <td>2452.0</td>\n",
              "    </tr>\n",
              "  </tbody>\n",
              "</table>\n",
              "<p>5 rows × 29 columns</p>\n",
              "</div>\n",
              "    <div class=\"colab-df-buttons\">\n",
              "\n",
              "  <div class=\"colab-df-container\">\n",
              "    <button class=\"colab-df-convert\" onclick=\"convertToInteractive('df-1311a3ca-f43d-4411-8314-70df7aa2025c')\"\n",
              "            title=\"Convert this dataframe to an interactive table.\"\n",
              "            style=\"display:none;\">\n",
              "\n",
              "  <svg xmlns=\"http://www.w3.org/2000/svg\" height=\"24px\" viewBox=\"0 -960 960 960\">\n",
              "    <path d=\"M120-120v-720h720v720H120Zm60-500h600v-160H180v160Zm220 220h160v-160H400v160Zm0 220h160v-160H400v160ZM180-400h160v-160H180v160Zm440 0h160v-160H620v160ZM180-180h160v-160H180v160Zm440 0h160v-160H620v160Z\"/>\n",
              "  </svg>\n",
              "    </button>\n",
              "\n",
              "  <style>\n",
              "    .colab-df-container {\n",
              "      display:flex;\n",
              "      gap: 12px;\n",
              "    }\n",
              "\n",
              "    .colab-df-convert {\n",
              "      background-color: #E8F0FE;\n",
              "      border: none;\n",
              "      border-radius: 50%;\n",
              "      cursor: pointer;\n",
              "      display: none;\n",
              "      fill: #1967D2;\n",
              "      height: 32px;\n",
              "      padding: 0 0 0 0;\n",
              "      width: 32px;\n",
              "    }\n",
              "\n",
              "    .colab-df-convert:hover {\n",
              "      background-color: #E2EBFA;\n",
              "      box-shadow: 0px 1px 2px rgba(60, 64, 67, 0.3), 0px 1px 3px 1px rgba(60, 64, 67, 0.15);\n",
              "      fill: #174EA6;\n",
              "    }\n",
              "\n",
              "    .colab-df-buttons div {\n",
              "      margin-bottom: 4px;\n",
              "    }\n",
              "\n",
              "    [theme=dark] .colab-df-convert {\n",
              "      background-color: #3B4455;\n",
              "      fill: #D2E3FC;\n",
              "    }\n",
              "\n",
              "    [theme=dark] .colab-df-convert:hover {\n",
              "      background-color: #434B5C;\n",
              "      box-shadow: 0px 1px 3px 1px rgba(0, 0, 0, 0.15);\n",
              "      filter: drop-shadow(0px 1px 2px rgba(0, 0, 0, 0.3));\n",
              "      fill: #FFFFFF;\n",
              "    }\n",
              "  </style>\n",
              "\n",
              "    <script>\n",
              "      const buttonEl =\n",
              "        document.querySelector('#df-1311a3ca-f43d-4411-8314-70df7aa2025c button.colab-df-convert');\n",
              "      buttonEl.style.display =\n",
              "        google.colab.kernel.accessAllowed ? 'block' : 'none';\n",
              "\n",
              "      async function convertToInteractive(key) {\n",
              "        const element = document.querySelector('#df-1311a3ca-f43d-4411-8314-70df7aa2025c');\n",
              "        const dataTable =\n",
              "          await google.colab.kernel.invokeFunction('convertToInteractive',\n",
              "                                                    [key], {});\n",
              "        if (!dataTable) return;\n",
              "\n",
              "        const docLinkHtml = 'Like what you see? Visit the ' +\n",
              "          '<a target=\"_blank\" href=https://colab.research.google.com/notebooks/data_table.ipynb>data table notebook</a>'\n",
              "          + ' to learn more about interactive tables.';\n",
              "        element.innerHTML = '';\n",
              "        dataTable['output_type'] = 'display_data';\n",
              "        await google.colab.output.renderOutput(dataTable, element);\n",
              "        const docLink = document.createElement('div');\n",
              "        docLink.innerHTML = docLinkHtml;\n",
              "        element.appendChild(docLink);\n",
              "      }\n",
              "    </script>\n",
              "  </div>\n",
              "\n",
              "\n",
              "<div id=\"df-87373131-f787-40c3-9095-23f1da628e9b\">\n",
              "  <button class=\"colab-df-quickchart\" onclick=\"quickchart('df-87373131-f787-40c3-9095-23f1da628e9b')\"\n",
              "            title=\"Suggest charts\"\n",
              "            style=\"display:none;\">\n",
              "\n",
              "<svg xmlns=\"http://www.w3.org/2000/svg\" height=\"24px\"viewBox=\"0 0 24 24\"\n",
              "     width=\"24px\">\n",
              "    <g>\n",
              "        <path d=\"M19 3H5c-1.1 0-2 .9-2 2v14c0 1.1.9 2 2 2h14c1.1 0 2-.9 2-2V5c0-1.1-.9-2-2-2zM9 17H7v-7h2v7zm4 0h-2V7h2v10zm4 0h-2v-4h2v4z\"/>\n",
              "    </g>\n",
              "</svg>\n",
              "  </button>\n",
              "\n",
              "<style>\n",
              "  .colab-df-quickchart {\n",
              "      --bg-color: #E8F0FE;\n",
              "      --fill-color: #1967D2;\n",
              "      --hover-bg-color: #E2EBFA;\n",
              "      --hover-fill-color: #174EA6;\n",
              "      --disabled-fill-color: #AAA;\n",
              "      --disabled-bg-color: #DDD;\n",
              "  }\n",
              "\n",
              "  [theme=dark] .colab-df-quickchart {\n",
              "      --bg-color: #3B4455;\n",
              "      --fill-color: #D2E3FC;\n",
              "      --hover-bg-color: #434B5C;\n",
              "      --hover-fill-color: #FFFFFF;\n",
              "      --disabled-bg-color: #3B4455;\n",
              "      --disabled-fill-color: #666;\n",
              "  }\n",
              "\n",
              "  .colab-df-quickchart {\n",
              "    background-color: var(--bg-color);\n",
              "    border: none;\n",
              "    border-radius: 50%;\n",
              "    cursor: pointer;\n",
              "    display: none;\n",
              "    fill: var(--fill-color);\n",
              "    height: 32px;\n",
              "    padding: 0;\n",
              "    width: 32px;\n",
              "  }\n",
              "\n",
              "  .colab-df-quickchart:hover {\n",
              "    background-color: var(--hover-bg-color);\n",
              "    box-shadow: 0 1px 2px rgba(60, 64, 67, 0.3), 0 1px 3px 1px rgba(60, 64, 67, 0.15);\n",
              "    fill: var(--button-hover-fill-color);\n",
              "  }\n",
              "\n",
              "  .colab-df-quickchart-complete:disabled,\n",
              "  .colab-df-quickchart-complete:disabled:hover {\n",
              "    background-color: var(--disabled-bg-color);\n",
              "    fill: var(--disabled-fill-color);\n",
              "    box-shadow: none;\n",
              "  }\n",
              "\n",
              "  .colab-df-spinner {\n",
              "    border: 2px solid var(--fill-color);\n",
              "    border-color: transparent;\n",
              "    border-bottom-color: var(--fill-color);\n",
              "    animation:\n",
              "      spin 1s steps(1) infinite;\n",
              "  }\n",
              "\n",
              "  @keyframes spin {\n",
              "    0% {\n",
              "      border-color: transparent;\n",
              "      border-bottom-color: var(--fill-color);\n",
              "      border-left-color: var(--fill-color);\n",
              "    }\n",
              "    20% {\n",
              "      border-color: transparent;\n",
              "      border-left-color: var(--fill-color);\n",
              "      border-top-color: var(--fill-color);\n",
              "    }\n",
              "    30% {\n",
              "      border-color: transparent;\n",
              "      border-left-color: var(--fill-color);\n",
              "      border-top-color: var(--fill-color);\n",
              "      border-right-color: var(--fill-color);\n",
              "    }\n",
              "    40% {\n",
              "      border-color: transparent;\n",
              "      border-right-color: var(--fill-color);\n",
              "      border-top-color: var(--fill-color);\n",
              "    }\n",
              "    60% {\n",
              "      border-color: transparent;\n",
              "      border-right-color: var(--fill-color);\n",
              "    }\n",
              "    80% {\n",
              "      border-color: transparent;\n",
              "      border-right-color: var(--fill-color);\n",
              "      border-bottom-color: var(--fill-color);\n",
              "    }\n",
              "    90% {\n",
              "      border-color: transparent;\n",
              "      border-bottom-color: var(--fill-color);\n",
              "    }\n",
              "  }\n",
              "</style>\n",
              "\n",
              "  <script>\n",
              "    async function quickchart(key) {\n",
              "      const quickchartButtonEl =\n",
              "        document.querySelector('#' + key + ' button');\n",
              "      quickchartButtonEl.disabled = true;  // To prevent multiple clicks.\n",
              "      quickchartButtonEl.classList.add('colab-df-spinner');\n",
              "      try {\n",
              "        const charts = await google.colab.kernel.invokeFunction(\n",
              "            'suggestCharts', [key], {});\n",
              "      } catch (error) {\n",
              "        console.error('Error during call to suggestCharts:', error);\n",
              "      }\n",
              "      quickchartButtonEl.classList.remove('colab-df-spinner');\n",
              "      quickchartButtonEl.classList.add('colab-df-quickchart-complete');\n",
              "    }\n",
              "    (() => {\n",
              "      let quickchartButtonEl =\n",
              "        document.querySelector('#df-87373131-f787-40c3-9095-23f1da628e9b button');\n",
              "      quickchartButtonEl.style.display =\n",
              "        google.colab.kernel.accessAllowed ? 'block' : 'none';\n",
              "    })();\n",
              "  </script>\n",
              "</div>\n",
              "\n",
              "    </div>\n",
              "  </div>\n"
            ],
            "application/vnd.google.colaboratory.intrinsic+json": {
              "type": "dataframe",
              "variable_name": "credit_reports"
            }
          },
          "metadata": {},
          "execution_count": 1
        }
      ],
      "source": [
        "# Note: some columns are confusing, like max_credit vs credit_limit\n",
        "\n",
        "import pandas as pd\n",
        "\n",
        "credit_reports = pd.read_parquet('credit_reports.parquet')\n",
        "\n",
        "credit_reports.head()"
      ]
    },
    {
      "cell_type": "code",
      "source": [
        "credit_reports['INQUIRY_DATE'].max()"
      ],
      "metadata": {
        "colab": {
          "base_uri": "https://localhost:8080/"
        },
        "id": "UusdJja7z2wB",
        "outputId": "c2546d9f-613e-429c-9078-57e061bed141"
      },
      "execution_count": 2,
      "outputs": [
        {
          "output_type": "execute_result",
          "data": {
            "text/plain": [
              "Timestamp('2023-05-17 00:00:00')"
            ]
          },
          "metadata": {},
          "execution_count": 2
        }
      ]
    },
    {
      "cell_type": "code",
      "source": [
        "credit_reports['INQUIRY_DATE'].min()"
      ],
      "metadata": {
        "colab": {
          "base_uri": "https://localhost:8080/"
        },
        "id": "-4RpnEEVz8GC",
        "outputId": "e812dbc4-f2ab-4285-9871-221ed3249a56"
      },
      "execution_count": 3,
      "outputs": [
        {
          "output_type": "execute_result",
          "data": {
            "text/plain": [
              "Timestamp('2021-04-29 00:00:00')"
            ]
          },
          "metadata": {},
          "execution_count": 3
        }
      ]
    },
    {
      "cell_type": "code",
      "source": [
        "print(credit_reports.iloc[0])"
      ],
      "metadata": {
        "colab": {
          "base_uri": "https://localhost:8080/"
        },
        "id": "xuq60VGNT6tJ",
        "outputId": "01ba83dd-e079-4558-f2f9-57a42136aa06"
      },
      "execution_count": 4,
      "outputs": [
        {
          "output_type": "stream",
          "name": "stdout",
          "text": [
            "customer_id                                                       4223\n",
            "INQUIRY_TIME                          2022-04-01 00:32:36.689000+00:00\n",
            "CDC_INQUIRY_ID             710278-27993a6e-2885-48d4-a753-9249e7022af1\n",
            "INQUIRY_DATE                                       2022-04-01 00:00:00\n",
            "PREVENTION_KEY                                         SIN OBSERVACION\n",
            "CURRENCY                                               PESOS MEXICANOS\n",
            "MAX_CREDIT                                                      1244.0\n",
            "CREDIT_LIMIT                                                    9900.0\n",
            "PAYMENT_AMOUNT                                                  1244.0\n",
            "UPDATE_DATE                                        2022-02-28 00:00:00\n",
            "LOAN_OPENING_DATE                                  2019-08-30 00:00:00\n",
            "LOAN_CLOSING_DATE                                                  NaT\n",
            "WORST_DELAY_DATE                                   2022-01-31 00:00:00\n",
            "REPORT_DATE                                        2022-02-28 00:00:00\n",
            "LAST_PURCHASE_DATE                                 2019-08-30 00:00:00\n",
            "LAST_PAYMENT_DATE                                  2020-08-18 00:00:00\n",
            "PAYMENT_FREQUENCY                                              MENSUAL\n",
            "BUSINESS_TYPE                                     TIENDA DEPARTAMENTAL\n",
            "CREDIT_TYPE                                           APARATOS/MUEBLES\n",
            "ACCOUNT_TYPE                                               PAGOS FIJOS\n",
            "RESPONSABILITY_TYPE                               INDIVIDUAL (TITULAR)\n",
            "TOTAL_PAYMENTS                                                    12.0\n",
            "DELAYED_PAYMENTS                                                     7\n",
            "CURRENT_PAYMENT                                                     13\n",
            "WORST_DELAY                                                       13.0\n",
            "TOTAL_REPORTED_PAYMENTS                                              0\n",
            "CURRENT_BALANCE                                                 1244.0\n",
            "BALANCE_DUE                                                     1244.0\n",
            "BALANCE_DUE_WORST_DELAY                                         1244.0\n",
            "Name: 0, dtype: object\n"
          ]
        }
      ]
    },
    {
      "cell_type": "code",
      "source": [
        "credit_reports.columns"
      ],
      "metadata": {
        "colab": {
          "base_uri": "https://localhost:8080/"
        },
        "id": "a0GZH88u3MWB",
        "outputId": "8c44054b-4f28-4717-886e-51731cc0c787"
      },
      "execution_count": 5,
      "outputs": [
        {
          "output_type": "execute_result",
          "data": {
            "text/plain": [
              "Index(['customer_id', 'INQUIRY_TIME', 'CDC_INQUIRY_ID', 'INQUIRY_DATE',\n",
              "       'PREVENTION_KEY', 'CURRENCY', 'MAX_CREDIT', 'CREDIT_LIMIT',\n",
              "       'PAYMENT_AMOUNT', 'UPDATE_DATE', 'LOAN_OPENING_DATE',\n",
              "       'LOAN_CLOSING_DATE', 'WORST_DELAY_DATE', 'REPORT_DATE',\n",
              "       'LAST_PURCHASE_DATE', 'LAST_PAYMENT_DATE', 'PAYMENT_FREQUENCY',\n",
              "       'BUSINESS_TYPE', 'CREDIT_TYPE', 'ACCOUNT_TYPE', 'RESPONSABILITY_TYPE',\n",
              "       'TOTAL_PAYMENTS', 'DELAYED_PAYMENTS', 'CURRENT_PAYMENT', 'WORST_DELAY',\n",
              "       'TOTAL_REPORTED_PAYMENTS', 'CURRENT_BALANCE', 'BALANCE_DUE',\n",
              "       'BALANCE_DUE_WORST_DELAY'],\n",
              "      dtype='object')"
            ]
          },
          "metadata": {},
          "execution_count": 5
        }
      ]
    },
    {
      "cell_type": "code",
      "source": [
        "credit_reports['customer_id'] = credit_reports['customer_id'].astype(object)"
      ],
      "metadata": {
        "id": "MFX7rHuO4h_P"
      },
      "execution_count": 6,
      "outputs": []
    },
    {
      "cell_type": "code",
      "source": [
        "# This logic assumes that a null in the 'LOAN_CLOSING_DATE' column means that the loan is currently active and has yet to be repaid\n",
        "# Creates a new column withe the count of how many active loans the member has (up until the time the data was pulled)\n",
        "\n",
        "credit_reports['ACTIVE_LOANS_COUNT'] = credit_reports.groupby('customer_id')['LOAN_CLOSING_DATE'].transform(lambda x: x.isnull().sum())\n"
      ],
      "metadata": {
        "id": "d_coIFZnxtTe"
      },
      "execution_count": 7,
      "outputs": []
    },
    {
      "cell_type": "code",
      "source": [
        "# Removing columns that 1) are likely not useful 2) may have colineraity with another column 3) reducing dimensionality to minimize overfitting\n",
        "credit_reports_filtered = credit_reports[['customer_id', 'CREDIT_LIMIT',\n",
        "       'PAYMENT_AMOUNT', 'ACTIVE_LOANS_COUNT', 'PAYMENT_FREQUENCY',\n",
        "       'CREDIT_TYPE', 'RESPONSABILITY_TYPE',\n",
        "       'TOTAL_PAYMENTS', 'DELAYED_PAYMENTS', 'BALANCE_DUE', 'CURRENT_BALANCE', 'MAX_CREDIT']]"
      ],
      "metadata": {
        "id": "JK1KgiNSi0Y6"
      },
      "execution_count": 8,
      "outputs": []
    },
    {
      "cell_type": "code",
      "source": [
        "credit_reports_filtered['RESPONSABILITY_TYPE'].unique()"
      ],
      "metadata": {
        "colab": {
          "base_uri": "https://localhost:8080/"
        },
        "id": "-78NsducloxO",
        "outputId": "9d284902-5253-4e9d-9764-5715470a51ec"
      },
      "execution_count": 9,
      "outputs": [
        {
          "output_type": "execute_result",
          "data": {
            "text/plain": [
              "array(['INDIVIDUAL (TITULAR)', 'TITULAR CON AVAL',\n",
              "       'OBLIGATORIO SOLIDARIO', None, 'MANCOMUNADO', 'AVAL'], dtype=object)"
            ]
          },
          "metadata": {},
          "execution_count": 9
        }
      ]
    },
    {
      "cell_type": "code",
      "source": [
        "credit_reports_filtered.shape"
      ],
      "metadata": {
        "colab": {
          "base_uri": "https://localhost:8080/"
        },
        "id": "3QLXllTs3Vac",
        "outputId": "05ca04ab-0f2c-4a27-b016-35b904a33b7e"
      },
      "execution_count": 10,
      "outputs": [
        {
          "output_type": "execute_result",
          "data": {
            "text/plain": [
              "(287356, 12)"
            ]
          },
          "metadata": {},
          "execution_count": 10
        }
      ]
    },
    {
      "cell_type": "code",
      "source": [
        "credit_reports_filtered.dtypes"
      ],
      "metadata": {
        "colab": {
          "base_uri": "https://localhost:8080/"
        },
        "id": "6iB7l5fuN0Rx",
        "outputId": "384ed8ea-0337-4431-9f72-519ddbbe1c46"
      },
      "execution_count": 11,
      "outputs": [
        {
          "output_type": "execute_result",
          "data": {
            "text/plain": [
              "customer_id             object\n",
              "CREDIT_LIMIT           float64\n",
              "PAYMENT_AMOUNT         float64\n",
              "ACTIVE_LOANS_COUNT       int64\n",
              "PAYMENT_FREQUENCY       object\n",
              "CREDIT_TYPE             object\n",
              "RESPONSABILITY_TYPE     object\n",
              "TOTAL_PAYMENTS         float64\n",
              "DELAYED_PAYMENTS        object\n",
              "BALANCE_DUE            float64\n",
              "CURRENT_BALANCE        float64\n",
              "MAX_CREDIT             float64\n",
              "dtype: object"
            ]
          },
          "metadata": {},
          "execution_count": 11
        }
      ]
    },
    {
      "cell_type": "code",
      "source": [
        "# Changing dtype from object to float64 to match other columns\n",
        "\n",
        "credit_reports_filtered['DELAYED_PAYMENTS'] = credit_reports_filtered['DELAYED_PAYMENTS'].astype(float)\n"
      ],
      "metadata": {
        "colab": {
          "base_uri": "https://localhost:8080/"
        },
        "id": "a0mmFUDV-2lE",
        "outputId": "a70619d0-9553-4aa0-a87a-66f1650e50f8"
      },
      "execution_count": 12,
      "outputs": [
        {
          "output_type": "stream",
          "name": "stderr",
          "text": [
            "<ipython-input-12-c3fa73dc40f1>:3: SettingWithCopyWarning: \n",
            "A value is trying to be set on a copy of a slice from a DataFrame.\n",
            "Try using .loc[row_indexer,col_indexer] = value instead\n",
            "\n",
            "See the caveats in the documentation: https://pandas.pydata.org/pandas-docs/stable/user_guide/indexing.html#returning-a-view-versus-a-copy\n",
            "  credit_reports_filtered['DELAYED_PAYMENTS'] = credit_reports_filtered['DELAYED_PAYMENTS'].astype(float)\n"
          ]
        }
      ]
    },
    {
      "cell_type": "code",
      "source": [
        "credit_reports_filtered.isnull().sum()"
      ],
      "metadata": {
        "colab": {
          "base_uri": "https://localhost:8080/"
        },
        "id": "_0W60SlO4NDh",
        "outputId": "cd192391-dbe4-4b78-c490-6a9534bc4081"
      },
      "execution_count": 13,
      "outputs": [
        {
          "output_type": "execute_result",
          "data": {
            "text/plain": [
              "customer_id                0\n",
              "CREDIT_LIMIT            8357\n",
              "PAYMENT_AMOUNT            89\n",
              "ACTIVE_LOANS_COUNT         0\n",
              "PAYMENT_FREQUENCY         89\n",
              "CREDIT_TYPE               89\n",
              "RESPONSABILITY_TYPE       89\n",
              "TOTAL_PAYMENTS         18645\n",
              "DELAYED_PAYMENTS          89\n",
              "BALANCE_DUE               89\n",
              "CURRENT_BALANCE           89\n",
              "MAX_CREDIT               182\n",
              "dtype: int64"
            ]
          },
          "metadata": {},
          "execution_count": 13
        }
      ]
    },
    {
      "cell_type": "markdown",
      "source": [
        "##2. Main dataset data frame"
      ],
      "metadata": {
        "id": "MVYg8qyWOnKZ"
      }
    },
    {
      "cell_type": "code",
      "source": [
        "import pandas as pd\n",
        "\n",
        "main_data = pd.read_parquet('main_dataset.parquet')\n",
        "\n",
        "main_data.head()"
      ],
      "metadata": {
        "colab": {
          "base_uri": "https://localhost:8080/",
          "height": 278
        },
        "id": "sxa7q7Vb0aBD",
        "outputId": "89398931-86ed-450b-d920-ce8e5d00d143"
      },
      "execution_count": 16,
      "outputs": [
        {
          "output_type": "execute_result",
          "data": {
            "text/plain": [
              "   customer_id  loan_id ACC_CREATION_DATETIME APPLICATION_DATETIME  \\\n",
              "0         1223        1   2021-08-23 13:57:56  2022-04-26 07:00:00   \n",
              "1         5190        2   2022-04-26 09:57:25  2022-04-26 07:00:00   \n",
              "2         5194        3   2022-04-26 12:22:35  2022-04-26 07:00:00   \n",
              "3         3978        4   2022-03-09 11:26:55  2022-04-26 07:00:00   \n",
              "4         4535        5   2022-04-01 14:28:42  2022-04-26 07:00:00   \n",
              "\n",
              "  LOAN_ORIGINATION_DATETIME  max_days_late  target  \\\n",
              "0       2022-10-20 18:26:35              5       0   \n",
              "1       2022-12-22 18:03:32              2       0   \n",
              "2       2022-08-09 17:31:05              4       0   \n",
              "3       2022-11-11 19:48:08              2       0   \n",
              "4       2022-07-24 12:07:15              2       0   \n",
              "\n",
              "   account_to_application_days  n_sf_apps first_app_date last_app_date  \\\n",
              "0                          245        1.0     2022-04-25    2022-04-25   \n",
              "1                            0        NaN            NaT           NaT   \n",
              "2                            0        NaN            NaT           NaT   \n",
              "3                           47        1.0     2022-03-17    2022-03-17   \n",
              "4                           24        1.0     2022-04-01    2022-04-01   \n",
              "\n",
              "   n_bnpl_apps  n_bnpl_approved_apps     first_bnpl_app_date  \\\n",
              "0          1.0                   0.0 2022-04-26 02:15:17.742   \n",
              "1          NaN                   NaN                     NaT   \n",
              "2          NaN                   NaN                     NaT   \n",
              "3          2.0                   0.0 2022-03-19 22:02:50.555   \n",
              "4          1.0                   0.0 2022-04-01 19:37:56.185   \n",
              "\n",
              "       last_bnpl_app_date  n_inquiries_l3m  n_inquiries_l6m  \n",
              "0 2022-04-26 02:15:17.742             91.0             91.0  \n",
              "1                     NaT              NaN              NaN  \n",
              "2                     NaT              NaN              NaN  \n",
              "3 2022-03-09 16:41:49.675             13.0             13.0  \n",
              "4 2022-04-01 19:37:56.185             21.0             21.0  "
            ],
            "text/html": [
              "\n",
              "  <div id=\"df-9d016810-1364-4293-8c0b-526b597fff3c\" class=\"colab-df-container\">\n",
              "    <div>\n",
              "<style scoped>\n",
              "    .dataframe tbody tr th:only-of-type {\n",
              "        vertical-align: middle;\n",
              "    }\n",
              "\n",
              "    .dataframe tbody tr th {\n",
              "        vertical-align: top;\n",
              "    }\n",
              "\n",
              "    .dataframe thead th {\n",
              "        text-align: right;\n",
              "    }\n",
              "</style>\n",
              "<table border=\"1\" class=\"dataframe\">\n",
              "  <thead>\n",
              "    <tr style=\"text-align: right;\">\n",
              "      <th></th>\n",
              "      <th>customer_id</th>\n",
              "      <th>loan_id</th>\n",
              "      <th>ACC_CREATION_DATETIME</th>\n",
              "      <th>APPLICATION_DATETIME</th>\n",
              "      <th>LOAN_ORIGINATION_DATETIME</th>\n",
              "      <th>max_days_late</th>\n",
              "      <th>target</th>\n",
              "      <th>account_to_application_days</th>\n",
              "      <th>n_sf_apps</th>\n",
              "      <th>first_app_date</th>\n",
              "      <th>last_app_date</th>\n",
              "      <th>n_bnpl_apps</th>\n",
              "      <th>n_bnpl_approved_apps</th>\n",
              "      <th>first_bnpl_app_date</th>\n",
              "      <th>last_bnpl_app_date</th>\n",
              "      <th>n_inquiries_l3m</th>\n",
              "      <th>n_inquiries_l6m</th>\n",
              "    </tr>\n",
              "  </thead>\n",
              "  <tbody>\n",
              "    <tr>\n",
              "      <th>0</th>\n",
              "      <td>1223</td>\n",
              "      <td>1</td>\n",
              "      <td>2021-08-23 13:57:56</td>\n",
              "      <td>2022-04-26 07:00:00</td>\n",
              "      <td>2022-10-20 18:26:35</td>\n",
              "      <td>5</td>\n",
              "      <td>0</td>\n",
              "      <td>245</td>\n",
              "      <td>1.0</td>\n",
              "      <td>2022-04-25</td>\n",
              "      <td>2022-04-25</td>\n",
              "      <td>1.0</td>\n",
              "      <td>0.0</td>\n",
              "      <td>2022-04-26 02:15:17.742</td>\n",
              "      <td>2022-04-26 02:15:17.742</td>\n",
              "      <td>91.0</td>\n",
              "      <td>91.0</td>\n",
              "    </tr>\n",
              "    <tr>\n",
              "      <th>1</th>\n",
              "      <td>5190</td>\n",
              "      <td>2</td>\n",
              "      <td>2022-04-26 09:57:25</td>\n",
              "      <td>2022-04-26 07:00:00</td>\n",
              "      <td>2022-12-22 18:03:32</td>\n",
              "      <td>2</td>\n",
              "      <td>0</td>\n",
              "      <td>0</td>\n",
              "      <td>NaN</td>\n",
              "      <td>NaT</td>\n",
              "      <td>NaT</td>\n",
              "      <td>NaN</td>\n",
              "      <td>NaN</td>\n",
              "      <td>NaT</td>\n",
              "      <td>NaT</td>\n",
              "      <td>NaN</td>\n",
              "      <td>NaN</td>\n",
              "    </tr>\n",
              "    <tr>\n",
              "      <th>2</th>\n",
              "      <td>5194</td>\n",
              "      <td>3</td>\n",
              "      <td>2022-04-26 12:22:35</td>\n",
              "      <td>2022-04-26 07:00:00</td>\n",
              "      <td>2022-08-09 17:31:05</td>\n",
              "      <td>4</td>\n",
              "      <td>0</td>\n",
              "      <td>0</td>\n",
              "      <td>NaN</td>\n",
              "      <td>NaT</td>\n",
              "      <td>NaT</td>\n",
              "      <td>NaN</td>\n",
              "      <td>NaN</td>\n",
              "      <td>NaT</td>\n",
              "      <td>NaT</td>\n",
              "      <td>NaN</td>\n",
              "      <td>NaN</td>\n",
              "    </tr>\n",
              "    <tr>\n",
              "      <th>3</th>\n",
              "      <td>3978</td>\n",
              "      <td>4</td>\n",
              "      <td>2022-03-09 11:26:55</td>\n",
              "      <td>2022-04-26 07:00:00</td>\n",
              "      <td>2022-11-11 19:48:08</td>\n",
              "      <td>2</td>\n",
              "      <td>0</td>\n",
              "      <td>47</td>\n",
              "      <td>1.0</td>\n",
              "      <td>2022-03-17</td>\n",
              "      <td>2022-03-17</td>\n",
              "      <td>2.0</td>\n",
              "      <td>0.0</td>\n",
              "      <td>2022-03-19 22:02:50.555</td>\n",
              "      <td>2022-03-09 16:41:49.675</td>\n",
              "      <td>13.0</td>\n",
              "      <td>13.0</td>\n",
              "    </tr>\n",
              "    <tr>\n",
              "      <th>4</th>\n",
              "      <td>4535</td>\n",
              "      <td>5</td>\n",
              "      <td>2022-04-01 14:28:42</td>\n",
              "      <td>2022-04-26 07:00:00</td>\n",
              "      <td>2022-07-24 12:07:15</td>\n",
              "      <td>2</td>\n",
              "      <td>0</td>\n",
              "      <td>24</td>\n",
              "      <td>1.0</td>\n",
              "      <td>2022-04-01</td>\n",
              "      <td>2022-04-01</td>\n",
              "      <td>1.0</td>\n",
              "      <td>0.0</td>\n",
              "      <td>2022-04-01 19:37:56.185</td>\n",
              "      <td>2022-04-01 19:37:56.185</td>\n",
              "      <td>21.0</td>\n",
              "      <td>21.0</td>\n",
              "    </tr>\n",
              "  </tbody>\n",
              "</table>\n",
              "</div>\n",
              "    <div class=\"colab-df-buttons\">\n",
              "\n",
              "  <div class=\"colab-df-container\">\n",
              "    <button class=\"colab-df-convert\" onclick=\"convertToInteractive('df-9d016810-1364-4293-8c0b-526b597fff3c')\"\n",
              "            title=\"Convert this dataframe to an interactive table.\"\n",
              "            style=\"display:none;\">\n",
              "\n",
              "  <svg xmlns=\"http://www.w3.org/2000/svg\" height=\"24px\" viewBox=\"0 -960 960 960\">\n",
              "    <path d=\"M120-120v-720h720v720H120Zm60-500h600v-160H180v160Zm220 220h160v-160H400v160Zm0 220h160v-160H400v160ZM180-400h160v-160H180v160Zm440 0h160v-160H620v160ZM180-180h160v-160H180v160Zm440 0h160v-160H620v160Z\"/>\n",
              "  </svg>\n",
              "    </button>\n",
              "\n",
              "  <style>\n",
              "    .colab-df-container {\n",
              "      display:flex;\n",
              "      gap: 12px;\n",
              "    }\n",
              "\n",
              "    .colab-df-convert {\n",
              "      background-color: #E8F0FE;\n",
              "      border: none;\n",
              "      border-radius: 50%;\n",
              "      cursor: pointer;\n",
              "      display: none;\n",
              "      fill: #1967D2;\n",
              "      height: 32px;\n",
              "      padding: 0 0 0 0;\n",
              "      width: 32px;\n",
              "    }\n",
              "\n",
              "    .colab-df-convert:hover {\n",
              "      background-color: #E2EBFA;\n",
              "      box-shadow: 0px 1px 2px rgba(60, 64, 67, 0.3), 0px 1px 3px 1px rgba(60, 64, 67, 0.15);\n",
              "      fill: #174EA6;\n",
              "    }\n",
              "\n",
              "    .colab-df-buttons div {\n",
              "      margin-bottom: 4px;\n",
              "    }\n",
              "\n",
              "    [theme=dark] .colab-df-convert {\n",
              "      background-color: #3B4455;\n",
              "      fill: #D2E3FC;\n",
              "    }\n",
              "\n",
              "    [theme=dark] .colab-df-convert:hover {\n",
              "      background-color: #434B5C;\n",
              "      box-shadow: 0px 1px 3px 1px rgba(0, 0, 0, 0.15);\n",
              "      filter: drop-shadow(0px 1px 2px rgba(0, 0, 0, 0.3));\n",
              "      fill: #FFFFFF;\n",
              "    }\n",
              "  </style>\n",
              "\n",
              "    <script>\n",
              "      const buttonEl =\n",
              "        document.querySelector('#df-9d016810-1364-4293-8c0b-526b597fff3c button.colab-df-convert');\n",
              "      buttonEl.style.display =\n",
              "        google.colab.kernel.accessAllowed ? 'block' : 'none';\n",
              "\n",
              "      async function convertToInteractive(key) {\n",
              "        const element = document.querySelector('#df-9d016810-1364-4293-8c0b-526b597fff3c');\n",
              "        const dataTable =\n",
              "          await google.colab.kernel.invokeFunction('convertToInteractive',\n",
              "                                                    [key], {});\n",
              "        if (!dataTable) return;\n",
              "\n",
              "        const docLinkHtml = 'Like what you see? Visit the ' +\n",
              "          '<a target=\"_blank\" href=https://colab.research.google.com/notebooks/data_table.ipynb>data table notebook</a>'\n",
              "          + ' to learn more about interactive tables.';\n",
              "        element.innerHTML = '';\n",
              "        dataTable['output_type'] = 'display_data';\n",
              "        await google.colab.output.renderOutput(dataTable, element);\n",
              "        const docLink = document.createElement('div');\n",
              "        docLink.innerHTML = docLinkHtml;\n",
              "        element.appendChild(docLink);\n",
              "      }\n",
              "    </script>\n",
              "  </div>\n",
              "\n",
              "\n",
              "<div id=\"df-3be2103a-f90f-48b1-97d8-f05a91f385ae\">\n",
              "  <button class=\"colab-df-quickchart\" onclick=\"quickchart('df-3be2103a-f90f-48b1-97d8-f05a91f385ae')\"\n",
              "            title=\"Suggest charts\"\n",
              "            style=\"display:none;\">\n",
              "\n",
              "<svg xmlns=\"http://www.w3.org/2000/svg\" height=\"24px\"viewBox=\"0 0 24 24\"\n",
              "     width=\"24px\">\n",
              "    <g>\n",
              "        <path d=\"M19 3H5c-1.1 0-2 .9-2 2v14c0 1.1.9 2 2 2h14c1.1 0 2-.9 2-2V5c0-1.1-.9-2-2-2zM9 17H7v-7h2v7zm4 0h-2V7h2v10zm4 0h-2v-4h2v4z\"/>\n",
              "    </g>\n",
              "</svg>\n",
              "  </button>\n",
              "\n",
              "<style>\n",
              "  .colab-df-quickchart {\n",
              "      --bg-color: #E8F0FE;\n",
              "      --fill-color: #1967D2;\n",
              "      --hover-bg-color: #E2EBFA;\n",
              "      --hover-fill-color: #174EA6;\n",
              "      --disabled-fill-color: #AAA;\n",
              "      --disabled-bg-color: #DDD;\n",
              "  }\n",
              "\n",
              "  [theme=dark] .colab-df-quickchart {\n",
              "      --bg-color: #3B4455;\n",
              "      --fill-color: #D2E3FC;\n",
              "      --hover-bg-color: #434B5C;\n",
              "      --hover-fill-color: #FFFFFF;\n",
              "      --disabled-bg-color: #3B4455;\n",
              "      --disabled-fill-color: #666;\n",
              "  }\n",
              "\n",
              "  .colab-df-quickchart {\n",
              "    background-color: var(--bg-color);\n",
              "    border: none;\n",
              "    border-radius: 50%;\n",
              "    cursor: pointer;\n",
              "    display: none;\n",
              "    fill: var(--fill-color);\n",
              "    height: 32px;\n",
              "    padding: 0;\n",
              "    width: 32px;\n",
              "  }\n",
              "\n",
              "  .colab-df-quickchart:hover {\n",
              "    background-color: var(--hover-bg-color);\n",
              "    box-shadow: 0 1px 2px rgba(60, 64, 67, 0.3), 0 1px 3px 1px rgba(60, 64, 67, 0.15);\n",
              "    fill: var(--button-hover-fill-color);\n",
              "  }\n",
              "\n",
              "  .colab-df-quickchart-complete:disabled,\n",
              "  .colab-df-quickchart-complete:disabled:hover {\n",
              "    background-color: var(--disabled-bg-color);\n",
              "    fill: var(--disabled-fill-color);\n",
              "    box-shadow: none;\n",
              "  }\n",
              "\n",
              "  .colab-df-spinner {\n",
              "    border: 2px solid var(--fill-color);\n",
              "    border-color: transparent;\n",
              "    border-bottom-color: var(--fill-color);\n",
              "    animation:\n",
              "      spin 1s steps(1) infinite;\n",
              "  }\n",
              "\n",
              "  @keyframes spin {\n",
              "    0% {\n",
              "      border-color: transparent;\n",
              "      border-bottom-color: var(--fill-color);\n",
              "      border-left-color: var(--fill-color);\n",
              "    }\n",
              "    20% {\n",
              "      border-color: transparent;\n",
              "      border-left-color: var(--fill-color);\n",
              "      border-top-color: var(--fill-color);\n",
              "    }\n",
              "    30% {\n",
              "      border-color: transparent;\n",
              "      border-left-color: var(--fill-color);\n",
              "      border-top-color: var(--fill-color);\n",
              "      border-right-color: var(--fill-color);\n",
              "    }\n",
              "    40% {\n",
              "      border-color: transparent;\n",
              "      border-right-color: var(--fill-color);\n",
              "      border-top-color: var(--fill-color);\n",
              "    }\n",
              "    60% {\n",
              "      border-color: transparent;\n",
              "      border-right-color: var(--fill-color);\n",
              "    }\n",
              "    80% {\n",
              "      border-color: transparent;\n",
              "      border-right-color: var(--fill-color);\n",
              "      border-bottom-color: var(--fill-color);\n",
              "    }\n",
              "    90% {\n",
              "      border-color: transparent;\n",
              "      border-bottom-color: var(--fill-color);\n",
              "    }\n",
              "  }\n",
              "</style>\n",
              "\n",
              "  <script>\n",
              "    async function quickchart(key) {\n",
              "      const quickchartButtonEl =\n",
              "        document.querySelector('#' + key + ' button');\n",
              "      quickchartButtonEl.disabled = true;  // To prevent multiple clicks.\n",
              "      quickchartButtonEl.classList.add('colab-df-spinner');\n",
              "      try {\n",
              "        const charts = await google.colab.kernel.invokeFunction(\n",
              "            'suggestCharts', [key], {});\n",
              "      } catch (error) {\n",
              "        console.error('Error during call to suggestCharts:', error);\n",
              "      }\n",
              "      quickchartButtonEl.classList.remove('colab-df-spinner');\n",
              "      quickchartButtonEl.classList.add('colab-df-quickchart-complete');\n",
              "    }\n",
              "    (() => {\n",
              "      let quickchartButtonEl =\n",
              "        document.querySelector('#df-3be2103a-f90f-48b1-97d8-f05a91f385ae button');\n",
              "      quickchartButtonEl.style.display =\n",
              "        google.colab.kernel.accessAllowed ? 'block' : 'none';\n",
              "    })();\n",
              "  </script>\n",
              "</div>\n",
              "\n",
              "    </div>\n",
              "  </div>\n"
            ],
            "application/vnd.google.colaboratory.intrinsic+json": {
              "type": "dataframe",
              "variable_name": "main_data",
              "summary": "{\n  \"name\": \"main_data\",\n  \"rows\": 14454,\n  \"fields\": [\n    {\n      \"column\": \"customer_id\",\n      \"properties\": {\n        \"dtype\": \"number\",\n        \"std\": 4172,\n        \"min\": 1,\n        \"max\": 14454,\n        \"num_unique_values\": 14454,\n        \"samples\": [\n          472,\n          345,\n          9590\n        ],\n        \"semantic_type\": \"\",\n        \"description\": \"\"\n      }\n    },\n    {\n      \"column\": \"loan_id\",\n      \"properties\": {\n        \"dtype\": \"number\",\n        \"std\": 4172,\n        \"min\": 1,\n        \"max\": 14454,\n        \"num_unique_values\": 14454,\n        \"samples\": [\n          3147,\n          14089,\n          14113\n        ],\n        \"semantic_type\": \"\",\n        \"description\": \"\"\n      }\n    },\n    {\n      \"column\": \"ACC_CREATION_DATETIME\",\n      \"properties\": {\n        \"dtype\": \"date\",\n        \"min\": \"2020-10-14 18:22:10\",\n        \"max\": \"2023-05-19 19:55:04\",\n        \"num_unique_values\": 14433,\n        \"samples\": [\n          \"2023-04-20 06:09:57\",\n          \"2022-03-03 22:11:32\",\n          \"2022-08-19 16:19:58\"\n        ],\n        \"semantic_type\": \"\",\n        \"description\": \"\"\n      }\n    },\n    {\n      \"column\": \"APPLICATION_DATETIME\",\n      \"properties\": {\n        \"dtype\": \"date\",\n        \"min\": \"2022-04-26 07:00:00\",\n        \"max\": \"2023-05-26 07:00:00\",\n        \"num_unique_values\": 380,\n        \"samples\": [\n          \"2023-01-25 08:00:00\",\n          \"2023-01-20 08:00:00\",\n          \"2023-01-24 08:00:00\"\n        ],\n        \"semantic_type\": \"\",\n        \"description\": \"\"\n      }\n    },\n    {\n      \"column\": \"LOAN_ORIGINATION_DATETIME\",\n      \"properties\": {\n        \"dtype\": \"date\",\n        \"min\": \"2022-07-01 09:03:20\",\n        \"max\": \"2023-05-29 12:18:28\",\n        \"num_unique_values\": 13883,\n        \"samples\": [\n          \"2023-03-28 19:33:45\",\n          \"2023-02-05 15:53:44\",\n          \"2023-03-22 21:27:07\"\n        ],\n        \"semantic_type\": \"\",\n        \"description\": \"\"\n      }\n    },\n    {\n      \"column\": \"max_days_late\",\n      \"properties\": {\n        \"dtype\": \"number\",\n        \"std\": 21,\n        \"min\": -7,\n        \"max\": 70,\n        \"num_unique_values\": 77,\n        \"samples\": [\n          0,\n          9,\n          49\n        ],\n        \"semantic_type\": \"\",\n        \"description\": \"\"\n      }\n    },\n    {\n      \"column\": \"target\",\n      \"properties\": {\n        \"dtype\": \"number\",\n        \"std\": 0,\n        \"min\": 0,\n        \"max\": 1,\n        \"num_unique_values\": 2,\n        \"samples\": [\n          1,\n          0\n        ],\n        \"semantic_type\": \"\",\n        \"description\": \"\"\n      }\n    },\n    {\n      \"column\": \"account_to_application_days\",\n      \"properties\": {\n        \"dtype\": \"number\",\n        \"std\": 181,\n        \"min\": 0,\n        \"max\": 901,\n        \"num_unique_values\": 763,\n        \"samples\": [\n          88,\n          177\n        ],\n        \"semantic_type\": \"\",\n        \"description\": \"\"\n      }\n    },\n    {\n      \"column\": \"n_sf_apps\",\n      \"properties\": {\n        \"dtype\": \"number\",\n        \"std\": 1.6971310490818474,\n        \"min\": 1.0,\n        \"max\": 42.0,\n        \"num_unique_values\": 23,\n        \"samples\": [\n          35.0,\n          9.0\n        ],\n        \"semantic_type\": \"\",\n        \"description\": \"\"\n      }\n    },\n    {\n      \"column\": \"first_app_date\",\n      \"properties\": {\n        \"dtype\": \"date\",\n        \"min\": \"2021-04-27 00:00:00\",\n        \"max\": \"2023-05-12 00:00:00\",\n        \"num_unique_values\": 692,\n        \"samples\": [\n          \"2021-08-23 00:00:00\",\n          \"2023-03-14 00:00:00\"\n        ],\n        \"semantic_type\": \"\",\n        \"description\": \"\"\n      }\n    },\n    {\n      \"column\": \"last_app_date\",\n      \"properties\": {\n        \"dtype\": \"date\",\n        \"min\": \"2021-04-25 00:00:00\",\n        \"max\": \"2023-05-12 00:00:00\",\n        \"num_unique_values\": 694,\n        \"samples\": [\n          \"2022-01-20 00:00:00\",\n          \"2023-02-03 00:00:00\"\n        ],\n        \"semantic_type\": \"\",\n        \"description\": \"\"\n      }\n    },\n    {\n      \"column\": \"n_bnpl_apps\",\n      \"properties\": {\n        \"dtype\": \"number\",\n        \"std\": 0.8311444780762325,\n        \"min\": 1.0,\n        \"max\": 18.0,\n        \"num_unique_values\": 17,\n        \"samples\": [\n          1.0,\n          2.0\n        ],\n        \"semantic_type\": \"\",\n        \"description\": \"\"\n      }\n    },\n    {\n      \"column\": \"n_bnpl_approved_apps\",\n      \"properties\": {\n        \"dtype\": \"number\",\n        \"std\": 0.6024807754831937,\n        \"min\": 0.0,\n        \"max\": 15.0,\n        \"num_unique_values\": 11,\n        \"samples\": [\n          5.0,\n          0.0\n        ],\n        \"semantic_type\": \"\",\n        \"description\": \"\"\n      }\n    },\n    {\n      \"column\": \"first_bnpl_app_date\",\n      \"properties\": {\n        \"dtype\": \"date\",\n        \"min\": \"2022-01-06 21:17:08.193000\",\n        \"max\": \"2023-05-20 17:15:47\",\n        \"num_unique_values\": 8739,\n        \"samples\": [\n          \"2022-04-30 22:58:19.496000\",\n          \"2022-08-11 03:32:32.305000\"\n        ],\n        \"semantic_type\": \"\",\n        \"description\": \"\"\n      }\n    },\n    {\n      \"column\": \"last_bnpl_app_date\",\n      \"properties\": {\n        \"dtype\": \"date\",\n        \"min\": \"2022-01-06 21:17:08.193000\",\n        \"max\": \"2023-05-17 15:20:48\",\n        \"num_unique_values\": 8739,\n        \"samples\": [\n          \"2022-04-30 22:58:19.496000\",\n          \"2022-08-11 03:32:32.305000\"\n        ],\n        \"semantic_type\": \"\",\n        \"description\": \"\"\n      }\n    },\n    {\n      \"column\": \"n_inquiries_l3m\",\n      \"properties\": {\n        \"dtype\": \"number\",\n        \"std\": 19.69459498863524,\n        \"min\": 0.0,\n        \"max\": 170.0,\n        \"num_unique_values\": 131,\n        \"samples\": [\n          70.0,\n          49.0\n        ],\n        \"semantic_type\": \"\",\n        \"description\": \"\"\n      }\n    },\n    {\n      \"column\": \"n_inquiries_l6m\",\n      \"properties\": {\n        \"dtype\": \"number\",\n        \"std\": 23.22908810713294,\n        \"min\": 0.0,\n        \"max\": 213.0,\n        \"num_unique_values\": 147,\n        \"samples\": [\n          159.0,\n          35.0\n        ],\n        \"semantic_type\": \"\",\n        \"description\": \"\"\n      }\n    }\n  ]\n}"
            }
          },
          "metadata": {},
          "execution_count": 16
        }
      ]
    },
    {
      "cell_type": "code",
      "source": [
        "main_data.columns"
      ],
      "metadata": {
        "colab": {
          "base_uri": "https://localhost:8080/"
        },
        "id": "Itmm81G12oKD",
        "outputId": "5ebc446e-d1a4-478f-cac6-e210ba4fddc5"
      },
      "execution_count": 17,
      "outputs": [
        {
          "output_type": "execute_result",
          "data": {
            "text/plain": [
              "Index(['customer_id', 'loan_id', 'ACC_CREATION_DATETIME',\n",
              "       'APPLICATION_DATETIME', 'LOAN_ORIGINATION_DATETIME', 'max_days_late',\n",
              "       'target', 'account_to_application_days', 'n_sf_apps', 'first_app_date',\n",
              "       'last_app_date', 'n_bnpl_apps', 'n_bnpl_approved_apps',\n",
              "       'first_bnpl_app_date', 'last_bnpl_app_date', 'n_inquiries_l3m',\n",
              "       'n_inquiries_l6m'],\n",
              "      dtype='object')"
            ]
          },
          "metadata": {},
          "execution_count": 17
        }
      ]
    },
    {
      "cell_type": "code",
      "source": [
        "main_data['customer_id'] = main_data['customer_id'].astype(object)"
      ],
      "metadata": {
        "id": "ic8Chn7F4mtU"
      },
      "execution_count": 18,
      "outputs": []
    },
    {
      "cell_type": "code",
      "source": [
        "# Checking the balance of the target variable\n",
        "\n",
        "import seaborn as sns\n",
        "\n",
        "sns.countplot(main_data, x=\"target\")"
      ],
      "metadata": {
        "id": "V7canLOc8vta",
        "colab": {
          "base_uri": "https://localhost:8080/",
          "height": 467
        },
        "outputId": "de24ef78-3200-47a1-af5f-7680713f2a86"
      },
      "execution_count": 19,
      "outputs": [
        {
          "output_type": "execute_result",
          "data": {
            "text/plain": [
              "<Axes: xlabel='target', ylabel='count'>"
            ]
          },
          "metadata": {},
          "execution_count": 19
        },
        {
          "output_type": "display_data",
          "data": {
            "text/plain": [
              "<Figure size 640x480 with 1 Axes>"
            ],
            "image/png": "[encoded data removed]"
          },
          "metadata": {}
        }
      ]
    },
    {
      "cell_type": "code",
      "source": [
        "# Removing columns that will likely not be helpful for the model and may cause overfitting\n",
        "\n",
        "main_data_filtered = main_data[['customer_id', 'max_days_late',\n",
        "       'target', 'account_to_application_days',  'n_bnpl_apps', 'n_bnpl_approved_apps',\n",
        "       'first_bnpl_app_date', 'last_bnpl_app_date',\n",
        "       'n_inquiries_l6m']]"
      ],
      "metadata": {
        "id": "_D0C0tQa1Zej"
      },
      "execution_count": 20,
      "outputs": []
    },
    {
      "cell_type": "code",
      "source": [
        "main_data_filtered.dtypes"
      ],
      "metadata": {
        "colab": {
          "base_uri": "https://localhost:8080/"
        },
        "id": "LGazSXwHNG-V",
        "outputId": "e5b8d64b-471a-4363-ee9c-e08e458c743c"
      },
      "execution_count": 21,
      "outputs": [
        {
          "output_type": "execute_result",
          "data": {
            "text/plain": [
              "customer_id                            object\n",
              "max_days_late                           int64\n",
              "target                                  int64\n",
              "account_to_application_days             int64\n",
              "n_bnpl_apps                           float64\n",
              "n_bnpl_approved_apps                  float64\n",
              "first_bnpl_app_date            datetime64[us]\n",
              "last_bnpl_app_date             datetime64[us]\n",
              "n_inquiries_l6m                       float64\n",
              "dtype: object"
            ]
          },
          "metadata": {},
          "execution_count": 21
        }
      ]
    },
    {
      "cell_type": "code",
      "source": [
        "# There seems to be a standardization issue (shouldn't they all be positive?)\n",
        "\n",
        "main_data_filtered['max_days_late'].unique()"
      ],
      "metadata": {
        "colab": {
          "base_uri": "https://localhost:8080/"
        },
        "id": "A8a4a3RD5c--",
        "outputId": "6d29842c-097f-4610-ecee-854756ed7370"
      },
      "execution_count": 24,
      "outputs": [
        {
          "output_type": "execute_result",
          "data": {
            "text/plain": [
              "array([ 5,  2,  4,  7,  0,  8,  1, 55, 63,  3, 49, 70, -1,  6, 39, 42, 13,\n",
              "       33, 28, 31, 12, 11, 35, 69, 21, 22, 16, 48, 10, 14, -4, 34, 17, 62,\n",
              "       -3,  9, -2, 41, 25, 15, 56, 19, 27, 23, 18, 29, 20, 24, 32, 38, -7,\n",
              "       52, 37, 60, 54, 30, 50, 46, -5, 43, 26, 53, 47, 51, 44, 40, 36, 45,\n",
              "       66, 59, 67, 58, 57, -6, 64, 68, 61])"
            ]
          },
          "metadata": {},
          "execution_count": 24
        }
      ]
    },
    {
      "cell_type": "code",
      "source": [
        "# Changing to absolute numbers of the values\n",
        "\n",
        "main_data_filtered['max_days_late'] = main_data_filtered['max_days_late'].abs()"
      ],
      "metadata": {
        "colab": {
          "base_uri": "https://localhost:8080/"
        },
        "id": "gEKSskVOPWCs",
        "outputId": "50b3bf95-774f-45c5-dd19-d345a8a49751"
      },
      "execution_count": 25,
      "outputs": [
        {
          "output_type": "stream",
          "name": "stderr",
          "text": [
            "<ipython-input-25-fc4440fc1249>:3: SettingWithCopyWarning: \n",
            "A value is trying to be set on a copy of a slice from a DataFrame.\n",
            "Try using .loc[row_indexer,col_indexer] = value instead\n",
            "\n",
            "See the caveats in the documentation: https://pandas.pydata.org/pandas-docs/stable/user_guide/indexing.html#returning-a-view-versus-a-copy\n",
            "  main_data_filtered['max_days_late'] = main_data_filtered['max_days_late'].abs()\n"
          ]
        }
      ]
    },
    {
      "cell_type": "code",
      "source": [
        "# Using a correlation matrix to identify multicolinearity and idenitfy which features are more high associated with target variable\n",
        "import seaborn as sns\n",
        "import matplotlib.pyplot as plt\n",
        "\n",
        "# Compute the correlation matrix\n",
        "correlation_matrix = main_data_filtered.corr()\n",
        "\n",
        "# Set up the matplotlib figure\n",
        "plt.figure(figsize=(10, 8))\n",
        "\n",
        "# Create a heatmap with annotations\n",
        "sns.heatmap(correlation_matrix, annot=True, cmap='coolwarm', fmt=\".2f\", linewidths=0.5)\n",
        "\n",
        "# Add title and show plot\n",
        "plt.title('Correlation Matrix')\n",
        "plt.show()\n"
      ],
      "metadata": {
        "id": "nWuDpdrE7QTt",
        "colab": {
          "base_uri": "https://localhost:8080/",
          "height": 885
        },
        "outputId": "fc028bc1-0744-444e-a5bf-04aff66e5c78"
      },
      "execution_count": 26,
      "outputs": [
        {
          "output_type": "display_data",
          "data": {
            "text/plain": [
              "<Figure size 1000x800 with 2 Axes>"
            ],
            "image/png": "[encoded data removed]"
          },
          "metadata": {}
        }
      ]
    },
    {
      "cell_type": "code",
      "source": [
        "# Removing first_bnpl_app_date and last_bnpl_app_date because they are too highly correlated with account_to_application_days\n",
        "\n",
        "main_data_filtered = main_data_filtered[['customer_id', 'max_days_late',\n",
        "       'target', 'account_to_application_days',  'n_bnpl_apps', 'n_bnpl_approved_apps',\n",
        "       'n_inquiries_l6m']]"
      ],
      "metadata": {
        "id": "F3d0NQic4HWj"
      },
      "execution_count": 27,
      "outputs": []
    },
    {
      "cell_type": "markdown",
      "source": [
        "#3. Combining of data frames"
      ],
      "metadata": {
        "id": "nLfdpiAA6yUL"
      }
    },
    {
      "cell_type": "code",
      "source": [
        "# Merge datasets on 'customer_id'\n",
        "merged_data = pd.merge(main_data_filtered, credit_reports_filtered , on='customer_id', how='inner')"
      ],
      "metadata": {
        "id": "00OyY-Dm6ys0"
      },
      "execution_count": 28,
      "outputs": []
    },
    {
      "cell_type": "code",
      "source": [
        "merged_data.head()"
      ],
      "metadata": {
        "id": "CBsK19166yv9",
        "colab": {
          "base_uri": "https://localhost:8080/",
          "height": 313
        },
        "outputId": "d82cb25a-c659-44d8-898e-368e5aa7625c"
      },
      "execution_count": 29,
      "outputs": [
        {
          "output_type": "execute_result",
          "data": {
            "text/plain": [
              "  customer_id  max_days_late  target  account_to_application_days  \\\n",
              "0        1223              5       0                          245   \n",
              "1        1223              5       0                          245   \n",
              "2        1223              5       0                          245   \n",
              "3        1223              5       0                          245   \n",
              "4        1223              5       0                          245   \n",
              "\n",
              "   n_bnpl_apps  n_bnpl_approved_apps  n_inquiries_l6m  CREDIT_LIMIT  \\\n",
              "0          1.0                   0.0             91.0           0.0   \n",
              "1          1.0                   0.0             91.0        2200.0   \n",
              "2          1.0                   0.0             91.0        2200.0   \n",
              "3          1.0                   0.0             91.0        2500.0   \n",
              "4          1.0                   0.0             91.0        2500.0   \n",
              "\n",
              "   PAYMENT_AMOUNT  ACTIVE_LOANS_COUNT PAYMENT_FREQUENCY        CREDIT_TYPE  \\\n",
              "0             0.0                  29           MENSUAL   LINEA DE CREDITO   \n",
              "1             0.0                  29           MENSUAL  PRESTAMO PERSONAL   \n",
              "2             0.0                  29           MENSUAL  PRESTAMO PERSONAL   \n",
              "3             0.0                  29           MENSUAL  PRESTAMO PERSONAL   \n",
              "4             0.0                  29           MENSUAL  PRESTAMO PERSONAL   \n",
              "\n",
              "    RESPONSABILITY_TYPE  TOTAL_PAYMENTS  DELAYED_PAYMENTS  BALANCE_DUE  \\\n",
              "0  INDIVIDUAL (TITULAR)             NaN               0.0          0.0   \n",
              "1  INDIVIDUAL (TITULAR)             1.0               0.0          0.0   \n",
              "2  INDIVIDUAL (TITULAR)             1.0               0.0          0.0   \n",
              "3  INDIVIDUAL (TITULAR)             1.0               0.0          0.0   \n",
              "4  INDIVIDUAL (TITULAR)             1.0               0.0          0.0   \n",
              "\n",
              "   CURRENT_BALANCE  MAX_CREDIT  \n",
              "0              0.0      3000.0  \n",
              "1              0.0       500.0  \n",
              "2              0.0      1100.0  \n",
              "3              0.0      1700.0  \n",
              "4              0.0      1800.0  "
            ],
            "text/html": [
              "\n",
              "  <div id=\"df-1c37e0c2-a609-44b3-900f-f6db758b1f15\" class=\"colab-df-container\">\n",
              "    <div>\n",
              "<style scoped>\n",
              "    .dataframe tbody tr th:only-of-type {\n",
              "        vertical-align: middle;\n",
              "    }\n",
              "\n",
              "    .dataframe tbody tr th {\n",
              "        vertical-align: top;\n",
              "    }\n",
              "\n",
              "    .dataframe thead th {\n",
              "        text-align: right;\n",
              "    }\n",
              "</style>\n",
              "<table border=\"1\" class=\"dataframe\">\n",
              "  <thead>\n",
              "    <tr style=\"text-align: right;\">\n",
              "      <th></th>\n",
              "      <th>customer_id</th>\n",
              "      <th>max_days_late</th>\n",
              "      <th>target</th>\n",
              "      <th>account_to_application_days</th>\n",
              "      <th>n_bnpl_apps</th>\n",
              "      <th>n_bnpl_approved_apps</th>\n",
              "      <th>n_inquiries_l6m</th>\n",
              "      <th>CREDIT_LIMIT</th>\n",
              "      <th>PAYMENT_AMOUNT</th>\n",
              "      <th>ACTIVE_LOANS_COUNT</th>\n",
              "      <th>PAYMENT_FREQUENCY</th>\n",
              "      <th>CREDIT_TYPE</th>\n",
              "      <th>RESPONSABILITY_TYPE</th>\n",
              "      <th>TOTAL_PAYMENTS</th>\n",
              "      <th>DELAYED_PAYMENTS</th>\n",
              "      <th>BALANCE_DUE</th>\n",
              "      <th>CURRENT_BALANCE</th>\n",
              "      <th>MAX_CREDIT</th>\n",
              "    </tr>\n",
              "  </thead>\n",
              "  <tbody>\n",
              "    <tr>\n",
              "      <th>0</th>\n",
              "      <td>1223</td>\n",
              "      <td>5</td>\n",
              "      <td>0</td>\n",
              "      <td>245</td>\n",
              "      <td>1.0</td>\n",
              "      <td>0.0</td>\n",
              "      <td>91.0</td>\n",
              "      <td>0.0</td>\n",
              "      <td>0.0</td>\n",
              "      <td>29</td>\n",
              "      <td>MENSUAL</td>\n",
              "      <td>LINEA DE CREDITO</td>\n",
              "      <td>INDIVIDUAL (TITULAR)</td>\n",
              "      <td>NaN</td>\n",
              "      <td>0.0</td>\n",
              "      <td>0.0</td>\n",
              "      <td>0.0</td>\n",
              "      <td>3000.0</td>\n",
              "    </tr>\n",
              "    <tr>\n",
              "      <th>1</th>\n",
              "      <td>1223</td>\n",
              "      <td>5</td>\n",
              "      <td>0</td>\n",
              "      <td>245</td>\n",
              "      <td>1.0</td>\n",
              "      <td>0.0</td>\n",
              "      <td>91.0</td>\n",
              "      <td>2200.0</td>\n",
              "      <td>0.0</td>\n",
              "      <td>29</td>\n",
              "      <td>MENSUAL</td>\n",
              "      <td>PRESTAMO PERSONAL</td>\n",
              "      <td>INDIVIDUAL (TITULAR)</td>\n",
              "      <td>1.0</td>\n",
              "      <td>0.0</td>\n",
              "      <td>0.0</td>\n",
              "      <td>0.0</td>\n",
              "      <td>500.0</td>\n",
              "    </tr>\n",
              "    <tr>\n",
              "      <th>2</th>\n",
              "      <td>1223</td>\n",
              "      <td>5</td>\n",
              "      <td>0</td>\n",
              "      <td>245</td>\n",
              "      <td>1.0</td>\n",
              "      <td>0.0</td>\n",
              "      <td>91.0</td>\n",
              "      <td>2200.0</td>\n",
              "      <td>0.0</td>\n",
              "      <td>29</td>\n",
              "      <td>MENSUAL</td>\n",
              "      <td>PRESTAMO PERSONAL</td>\n",
              "      <td>INDIVIDUAL (TITULAR)</td>\n",
              "      <td>1.0</td>\n",
              "      <td>0.0</td>\n",
              "      <td>0.0</td>\n",
              "      <td>0.0</td>\n",
              "      <td>1100.0</td>\n",
              "    </tr>\n",
              "    <tr>\n",
              "      <th>3</th>\n",
              "      <td>1223</td>\n",
              "      <td>5</td>\n",
              "      <td>0</td>\n",
              "      <td>245</td>\n",
              "      <td>1.0</td>\n",
              "      <td>0.0</td>\n",
              "      <td>91.0</td>\n",
              "      <td>2500.0</td>\n",
              "      <td>0.0</td>\n",
              "      <td>29</td>\n",
              "      <td>MENSUAL</td>\n",
              "      <td>PRESTAMO PERSONAL</td>\n",
              "      <td>INDIVIDUAL (TITULAR)</td>\n",
              "      <td>1.0</td>\n",
              "      <td>0.0</td>\n",
              "      <td>0.0</td>\n",
              "      <td>0.0</td>\n",
              "      <td>1700.0</td>\n",
              "    </tr>\n",
              "    <tr>\n",
              "      <th>4</th>\n",
              "      <td>1223</td>\n",
              "      <td>5</td>\n",
              "      <td>0</td>\n",
              "      <td>245</td>\n",
              "      <td>1.0</td>\n",
              "      <td>0.0</td>\n",
              "      <td>91.0</td>\n",
              "      <td>2500.0</td>\n",
              "      <td>0.0</td>\n",
              "      <td>29</td>\n",
              "      <td>MENSUAL</td>\n",
              "      <td>PRESTAMO PERSONAL</td>\n",
              "      <td>INDIVIDUAL (TITULAR)</td>\n",
              "      <td>1.0</td>\n",
              "      <td>0.0</td>\n",
              "      <td>0.0</td>\n",
              "      <td>0.0</td>\n",
              "      <td>1800.0</td>\n",
              "    </tr>\n",
              "  </tbody>\n",
              "</table>\n",
              "</div>\n",
              "    <div class=\"colab-df-buttons\">\n",
              "\n",
              "  <div class=\"colab-df-container\">\n",
              "    <button class=\"colab-df-convert\" onclick=\"convertToInteractive('df-1c37e0c2-a609-44b3-900f-f6db758b1f15')\"\n",
              "            title=\"Convert this dataframe to an interactive table.\"\n",
              "            style=\"display:none;\">\n",
              "\n",
              "  <svg xmlns=\"http://www.w3.org/2000/svg\" height=\"24px\" viewBox=\"0 -960 960 960\">\n",
              "    <path d=\"M120-120v-720h720v720H120Zm60-500h600v-160H180v160Zm220 220h160v-160H400v160Zm0 220h160v-160H400v160ZM180-400h160v-160H180v160Zm440 0h160v-160H620v160ZM180-180h160v-160H180v160Zm440 0h160v-160H620v160Z\"/>\n",
              "  </svg>\n",
              "    </button>\n",
              "\n",
              "  <style>\n",
              "    .colab-df-container {\n",
              "      display:flex;\n",
              "      gap: 12px;\n",
              "    }\n",
              "\n",
              "    .colab-df-convert {\n",
              "      background-color: #E8F0FE;\n",
              "      border: none;\n",
              "      border-radius: 50%;\n",
              "      cursor: pointer;\n",
              "      display: none;\n",
              "      fill: #1967D2;\n",
              "      height: 32px;\n",
              "      padding: 0 0 0 0;\n",
              "      width: 32px;\n",
              "    }\n",
              "\n",
              "    .colab-df-convert:hover {\n",
              "      background-color: #E2EBFA;\n",
              "      box-shadow: 0px 1px 2px rgba(60, 64, 67, 0.3), 0px 1px 3px 1px rgba(60, 64, 67, 0.15);\n",
              "      fill: #174EA6;\n",
              "    }\n",
              "\n",
              "    .colab-df-buttons div {\n",
              "      margin-bottom: 4px;\n",
              "    }\n",
              "\n",
              "    [theme=dark] .colab-df-convert {\n",
              "      background-color: #3B4455;\n",
              "      fill: #D2E3FC;\n",
              "    }\n",
              "\n",
              "    [theme=dark] .colab-df-convert:hover {\n",
              "      background-color: #434B5C;\n",
              "      box-shadow: 0px 1px 3px 1px rgba(0, 0, 0, 0.15);\n",
              "      filter: drop-shadow(0px 1px 2px rgba(0, 0, 0, 0.3));\n",
              "      fill: #FFFFFF;\n",
              "    }\n",
              "  </style>\n",
              "\n",
              "    <script>\n",
              "      const buttonEl =\n",
              "        document.querySelector('#df-1c37e0c2-a609-44b3-900f-f6db758b1f15 button.colab-df-convert');\n",
              "      buttonEl.style.display =\n",
              "        google.colab.kernel.accessAllowed ? 'block' : 'none';\n",
              "\n",
              "      async function convertToInteractive(key) {\n",
              "        const element = document.querySelector('#df-1c37e0c2-a609-44b3-900f-f6db758b1f15');\n",
              "        const dataTable =\n",
              "          await google.colab.kernel.invokeFunction('convertToInteractive',\n",
              "                                                    [key], {});\n",
              "        if (!dataTable) return;\n",
              "\n",
              "        const docLinkHtml = 'Like what you see? Visit the ' +\n",
              "          '<a target=\"_blank\" href=https://colab.research.google.com/notebooks/data_table.ipynb>data table notebook</a>'\n",
              "          + ' to learn more about interactive tables.';\n",
              "        element.innerHTML = '';\n",
              "        dataTable['output_type'] = 'display_data';\n",
              "        await google.colab.output.renderOutput(dataTable, element);\n",
              "        const docLink = document.createElement('div');\n",
              "        docLink.innerHTML = docLinkHtml;\n",
              "        element.appendChild(docLink);\n",
              "      }\n",
              "    </script>\n",
              "  </div>\n",
              "\n",
              "\n",
              "<div id=\"df-5cac7478-95d5-4691-81e5-e4d131351a5e\">\n",
              "  <button class=\"colab-df-quickchart\" onclick=\"quickchart('df-5cac7478-95d5-4691-81e5-e4d131351a5e')\"\n",
              "            title=\"Suggest charts\"\n",
              "            style=\"display:none;\">\n",
              "\n",
              "<svg xmlns=\"http://www.w3.org/2000/svg\" height=\"24px\"viewBox=\"0 0 24 24\"\n",
              "     width=\"24px\">\n",
              "    <g>\n",
              "        <path d=\"M19 3H5c-1.1 0-2 .9-2 2v14c0 1.1.9 2 2 2h14c1.1 0 2-.9 2-2V5c0-1.1-.9-2-2-2zM9 17H7v-7h2v7zm4 0h-2V7h2v10zm4 0h-2v-4h2v4z\"/>\n",
              "    </g>\n",
              "</svg>\n",
              "  </button>\n",
              "\n",
              "<style>\n",
              "  .colab-df-quickchart {\n",
              "      --bg-color: #E8F0FE;\n",
              "      --fill-color: #1967D2;\n",
              "      --hover-bg-color: #E2EBFA;\n",
              "      --hover-fill-color: #174EA6;\n",
              "      --disabled-fill-color: #AAA;\n",
              "      --disabled-bg-color: #DDD;\n",
              "  }\n",
              "\n",
              "  [theme=dark] .colab-df-quickchart {\n",
              "      --bg-color: #3B4455;\n",
              "      --fill-color: #D2E3FC;\n",
              "      --hover-bg-color: #434B5C;\n",
              "      --hover-fill-color: #FFFFFF;\n",
              "      --disabled-bg-color: #3B4455;\n",
              "      --disabled-fill-color: #666;\n",
              "  }\n",
              "\n",
              "  .colab-df-quickchart {\n",
              "    background-color: var(--bg-color);\n",
              "    border: none;\n",
              "    border-radius: 50%;\n",
              "    cursor: pointer;\n",
              "    display: none;\n",
              "    fill: var(--fill-color);\n",
              "    height: 32px;\n",
              "    padding: 0;\n",
              "    width: 32px;\n",
              "  }\n",
              "\n",
              "  .colab-df-quickchart:hover {\n",
              "    background-color: var(--hover-bg-color);\n",
              "    box-shadow: 0 1px 2px rgba(60, 64, 67, 0.3), 0 1px 3px 1px rgba(60, 64, 67, 0.15);\n",
              "    fill: var(--button-hover-fill-color);\n",
              "  }\n",
              "\n",
              "  .colab-df-quickchart-complete:disabled,\n",
              "  .colab-df-quickchart-complete:disabled:hover {\n",
              "    background-color: var(--disabled-bg-color);\n",
              "    fill: var(--disabled-fill-color);\n",
              "    box-shadow: none;\n",
              "  }\n",
              "\n",
              "  .colab-df-spinner {\n",
              "    border: 2px solid var(--fill-color);\n",
              "    border-color: transparent;\n",
              "    border-bottom-color: var(--fill-color);\n",
              "    animation:\n",
              "      spin 1s steps(1) infinite;\n",
              "  }\n",
              "\n",
              "  @keyframes spin {\n",
              "    0% {\n",
              "      border-color: transparent;\n",
              "      border-bottom-color: var(--fill-color);\n",
              "      border-left-color: var(--fill-color);\n",
              "    }\n",
              "    20% {\n",
              "      border-color: transparent;\n",
              "      border-left-color: var(--fill-color);\n",
              "      border-top-color: var(--fill-color);\n",
              "    }\n",
              "    30% {\n",
              "      border-color: transparent;\n",
              "      border-left-color: var(--fill-color);\n",
              "      border-top-color: var(--fill-color);\n",
              "      border-right-color: var(--fill-color);\n",
              "    }\n",
              "    40% {\n",
              "      border-color: transparent;\n",
              "      border-right-color: var(--fill-color);\n",
              "      border-top-color: var(--fill-color);\n",
              "    }\n",
              "    60% {\n",
              "      border-color: transparent;\n",
              "      border-right-color: var(--fill-color);\n",
              "    }\n",
              "    80% {\n",
              "      border-color: transparent;\n",
              "      border-right-color: var(--fill-color);\n",
              "      border-bottom-color: var(--fill-color);\n",
              "    }\n",
              "    90% {\n",
              "      border-color: transparent;\n",
              "      border-bottom-color: var(--fill-color);\n",
              "    }\n",
              "  }\n",
              "</style>\n",
              "\n",
              "  <script>\n",
              "    async function quickchart(key) {\n",
              "      const quickchartButtonEl =\n",
              "        document.querySelector('#' + key + ' button');\n",
              "      quickchartButtonEl.disabled = true;  // To prevent multiple clicks.\n",
              "      quickchartButtonEl.classList.add('colab-df-spinner');\n",
              "      try {\n",
              "        const charts = await google.colab.kernel.invokeFunction(\n",
              "            'suggestCharts', [key], {});\n",
              "      } catch (error) {\n",
              "        console.error('Error during call to suggestCharts:', error);\n",
              "      }\n",
              "      quickchartButtonEl.classList.remove('colab-df-spinner');\n",
              "      quickchartButtonEl.classList.add('colab-df-quickchart-complete');\n",
              "    }\n",
              "    (() => {\n",
              "      let quickchartButtonEl =\n",
              "        document.querySelector('#df-5cac7478-95d5-4691-81e5-e4d131351a5e button');\n",
              "      quickchartButtonEl.style.display =\n",
              "        google.colab.kernel.accessAllowed ? 'block' : 'none';\n",
              "    })();\n",
              "  </script>\n",
              "</div>\n",
              "\n",
              "    </div>\n",
              "  </div>\n"
            ],
            "application/vnd.google.colaboratory.intrinsic+json": {
              "type": "dataframe",
              "variable_name": "merged_data"
            }
          },
          "metadata": {},
          "execution_count": 29
        }
      ]
    },
    {
      "cell_type": "markdown",
      "source": [
        "# 4. Creating model\n",
        "\n"
      ],
      "metadata": {
        "id": "GacC4dSk7zh6"
      }
    },
    {
      "cell_type": "code",
      "source": [
        "# Data engineering more columns\n",
        "import numpy as np\n",
        "\n",
        "# Calculating Approval Rate Ratio\n",
        "merged_data['approval_rate'] = merged_data['n_bnpl_approved_apps'] / merged_data['n_bnpl_apps']\n",
        "\n",
        "# Calculating Late Payment Ratio\n",
        "merged_data['late_payment_ratio'] = merged_data['DELAYED_PAYMENTS'] / merged_data['TOTAL_PAYMENTS']\n",
        "# Dealing with inf\n",
        "merged_data['late_payment_ratio'].replace([np.inf, -np.inf], np.nan, inplace=True)\n",
        "\n",
        "# Calculating Payment-to-Balance Ratio\n",
        "# Removed because 'CURRENT_PAYMENT' column doesn't appear to be what I thought it was\n",
        "# merged_data['payment_to_balance_ratio'] = merged_data['CURRENT_PAYMENT'] / merged_data['CURRENT_BALANCE']\n",
        "\n",
        "# Calculating Credit Utilization Ratio\n",
        "merged_data['credit_utilization'] = merged_data['CURRENT_BALANCE'] / merged_data['MAX_CREDIT']\n",
        "# Dealing with inf\n",
        "merged_data['credit_utilization'].replace([np.inf, -np.inf], np.nan, inplace=True)\n",
        "\n",
        "#Calculating days between first and last application\n",
        "# Removed because if it's a person's first time applying, this will be 0 which may create a bias in the algorithm\n",
        "# merged_data['days_btw_apps'] = (merged_data['first_bnpl_app_date'] - merged_data['last_bnpl_app_date']).dt.days\n"
      ],
      "metadata": {
        "id": "1fpumu0JAXb4"
      },
      "execution_count": 30,
      "outputs": []
    },
    {
      "cell_type": "code",
      "source": [
        "merged_data.isnull().sum()"
      ],
      "metadata": {
        "colab": {
          "base_uri": "https://localhost:8080/"
        },
        "id": "82bKxv6N-A-m",
        "outputId": "67c36028-faf1-4e83-a0f3-5facb5894b43"
      },
      "execution_count": 31,
      "outputs": [
        {
          "output_type": "execute_result",
          "data": {
            "text/plain": [
              "customer_id                        0\n",
              "max_days_late                      0\n",
              "target                             0\n",
              "account_to_application_days        0\n",
              "n_bnpl_apps                    20212\n",
              "n_bnpl_approved_apps           20212\n",
              "n_inquiries_l6m                 1700\n",
              "CREDIT_LIMIT                    8357\n",
              "PAYMENT_AMOUNT                    89\n",
              "ACTIVE_LOANS_COUNT                 0\n",
              "PAYMENT_FREQUENCY                 89\n",
              "CREDIT_TYPE                       89\n",
              "RESPONSABILITY_TYPE               89\n",
              "TOTAL_PAYMENTS                 18645\n",
              "DELAYED_PAYMENTS                  89\n",
              "BALANCE_DUE                       89\n",
              "CURRENT_BALANCE                   89\n",
              "MAX_CREDIT                       182\n",
              "approval_rate                  20212\n",
              "late_payment_ratio             53766\n",
              "credit_utilization              8439\n",
              "dtype: int64"
            ]
          },
          "metadata": {},
          "execution_count": 31
        }
      ]
    },
    {
      "cell_type": "code",
      "source": [
        "# Dropping missing values, if accuracy is too low after this, will use KNN imputer instead\n",
        "\n",
        "merged_data.dropna(inplace=True)"
      ],
      "metadata": {
        "id": "zYkWQYwk-EtD"
      },
      "execution_count": 32,
      "outputs": []
    },
    {
      "cell_type": "code",
      "source": [
        "merged_data.duplicated().sum()"
      ],
      "metadata": {
        "colab": {
          "base_uri": "https://localhost:8080/"
        },
        "id": "sELMqwMnttvO",
        "outputId": "fea47729-92bd-4815-b703-b20ee0a8d5d8"
      },
      "execution_count": 34,
      "outputs": [
        {
          "output_type": "execute_result",
          "data": {
            "text/plain": [
              "31449"
            ]
          },
          "metadata": {},
          "execution_count": 34
        }
      ]
    },
    {
      "cell_type": "code",
      "source": [
        "# Dropping duplicates to reduce the chance of over-fitting\n",
        "\n",
        "merged_data.drop_duplicates(inplace=True)"
      ],
      "metadata": {
        "id": "9kG3tgo_uQjy"
      },
      "execution_count": 35,
      "outputs": []
    },
    {
      "cell_type": "code",
      "source": [
        "merged_data.shape"
      ],
      "metadata": {
        "colab": {
          "base_uri": "https://localhost:8080/"
        },
        "id": "l8C-png2-LeH",
        "outputId": "c5451e20-1410-495c-e9ff-262877063fe3"
      },
      "execution_count": 36,
      "outputs": [
        {
          "output_type": "execute_result",
          "data": {
            "text/plain": [
              "(177552, 21)"
            ]
          },
          "metadata": {},
          "execution_count": 36
        }
      ]
    },
    {
      "cell_type": "code",
      "source": [
        "# Identifying features and target variable\n",
        "\n",
        "X = merged_data[['max_days_late', 'account_to_application_days',\n",
        "       'n_inquiries_l6m', 'CREDIT_LIMIT', 'ACTIVE_LOANS_COUNT',\n",
        "       'approval_rate', 'late_payment_ratio',\n",
        "       'credit_utilization','PAYMENT_FREQUENCY', 'CREDIT_TYPE','TOTAL_PAYMENTS', 'DELAYED_PAYMENTS', 'BALANCE_DUE', 'CURRENT_BALANCE',\n",
        "       'MAX_CREDIT', 'RESPONSABILITY_TYPE',]]\n",
        "\n",
        "y = merged_data[['target']]"
      ],
      "metadata": {
        "id": "aij8H6ED6q0g"
      },
      "execution_count": 37,
      "outputs": []
    },
    {
      "cell_type": "code",
      "source": [
        "import pandas as pd\n",
        "\n",
        "# Get dummies\n",
        "X_encoded = pd.get_dummies(X, dtype=int)\n"
      ],
      "metadata": {
        "id": "k8yVI5Ja8YIo"
      },
      "execution_count": 38,
      "outputs": []
    },
    {
      "cell_type": "code",
      "source": [
        "import numpy as np\n",
        "import pandas as pd\n",
        "from sklearn.model_selection import train_test_split, KFold\n",
        "from sklearn.preprocessing import StandardScaler\n",
        "from sklearn.ensemble import RandomForestClassifier\n",
        "from sklearn.metrics import accuracy_score, confusion_matrix\n",
        "from imblearn.over_sampling import RandomOverSampler\n",
        "from sklearn.metrics import accuracy_score, confusion_matrix, classification_report\n",
        "\n",
        "# Oversample the minority class (which in this case is those with a target variable of 1)\n",
        "oversampler = RandomOverSampler(random_state=42)\n",
        "X_resampled, y_resampled = oversampler.fit_resample(X_encoded, y)\n",
        "\n",
        "# Scale features to reduce variance\n",
        "scaler = StandardScaler()\n",
        "X_scaled = scaler.fit_transform(X_resampled)\n",
        "\n",
        "# Define number of folds\n",
        "k = 2\n",
        "\n",
        "# Initialize KFold\n",
        "kf = KFold(n_splits=k)\n",
        "\n",
        "# Lists to store evaluation results\n",
        "accuracies = []\n",
        "confusion_matrices = []\n",
        "precision_list = []\n",
        "recall_list = []\n",
        "f1_score_list = []\n",
        "support_list = []\n",
        "\n",
        "# Iterate over folds\n",
        "for train_index, test_index in kf.split(X_scaled):\n",
        "    # Split data into training and testing sets\n",
        "    X_train, X_test = X_scaled[train_index], X_scaled[test_index]\n",
        "    y_train, y_test = y_resampled.iloc[train_index], y_resampled.iloc[test_index]\n",
        "\n",
        "    y_train = np.ravel(y_train)  # Reshape y_train to 1d array\n",
        "    y_test = np.ravel(y_test)  # Reshape y_test to 1d array\n",
        "\n",
        "    # Choose algorithm for binary classification\n",
        "    model = RandomForestClassifier(n_estimators=3, random_state=42)\n",
        "\n",
        "    # Train model\n",
        "    model.fit(X_train, y_train)\n",
        "\n",
        "    # Predict on test set\n",
        "    y_pred = model.predict(X_test)\n",
        "\n",
        "    # Evaluate model\n",
        "    accuracy = accuracy_score(y_test, y_pred)\n",
        "    accuracies.append(accuracy)\n",
        "\n",
        "    confusion_matrix_arr = confusion_matrix(y_test, y_pred)\n",
        "    confusion_matrices.append(confusion_matrix_arr)\n",
        "\n",
        "    # Generate classification report\n",
        "    report_dict = classification_report(y_test, y_pred, output_dict=True)\n",
        "\n",
        "    # Extract relevant metrics\n",
        "    precision_list.append(report_dict['macro avg']['precision'])\n",
        "    recall_list.append(report_dict['macro avg']['recall'])\n",
        "    f1_score_list.append(report_dict['macro avg']['f1-score'])\n",
        "    support_list.append(report_dict['macro avg']['support'])\n",
        "\n",
        "# Calculate average metrics over all folds\n",
        "avg_accuracy = sum(accuracies) / k\n",
        "avg_confusion_matrix = sum(confusion_matrices) / k\n",
        "\n",
        "# Calculate average metrics over all folds\n",
        "avg_precision = np.mean(precision_list)\n",
        "avg_recall = np.mean(recall_list)\n",
        "avg_f1_score = np.mean(f1_score_list)\n",
        "avg_support = np.mean(support_list)\n",
        "\n",
        "# Print average evaluation metrics\n",
        "print(\"Average Accuracy:\", avg_accuracy)\n",
        "print(\"Average Precision:\", avg_precision)\n",
        "print(\"Average Recall:\", avg_recall)\n",
        "print(\"Average F1-score:\", avg_f1_score)\n",
        "print(\"Average Support:\", avg_support)\n",
        "print(\"Average Confusion Matrix:\")\n",
        "print(avg_confusion_matrix)"
      ],
      "metadata": {
        "colab": {
          "base_uri": "https://localhost:8080/"
        },
        "id": "csux-kequbGv",
        "outputId": "0eaf8411-00e9-412e-cf5c-98aa4128944d"
      },
      "execution_count": 40,
      "outputs": [
        {
          "output_type": "stream",
          "name": "stdout",
          "text": [
            "Average Accuracy: 0.9976119504098638\n",
            "Average Precision: 0.9932670372983912\n",
            "Average Recall: 0.9985495117960204\n",
            "Average F1-score: 0.9958602694916332\n",
            "Average Support: 147610.0\n",
            "Average Confusion Matrix:\n",
            "[[73452.5   352.5]\n",
            " [    0.  73805. ]]\n"
          ]
        }
      ]
    },
    {
      "cell_type": "markdown",
      "source": [
        "Even though I implemented a k-folds evaluation metric, there's still a slight possibility that the model is  overfitting. Given more time, I would use KNNImputer to address null values instead of simply discarding them. This would allow for the retention of more data, likely enhancing the model's performance and robustness."
      ],
      "metadata": {
        "id": "RsFSUlNeMlVW"
      }
    },
    {
      "cell_type": "markdown",
      "source": [
        "# 5. Recommendations and Proposals for Interest Rate Assignment\n",
        "\n",
        "Utilize the predictions from the primary model developed to determine loan approval decisions for customers. Integrate these predictions into a secondary model that incorporates additional data, including regulatory requirements, market conditions, and business considerations.\n",
        "\n",
        "\n",
        "The secondary model should predict the probability of defaulting on a given loan.\n",
        "\n",
        "\n",
        "Nest, assign probability thresholds to categorize members into different risk categories, such as low risk, medium risk, and high risk. Additional risk categories can be added based on specific business needs and risk tolerance.\n",
        "\n",
        "Based on the assigned risk categories, members are then assigned interest rates accordingly. For instance, individuals with a higher probability of defaulting (classified as high-risk) may be offered loans with higher interest rates to offset the increased risk.\n",
        "\n",
        "Consider implementing a human verification step in the workflow to increase decision-making accuracy. For example, members categorized as medium risk could undergo secondary review by a representative who conducts a holistic analysis of their portfolio. This review process ensures that decisions are made with consideration of individual circumstances and potential mitigating factors.\n",
        "\n",
        "By integrating predictive modeling with human expertise, we can optimize interest rate assignment strategies to effectively manage risk while meeting regulatory requirements and business objectives."
      ],
      "metadata": {
        "id": "JdpIcsjrsftb"
      }
    }
  ]
}
